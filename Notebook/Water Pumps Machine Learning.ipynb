{
 "cells": [
  {
   "cell_type": "markdown",
   "metadata": {},
   "source": [
    "# Tanzania water pumps project : Machine Learning"
   ]
  },
  {
   "cell_type": "code",
   "execution_count": 1,
   "metadata": {
    "collapsed": true
   },
   "outputs": [],
   "source": [
    "import numpy as np\n",
    "import pandas as pd\n",
    "from sklearn.preprocessing import MinMaxScaler\n",
    "from sklearn.model_selection import train_test_split, StratifiedKFold\n",
    "from sklearn.metrics import confusion_matrix, f1_score, log_loss\n",
    "from scipy.stats import kendalltau, spearmanr\n",
    "from sklearn.multiclass import OneVsRestClassifier\n",
    "from sklearn.linear_model import LogisticRegression\n",
    "from sklearn.svm import SVC\n",
    "from sklearn.ensemble import RandomForestClassifier, AdaBoostClassifier\n",
    "from sklearn.neighbors import KNeighborsClassifier\n",
    "from sklearn.naive_bayes import MultinomialNB\n",
    "import matplotlib.pyplot as plt\n",
    "plt.style.use('ggplot')"
   ]
  },
  {
   "cell_type": "code",
   "execution_count": 2,
   "metadata": {
    "collapsed": true
   },
   "outputs": [],
   "source": [
    "clean_df = pd.read_csv('../Data/Clean_DF.csv', index_col='id')"
   ]
  },
  {
   "cell_type": "code",
   "execution_count": 3,
   "metadata": {
    "scrolled": false
   },
   "outputs": [
    {
     "name": "stdout",
     "output_type": "stream",
     "text": [
      "<class 'pandas.core.frame.DataFrame'>\n",
      "Int64Index: 59400 entries, 69572 to 26348\n",
      "Data columns (total 23 columns):\n",
      "amount_tsh               59400 non-null float64\n",
      "funder                   59400 non-null object\n",
      "gps_height               59400 non-null int64\n",
      "installer                59400 non-null object\n",
      "longitude                59400 non-null float64\n",
      "latitude                 59400 non-null float64\n",
      "basin                    59400 non-null object\n",
      "region                   59400 non-null object\n",
      "district_code            59400 non-null int64\n",
      "lga                      59400 non-null object\n",
      "ward                     59400 non-null object\n",
      "population               59400 non-null int64\n",
      "public_meeting           59400 non-null bool\n",
      "permit                   59400 non-null bool\n",
      "construction_year        59400 non-null float64\n",
      "extraction_type_class    59400 non-null object\n",
      "management               59400 non-null object\n",
      "payment                  59400 non-null object\n",
      "quality_group            59400 non-null object\n",
      "quantity                 59400 non-null object\n",
      "source_type              59400 non-null object\n",
      "waterpoint_type_group    59400 non-null object\n",
      "status_group             59400 non-null object\n",
      "dtypes: bool(2), float64(4), int64(3), object(14)\n",
      "memory usage: 10.1+ MB\n"
     ]
    }
   ],
   "source": [
    "clean_df.info()"
   ]
  },
  {
   "cell_type": "markdown",
   "metadata": {},
   "source": [
    "## Categorize columns"
   ]
  },
  {
   "cell_type": "code",
   "execution_count": 4,
   "metadata": {
    "collapsed": true
   },
   "outputs": [],
   "source": [
    "X = pd.DataFrame()\n",
    "# These categories are not ordered\n",
    "col_to_cat=['funder','installer','basin','region','district_code','lga','ward',\n",
    "            'extraction_type_class','management','source_type','waterpoint_type_group']\n",
    "for col in col_to_cat:\n",
    "    X[col] = clean_df[col].astype('category').cat.codes\n",
    "\n",
    "# These categories are ordered\n",
    "payment_type = pd.CategoricalDtype(categories=['other','never pay','pay when scheme fails',\n",
    "                                               'pay annually','pay monthly','pay per bucket'],\n",
    "                                   ordered=True)\n",
    "X['payment'] = clean_df['payment'].astype(payment_type).cat.codes\n",
    "\n",
    "quality_group_type = pd.CategoricalDtype(categories=['unknown','fluoride','salty','colored',\n",
    "                                                     'milky','good'], ordered=True)\n",
    "X['quality_group'] = clean_df['quality_group'].astype(quality_group_type).cat.codes\n",
    "\n",
    "quantity_type = pd.CategoricalDtype(categories=['unknown','dry','insufficient','seasonal',\n",
    "                                                'enough'], ordered=True)\n",
    "X['quantity'] = clean_df['quantity'].astype(quantity_type).cat.codes"
   ]
  },
  {
   "cell_type": "code",
   "execution_count": 5,
   "metadata": {
    "collapsed": true
   },
   "outputs": [],
   "source": [
    "X = pd.concat([X, clean_df[['public_meeting','permit']]], axis='columns')"
   ]
  },
  {
   "cell_type": "markdown",
   "metadata": {},
   "source": [
    "## Scale numeric columns"
   ]
  },
  {
   "cell_type": "code",
   "execution_count": 6,
   "metadata": {
    "collapsed": true
   },
   "outputs": [],
   "source": [
    "col_numeric = ['amount_tsh','gps_height','longitude','latitude','population','construction_year']"
   ]
  },
  {
   "cell_type": "code",
   "execution_count": 7,
   "metadata": {
    "collapsed": true
   },
   "outputs": [],
   "source": [
    "# Scale columns using MinMax scaler to have only positive values\n",
    "s = MinMaxScaler()\n",
    "scaled_array = s.fit_transform(clean_df[col_numeric].astype(float))\n",
    "scaled_df = pd.DataFrame(scaled_array, index=clean_df.index, columns=col_numeric)\n",
    "\n",
    "XS = pd.concat([X, scaled_df], axis='columns')"
   ]
  },
  {
   "cell_type": "code",
   "execution_count": 8,
   "metadata": {
    "collapsed": true
   },
   "outputs": [],
   "source": [
    "# X is not scaled\n",
    "X = pd.concat([X, clean_df[col_numeric]], axis='columns')"
   ]
  },
  {
   "cell_type": "code",
   "execution_count": 9,
   "metadata": {},
   "outputs": [
    {
     "name": "stdout",
     "output_type": "stream",
     "text": [
      "<class 'pandas.core.frame.DataFrame'>\n",
      "Int64Index: 59400 entries, 69572 to 26348\n",
      "Data columns (total 22 columns):\n",
      "funder                   59400 non-null int8\n",
      "installer                59400 non-null int8\n",
      "basin                    59400 non-null int8\n",
      "region                   59400 non-null int8\n",
      "district_code            59400 non-null int8\n",
      "lga                      59400 non-null int8\n",
      "ward                     59400 non-null int8\n",
      "extraction_type_class    59400 non-null int8\n",
      "management               59400 non-null int8\n",
      "source_type              59400 non-null int8\n",
      "waterpoint_type_group    59400 non-null int8\n",
      "payment                  59400 non-null int8\n",
      "quality_group            59400 non-null int8\n",
      "quantity                 59400 non-null int8\n",
      "public_meeting           59400 non-null bool\n",
      "permit                   59400 non-null bool\n",
      "amount_tsh               59400 non-null float64\n",
      "gps_height               59400 non-null int64\n",
      "longitude                59400 non-null float64\n",
      "latitude                 59400 non-null float64\n",
      "population               59400 non-null int64\n",
      "construction_year        59400 non-null float64\n",
      "dtypes: bool(2), float64(4), int64(2), int8(14)\n",
      "memory usage: 4.1 MB\n"
     ]
    }
   ],
   "source": [
    "X.info()"
   ]
  },
  {
   "cell_type": "code",
   "execution_count": 10,
   "metadata": {},
   "outputs": [
    {
     "data": {
      "text/html": [
       "<div>\n",
       "<style scoped>\n",
       "    .dataframe tbody tr th:only-of-type {\n",
       "        vertical-align: middle;\n",
       "    }\n",
       "\n",
       "    .dataframe tbody tr th {\n",
       "        vertical-align: top;\n",
       "    }\n",
       "\n",
       "    .dataframe thead th {\n",
       "        text-align: right;\n",
       "    }\n",
       "</style>\n",
       "<table border=\"1\" class=\"dataframe\">\n",
       "  <thead>\n",
       "    <tr style=\"text-align: right;\">\n",
       "      <th></th>\n",
       "      <th>count</th>\n",
       "      <th>mean</th>\n",
       "      <th>std</th>\n",
       "      <th>min</th>\n",
       "      <th>25%</th>\n",
       "      <th>50%</th>\n",
       "      <th>75%</th>\n",
       "      <th>max</th>\n",
       "    </tr>\n",
       "  </thead>\n",
       "  <tbody>\n",
       "    <tr>\n",
       "      <th>funder</th>\n",
       "      <td>59400.0</td>\n",
       "      <td>50.852559</td>\n",
       "      <td>26.907972</td>\n",
       "      <td>0.000000</td>\n",
       "      <td>27.000000</td>\n",
       "      <td>61.000000</td>\n",
       "      <td>66.000000</td>\n",
       "      <td>100.000000</td>\n",
       "    </tr>\n",
       "    <tr>\n",
       "      <th>installer</th>\n",
       "      <td>59400.0</td>\n",
       "      <td>44.419680</td>\n",
       "      <td>24.918253</td>\n",
       "      <td>0.000000</td>\n",
       "      <td>27.000000</td>\n",
       "      <td>33.000000</td>\n",
       "      <td>67.000000</td>\n",
       "      <td>99.000000</td>\n",
       "    </tr>\n",
       "    <tr>\n",
       "      <th>basin</th>\n",
       "      <td>59400.0</td>\n",
       "      <td>4.077172</td>\n",
       "      <td>2.473082</td>\n",
       "      <td>0.000000</td>\n",
       "      <td>2.000000</td>\n",
       "      <td>4.000000</td>\n",
       "      <td>6.000000</td>\n",
       "      <td>8.000000</td>\n",
       "    </tr>\n",
       "    <tr>\n",
       "      <th>region</th>\n",
       "      <td>59400.0</td>\n",
       "      <td>9.835606</td>\n",
       "      <td>5.936892</td>\n",
       "      <td>0.000000</td>\n",
       "      <td>4.000000</td>\n",
       "      <td>10.000000</td>\n",
       "      <td>15.000000</td>\n",
       "      <td>20.000000</td>\n",
       "    </tr>\n",
       "    <tr>\n",
       "      <th>district_code</th>\n",
       "      <td>59400.0</td>\n",
       "      <td>3.867424</td>\n",
       "      <td>2.992263</td>\n",
       "      <td>0.000000</td>\n",
       "      <td>2.000000</td>\n",
       "      <td>3.000000</td>\n",
       "      <td>5.000000</td>\n",
       "      <td>19.000000</td>\n",
       "    </tr>\n",
       "    <tr>\n",
       "      <th>lga</th>\n",
       "      <td>59400.0</td>\n",
       "      <td>60.039882</td>\n",
       "      <td>35.244499</td>\n",
       "      <td>0.000000</td>\n",
       "      <td>30.000000</td>\n",
       "      <td>60.000000</td>\n",
       "      <td>91.000000</td>\n",
       "      <td>124.000000</td>\n",
       "    </tr>\n",
       "    <tr>\n",
       "      <th>ward</th>\n",
       "      <td>59400.0</td>\n",
       "      <td>89.950303</td>\n",
       "      <td>24.057736</td>\n",
       "      <td>0.000000</td>\n",
       "      <td>100.000000</td>\n",
       "      <td>100.000000</td>\n",
       "      <td>100.000000</td>\n",
       "      <td>100.000000</td>\n",
       "    </tr>\n",
       "    <tr>\n",
       "      <th>extraction_type_class</th>\n",
       "      <td>59400.0</td>\n",
       "      <td>1.264663</td>\n",
       "      <td>1.626676</td>\n",
       "      <td>0.000000</td>\n",
       "      <td>0.000000</td>\n",
       "      <td>1.000000</td>\n",
       "      <td>2.000000</td>\n",
       "      <td>6.000000</td>\n",
       "    </tr>\n",
       "    <tr>\n",
       "      <th>management</th>\n",
       "      <td>59400.0</td>\n",
       "      <td>6.329630</td>\n",
       "      <td>1.917857</td>\n",
       "      <td>0.000000</td>\n",
       "      <td>6.000000</td>\n",
       "      <td>6.000000</td>\n",
       "      <td>6.000000</td>\n",
       "      <td>10.000000</td>\n",
       "    </tr>\n",
       "    <tr>\n",
       "      <th>source_type</th>\n",
       "      <td>59400.0</td>\n",
       "      <td>3.970556</td>\n",
       "      <td>2.191798</td>\n",
       "      <td>0.000000</td>\n",
       "      <td>3.000000</td>\n",
       "      <td>5.000000</td>\n",
       "      <td>6.000000</td>\n",
       "      <td>6.000000</td>\n",
       "    </tr>\n",
       "    <tr>\n",
       "      <th>waterpoint_type_group</th>\n",
       "      <td>59400.0</td>\n",
       "      <td>2.056212</td>\n",
       "      <td>1.378937</td>\n",
       "      <td>0.000000</td>\n",
       "      <td>1.000000</td>\n",
       "      <td>1.000000</td>\n",
       "      <td>3.000000</td>\n",
       "      <td>5.000000</td>\n",
       "    </tr>\n",
       "    <tr>\n",
       "      <th>payment</th>\n",
       "      <td>59400.0</td>\n",
       "      <td>2.057694</td>\n",
       "      <td>1.739346</td>\n",
       "      <td>0.000000</td>\n",
       "      <td>1.000000</td>\n",
       "      <td>1.000000</td>\n",
       "      <td>4.000000</td>\n",
       "      <td>5.000000</td>\n",
       "    </tr>\n",
       "    <tr>\n",
       "      <th>quality_group</th>\n",
       "      <td>59400.0</td>\n",
       "      <td>4.535067</td>\n",
       "      <td>1.210590</td>\n",
       "      <td>0.000000</td>\n",
       "      <td>5.000000</td>\n",
       "      <td>5.000000</td>\n",
       "      <td>5.000000</td>\n",
       "      <td>5.000000</td>\n",
       "    </tr>\n",
       "    <tr>\n",
       "      <th>quantity</th>\n",
       "      <td>59400.0</td>\n",
       "      <td>3.053838</td>\n",
       "      <td>1.162179</td>\n",
       "      <td>0.000000</td>\n",
       "      <td>2.000000</td>\n",
       "      <td>4.000000</td>\n",
       "      <td>4.000000</td>\n",
       "      <td>4.000000</td>\n",
       "    </tr>\n",
       "    <tr>\n",
       "      <th>amount_tsh</th>\n",
       "      <td>59400.0</td>\n",
       "      <td>317.650385</td>\n",
       "      <td>2997.574558</td>\n",
       "      <td>0.000000</td>\n",
       "      <td>0.000000</td>\n",
       "      <td>0.000000</td>\n",
       "      <td>20.000000</td>\n",
       "      <td>350000.000000</td>\n",
       "    </tr>\n",
       "    <tr>\n",
       "      <th>gps_height</th>\n",
       "      <td>59400.0</td>\n",
       "      <td>668.297239</td>\n",
       "      <td>693.116350</td>\n",
       "      <td>-90.000000</td>\n",
       "      <td>0.000000</td>\n",
       "      <td>369.000000</td>\n",
       "      <td>1319.250000</td>\n",
       "      <td>2770.000000</td>\n",
       "    </tr>\n",
       "    <tr>\n",
       "      <th>longitude</th>\n",
       "      <td>59400.0</td>\n",
       "      <td>35.089400</td>\n",
       "      <td>2.589767</td>\n",
       "      <td>29.607122</td>\n",
       "      <td>33.234106</td>\n",
       "      <td>34.908743</td>\n",
       "      <td>37.178387</td>\n",
       "      <td>40.345193</td>\n",
       "    </tr>\n",
       "    <tr>\n",
       "      <th>latitude</th>\n",
       "      <td>59400.0</td>\n",
       "      <td>-5.800779</td>\n",
       "      <td>2.808707</td>\n",
       "      <td>-11.649440</td>\n",
       "      <td>-8.540621</td>\n",
       "      <td>-5.021597</td>\n",
       "      <td>-3.357580</td>\n",
       "      <td>-0.998464</td>\n",
       "    </tr>\n",
       "    <tr>\n",
       "      <th>population</th>\n",
       "      <td>59400.0</td>\n",
       "      <td>233.902407</td>\n",
       "      <td>456.126443</td>\n",
       "      <td>1.000000</td>\n",
       "      <td>100.000000</td>\n",
       "      <td>150.000000</td>\n",
       "      <td>215.000000</td>\n",
       "      <td>30500.000000</td>\n",
       "    </tr>\n",
       "    <tr>\n",
       "      <th>construction_year</th>\n",
       "      <td>59400.0</td>\n",
       "      <td>1996.814686</td>\n",
       "      <td>10.065781</td>\n",
       "      <td>1960.000000</td>\n",
       "      <td>1996.000000</td>\n",
       "      <td>1996.814686</td>\n",
       "      <td>2004.000000</td>\n",
       "      <td>2013.000000</td>\n",
       "    </tr>\n",
       "  </tbody>\n",
       "</table>\n",
       "</div>"
      ],
      "text/plain": [
       "                         count         mean          std          min  \\\n",
       "funder                 59400.0    50.852559    26.907972     0.000000   \n",
       "installer              59400.0    44.419680    24.918253     0.000000   \n",
       "basin                  59400.0     4.077172     2.473082     0.000000   \n",
       "region                 59400.0     9.835606     5.936892     0.000000   \n",
       "district_code          59400.0     3.867424     2.992263     0.000000   \n",
       "lga                    59400.0    60.039882    35.244499     0.000000   \n",
       "ward                   59400.0    89.950303    24.057736     0.000000   \n",
       "extraction_type_class  59400.0     1.264663     1.626676     0.000000   \n",
       "management             59400.0     6.329630     1.917857     0.000000   \n",
       "source_type            59400.0     3.970556     2.191798     0.000000   \n",
       "waterpoint_type_group  59400.0     2.056212     1.378937     0.000000   \n",
       "payment                59400.0     2.057694     1.739346     0.000000   \n",
       "quality_group          59400.0     4.535067     1.210590     0.000000   \n",
       "quantity               59400.0     3.053838     1.162179     0.000000   \n",
       "amount_tsh             59400.0   317.650385  2997.574558     0.000000   \n",
       "gps_height             59400.0   668.297239   693.116350   -90.000000   \n",
       "longitude              59400.0    35.089400     2.589767    29.607122   \n",
       "latitude               59400.0    -5.800779     2.808707   -11.649440   \n",
       "population             59400.0   233.902407   456.126443     1.000000   \n",
       "construction_year      59400.0  1996.814686    10.065781  1960.000000   \n",
       "\n",
       "                               25%          50%          75%            max  \n",
       "funder                   27.000000    61.000000    66.000000     100.000000  \n",
       "installer                27.000000    33.000000    67.000000      99.000000  \n",
       "basin                     2.000000     4.000000     6.000000       8.000000  \n",
       "region                    4.000000    10.000000    15.000000      20.000000  \n",
       "district_code             2.000000     3.000000     5.000000      19.000000  \n",
       "lga                      30.000000    60.000000    91.000000     124.000000  \n",
       "ward                    100.000000   100.000000   100.000000     100.000000  \n",
       "extraction_type_class     0.000000     1.000000     2.000000       6.000000  \n",
       "management                6.000000     6.000000     6.000000      10.000000  \n",
       "source_type               3.000000     5.000000     6.000000       6.000000  \n",
       "waterpoint_type_group     1.000000     1.000000     3.000000       5.000000  \n",
       "payment                   1.000000     1.000000     4.000000       5.000000  \n",
       "quality_group             5.000000     5.000000     5.000000       5.000000  \n",
       "quantity                  2.000000     4.000000     4.000000       4.000000  \n",
       "amount_tsh                0.000000     0.000000    20.000000  350000.000000  \n",
       "gps_height                0.000000   369.000000  1319.250000    2770.000000  \n",
       "longitude                33.234106    34.908743    37.178387      40.345193  \n",
       "latitude                 -8.540621    -5.021597    -3.357580      -0.998464  \n",
       "population              100.000000   150.000000   215.000000   30500.000000  \n",
       "construction_year      1996.000000  1996.814686  2004.000000    2013.000000  "
      ]
     },
     "execution_count": 10,
     "metadata": {},
     "output_type": "execute_result"
    }
   ],
   "source": [
    "X.describe().T"
   ]
  },
  {
   "cell_type": "code",
   "execution_count": 11,
   "metadata": {},
   "outputs": [
    {
     "data": {
      "text/html": [
       "<div>\n",
       "<style scoped>\n",
       "    .dataframe tbody tr th:only-of-type {\n",
       "        vertical-align: middle;\n",
       "    }\n",
       "\n",
       "    .dataframe tbody tr th {\n",
       "        vertical-align: top;\n",
       "    }\n",
       "\n",
       "    .dataframe thead th {\n",
       "        text-align: right;\n",
       "    }\n",
       "</style>\n",
       "<table border=\"1\" class=\"dataframe\">\n",
       "  <thead>\n",
       "    <tr style=\"text-align: right;\">\n",
       "      <th></th>\n",
       "      <th>count</th>\n",
       "      <th>mean</th>\n",
       "      <th>std</th>\n",
       "      <th>min</th>\n",
       "      <th>25%</th>\n",
       "      <th>50%</th>\n",
       "      <th>75%</th>\n",
       "      <th>max</th>\n",
       "    </tr>\n",
       "  </thead>\n",
       "  <tbody>\n",
       "    <tr>\n",
       "      <th>funder</th>\n",
       "      <td>59400.0</td>\n",
       "      <td>50.852559</td>\n",
       "      <td>26.907972</td>\n",
       "      <td>0.0</td>\n",
       "      <td>27.000000</td>\n",
       "      <td>61.000000</td>\n",
       "      <td>66.000000</td>\n",
       "      <td>100.0</td>\n",
       "    </tr>\n",
       "    <tr>\n",
       "      <th>installer</th>\n",
       "      <td>59400.0</td>\n",
       "      <td>44.419680</td>\n",
       "      <td>24.918253</td>\n",
       "      <td>0.0</td>\n",
       "      <td>27.000000</td>\n",
       "      <td>33.000000</td>\n",
       "      <td>67.000000</td>\n",
       "      <td>99.0</td>\n",
       "    </tr>\n",
       "    <tr>\n",
       "      <th>basin</th>\n",
       "      <td>59400.0</td>\n",
       "      <td>4.077172</td>\n",
       "      <td>2.473082</td>\n",
       "      <td>0.0</td>\n",
       "      <td>2.000000</td>\n",
       "      <td>4.000000</td>\n",
       "      <td>6.000000</td>\n",
       "      <td>8.0</td>\n",
       "    </tr>\n",
       "    <tr>\n",
       "      <th>region</th>\n",
       "      <td>59400.0</td>\n",
       "      <td>9.835606</td>\n",
       "      <td>5.936892</td>\n",
       "      <td>0.0</td>\n",
       "      <td>4.000000</td>\n",
       "      <td>10.000000</td>\n",
       "      <td>15.000000</td>\n",
       "      <td>20.0</td>\n",
       "    </tr>\n",
       "    <tr>\n",
       "      <th>district_code</th>\n",
       "      <td>59400.0</td>\n",
       "      <td>3.867424</td>\n",
       "      <td>2.992263</td>\n",
       "      <td>0.0</td>\n",
       "      <td>2.000000</td>\n",
       "      <td>3.000000</td>\n",
       "      <td>5.000000</td>\n",
       "      <td>19.0</td>\n",
       "    </tr>\n",
       "    <tr>\n",
       "      <th>lga</th>\n",
       "      <td>59400.0</td>\n",
       "      <td>60.039882</td>\n",
       "      <td>35.244499</td>\n",
       "      <td>0.0</td>\n",
       "      <td>30.000000</td>\n",
       "      <td>60.000000</td>\n",
       "      <td>91.000000</td>\n",
       "      <td>124.0</td>\n",
       "    </tr>\n",
       "    <tr>\n",
       "      <th>ward</th>\n",
       "      <td>59400.0</td>\n",
       "      <td>89.950303</td>\n",
       "      <td>24.057736</td>\n",
       "      <td>0.0</td>\n",
       "      <td>100.000000</td>\n",
       "      <td>100.000000</td>\n",
       "      <td>100.000000</td>\n",
       "      <td>100.0</td>\n",
       "    </tr>\n",
       "    <tr>\n",
       "      <th>extraction_type_class</th>\n",
       "      <td>59400.0</td>\n",
       "      <td>1.264663</td>\n",
       "      <td>1.626676</td>\n",
       "      <td>0.0</td>\n",
       "      <td>0.000000</td>\n",
       "      <td>1.000000</td>\n",
       "      <td>2.000000</td>\n",
       "      <td>6.0</td>\n",
       "    </tr>\n",
       "    <tr>\n",
       "      <th>management</th>\n",
       "      <td>59400.0</td>\n",
       "      <td>6.329630</td>\n",
       "      <td>1.917857</td>\n",
       "      <td>0.0</td>\n",
       "      <td>6.000000</td>\n",
       "      <td>6.000000</td>\n",
       "      <td>6.000000</td>\n",
       "      <td>10.0</td>\n",
       "    </tr>\n",
       "    <tr>\n",
       "      <th>source_type</th>\n",
       "      <td>59400.0</td>\n",
       "      <td>3.970556</td>\n",
       "      <td>2.191798</td>\n",
       "      <td>0.0</td>\n",
       "      <td>3.000000</td>\n",
       "      <td>5.000000</td>\n",
       "      <td>6.000000</td>\n",
       "      <td>6.0</td>\n",
       "    </tr>\n",
       "    <tr>\n",
       "      <th>waterpoint_type_group</th>\n",
       "      <td>59400.0</td>\n",
       "      <td>2.056212</td>\n",
       "      <td>1.378937</td>\n",
       "      <td>0.0</td>\n",
       "      <td>1.000000</td>\n",
       "      <td>1.000000</td>\n",
       "      <td>3.000000</td>\n",
       "      <td>5.0</td>\n",
       "    </tr>\n",
       "    <tr>\n",
       "      <th>payment</th>\n",
       "      <td>59400.0</td>\n",
       "      <td>2.057694</td>\n",
       "      <td>1.739346</td>\n",
       "      <td>0.0</td>\n",
       "      <td>1.000000</td>\n",
       "      <td>1.000000</td>\n",
       "      <td>4.000000</td>\n",
       "      <td>5.0</td>\n",
       "    </tr>\n",
       "    <tr>\n",
       "      <th>quality_group</th>\n",
       "      <td>59400.0</td>\n",
       "      <td>4.535067</td>\n",
       "      <td>1.210590</td>\n",
       "      <td>0.0</td>\n",
       "      <td>5.000000</td>\n",
       "      <td>5.000000</td>\n",
       "      <td>5.000000</td>\n",
       "      <td>5.0</td>\n",
       "    </tr>\n",
       "    <tr>\n",
       "      <th>quantity</th>\n",
       "      <td>59400.0</td>\n",
       "      <td>3.053838</td>\n",
       "      <td>1.162179</td>\n",
       "      <td>0.0</td>\n",
       "      <td>2.000000</td>\n",
       "      <td>4.000000</td>\n",
       "      <td>4.000000</td>\n",
       "      <td>4.0</td>\n",
       "    </tr>\n",
       "    <tr>\n",
       "      <th>amount_tsh</th>\n",
       "      <td>59400.0</td>\n",
       "      <td>0.000908</td>\n",
       "      <td>0.008564</td>\n",
       "      <td>0.0</td>\n",
       "      <td>0.000000</td>\n",
       "      <td>0.000000</td>\n",
       "      <td>0.000057</td>\n",
       "      <td>1.0</td>\n",
       "    </tr>\n",
       "    <tr>\n",
       "      <th>gps_height</th>\n",
       "      <td>59400.0</td>\n",
       "      <td>0.265139</td>\n",
       "      <td>0.242348</td>\n",
       "      <td>0.0</td>\n",
       "      <td>0.031469</td>\n",
       "      <td>0.160490</td>\n",
       "      <td>0.492745</td>\n",
       "      <td>1.0</td>\n",
       "    </tr>\n",
       "    <tr>\n",
       "      <th>longitude</th>\n",
       "      <td>59400.0</td>\n",
       "      <td>0.510546</td>\n",
       "      <td>0.241176</td>\n",
       "      <td>0.0</td>\n",
       "      <td>0.337769</td>\n",
       "      <td>0.493722</td>\n",
       "      <td>0.705086</td>\n",
       "      <td>1.0</td>\n",
       "    </tr>\n",
       "    <tr>\n",
       "      <th>latitude</th>\n",
       "      <td>59400.0</td>\n",
       "      <td>0.549120</td>\n",
       "      <td>0.263704</td>\n",
       "      <td>0.0</td>\n",
       "      <td>0.291881</td>\n",
       "      <td>0.622276</td>\n",
       "      <td>0.778507</td>\n",
       "      <td>1.0</td>\n",
       "    </tr>\n",
       "    <tr>\n",
       "      <th>population</th>\n",
       "      <td>59400.0</td>\n",
       "      <td>0.007636</td>\n",
       "      <td>0.014955</td>\n",
       "      <td>0.0</td>\n",
       "      <td>0.003246</td>\n",
       "      <td>0.004885</td>\n",
       "      <td>0.007017</td>\n",
       "      <td>1.0</td>\n",
       "    </tr>\n",
       "    <tr>\n",
       "      <th>construction_year</th>\n",
       "      <td>59400.0</td>\n",
       "      <td>0.694617</td>\n",
       "      <td>0.189920</td>\n",
       "      <td>0.0</td>\n",
       "      <td>0.679245</td>\n",
       "      <td>0.694617</td>\n",
       "      <td>0.830189</td>\n",
       "      <td>1.0</td>\n",
       "    </tr>\n",
       "  </tbody>\n",
       "</table>\n",
       "</div>"
      ],
      "text/plain": [
       "                         count       mean        std  min         25%  \\\n",
       "funder                 59400.0  50.852559  26.907972  0.0   27.000000   \n",
       "installer              59400.0  44.419680  24.918253  0.0   27.000000   \n",
       "basin                  59400.0   4.077172   2.473082  0.0    2.000000   \n",
       "region                 59400.0   9.835606   5.936892  0.0    4.000000   \n",
       "district_code          59400.0   3.867424   2.992263  0.0    2.000000   \n",
       "lga                    59400.0  60.039882  35.244499  0.0   30.000000   \n",
       "ward                   59400.0  89.950303  24.057736  0.0  100.000000   \n",
       "extraction_type_class  59400.0   1.264663   1.626676  0.0    0.000000   \n",
       "management             59400.0   6.329630   1.917857  0.0    6.000000   \n",
       "source_type            59400.0   3.970556   2.191798  0.0    3.000000   \n",
       "waterpoint_type_group  59400.0   2.056212   1.378937  0.0    1.000000   \n",
       "payment                59400.0   2.057694   1.739346  0.0    1.000000   \n",
       "quality_group          59400.0   4.535067   1.210590  0.0    5.000000   \n",
       "quantity               59400.0   3.053838   1.162179  0.0    2.000000   \n",
       "amount_tsh             59400.0   0.000908   0.008564  0.0    0.000000   \n",
       "gps_height             59400.0   0.265139   0.242348  0.0    0.031469   \n",
       "longitude              59400.0   0.510546   0.241176  0.0    0.337769   \n",
       "latitude               59400.0   0.549120   0.263704  0.0    0.291881   \n",
       "population             59400.0   0.007636   0.014955  0.0    0.003246   \n",
       "construction_year      59400.0   0.694617   0.189920  0.0    0.679245   \n",
       "\n",
       "                              50%         75%    max  \n",
       "funder                  61.000000   66.000000  100.0  \n",
       "installer               33.000000   67.000000   99.0  \n",
       "basin                    4.000000    6.000000    8.0  \n",
       "region                  10.000000   15.000000   20.0  \n",
       "district_code            3.000000    5.000000   19.0  \n",
       "lga                     60.000000   91.000000  124.0  \n",
       "ward                   100.000000  100.000000  100.0  \n",
       "extraction_type_class    1.000000    2.000000    6.0  \n",
       "management               6.000000    6.000000   10.0  \n",
       "source_type              5.000000    6.000000    6.0  \n",
       "waterpoint_type_group    1.000000    3.000000    5.0  \n",
       "payment                  1.000000    4.000000    5.0  \n",
       "quality_group            5.000000    5.000000    5.0  \n",
       "quantity                 4.000000    4.000000    4.0  \n",
       "amount_tsh               0.000000    0.000057    1.0  \n",
       "gps_height               0.160490    0.492745    1.0  \n",
       "longitude                0.493722    0.705086    1.0  \n",
       "latitude                 0.622276    0.778507    1.0  \n",
       "population               0.004885    0.007017    1.0  \n",
       "construction_year        0.694617    0.830189    1.0  "
      ]
     },
     "execution_count": 11,
     "metadata": {},
     "output_type": "execute_result"
    }
   ],
   "source": [
    "XS.describe().T"
   ]
  },
  {
   "cell_type": "code",
   "execution_count": 12,
   "metadata": {
    "collapsed": true
   },
   "outputs": [],
   "source": [
    "# Label\n",
    "y = pd.Series()\n",
    "labels = ['non functional','functional needs repair', 'functional']\n",
    "status_group_type = pd.CategoricalDtype(categories=labels, ordered=True)\n",
    "y = clean_df['status_group'].astype(status_group_type).cat.codes"
   ]
  },
  {
   "cell_type": "markdown",
   "metadata": {},
   "source": [
    "## Separate training from hold out data"
   ]
  },
  {
   "cell_type": "markdown",
   "metadata": {},
   "source": [
    "Split training and hold out data with stratify because the labels are not balanced."
   ]
  },
  {
   "cell_type": "code",
   "execution_count": 13,
   "metadata": {
    "collapsed": true
   },
   "outputs": [],
   "source": [
    "X_train, X_test, y_train, y_test = train_test_split(X, y, test_size=0.2, stratify=y)"
   ]
  },
  {
   "cell_type": "code",
   "execution_count": 14,
   "metadata": {
    "collapsed": true
   },
   "outputs": [],
   "source": [
    "XS_train, XS_test, ys_train, ys_test = train_test_split(XS, y, test_size=0.2, stratify=y)"
   ]
  },
  {
   "cell_type": "markdown",
   "metadata": {},
   "source": [
    "## Calculate metrics for perfect model"
   ]
  },
  {
   "cell_type": "markdown",
   "metadata": {},
   "source": [
    "This function computes the metrics and stores them to plot the models comparison."
   ]
  },
  {
   "cell_type": "code",
   "execution_count": 15,
   "metadata": {
    "collapsed": true
   },
   "outputs": [],
   "source": [
    "def scores(y_test,y_pred,name=None):\n",
    "    cm = confusion_matrix(y_test, y_pred)\n",
    "    f1 = f1_score(y_test, y_pred, average='weighted')\n",
    "    kt = kendalltau(y_test, y_pred)\n",
    "    sp = spearmanr(y_test, y_pred)\n",
    "    print('Confusion matrix:')\n",
    "    print(cm)\n",
    "    print('\\nF1 score: ', f1)\n",
    "    print('\\n', kt)\n",
    "    print('\\n', sp)\n",
    "    if name is not None:\n",
    "        scores_df.loc['F1 score', name] = f1\n",
    "        s,p = kt\n",
    "        scores_df.loc['KendallTau', name] = s\n",
    "        s,p = sp\n",
    "        scores_df.loc['Spearman', name] = s\n",
    "        recall_df.loc['Non Functional',name] = cm[0,0] / cm[0,:].sum()\n",
    "        recall_df.loc['Functional needs repair',name] = cm[1,1] / cm[1,:].sum()\n",
    "        recall_df.loc['Functional',name] = cm[2,2] / cm[2,:].sum()\n",
    "        precision_df.loc['Non Functional',name] = cm[0,0] / cm[:,0].sum()\n",
    "        precision_df.loc['Functional needs repair',name] = cm[1,1] / cm[:,1].sum()\n",
    "        precision_df.loc['Functional',name] = cm[2,2] / cm[:,2].sum()\n",
    "    return"
   ]
  },
  {
   "cell_type": "code",
   "execution_count": 16,
   "metadata": {
    "collapsed": true
   },
   "outputs": [],
   "source": [
    "scores_df = pd.DataFrame(index=['F1 score','KendallTau','Spearman'])\n",
    "recall_df = pd.DataFrame(index=['Non Functional','Functional needs repair','Functional'])\n",
    "precision_df = pd.DataFrame(index=['Non Functional','Functional needs repair','Functional'])"
   ]
  },
  {
   "cell_type": "code",
   "execution_count": 17,
   "metadata": {
    "scrolled": true
   },
   "outputs": [
    {
     "name": "stdout",
     "output_type": "stream",
     "text": [
      "Scores for Perfect Model:\n",
      "\n",
      "Confusion matrix:\n",
      "[[4565    0    0]\n",
      " [   0  863    0]\n",
      " [   0    0 6452]]\n",
      "\n",
      "F1 score:  1.0\n",
      "\n",
      " KendalltauResult(correlation=1.0, pvalue=0.0)\n",
      "\n",
      " SpearmanrResult(correlation=1.0, pvalue=0.0)\n"
     ]
    }
   ],
   "source": [
    "print('Scores for Perfect Model:\\n')\n",
    "scores(y_test,y_test,'Perfect')"
   ]
  },
  {
   "cell_type": "markdown",
   "metadata": {},
   "source": [
    "Kendall Tau is a measure of the correspondence between 2 rankings. It's a good measure for this problem because the labels are ordered."
   ]
  },
  {
   "cell_type": "markdown",
   "metadata": {},
   "source": [
    "## Calculate metrics for dummy model"
   ]
  },
  {
   "cell_type": "markdown",
   "metadata": {},
   "source": [
    "A dummy model would be to give the label a random value according to the proportions in the sample."
   ]
  },
  {
   "cell_type": "code",
   "execution_count": 18,
   "metadata": {
    "collapsed": true
   },
   "outputs": [],
   "source": [
    "labels_count = y_test.value_counts().sort_index()\n",
    "y_pred_s = np.ones_like(y_test, dtype=int)\n",
    "y_pred_s[:labels_count[0]] = 0\n",
    "y_pred_s[-labels_count[2]:] = 2\n",
    "np.random.shuffle(y_pred_s)"
   ]
  },
  {
   "cell_type": "markdown",
   "metadata": {},
   "source": [
    "The probabilities for each label are the proportions of each label in the sample."
   ]
  },
  {
   "cell_type": "code",
   "execution_count": 19,
   "metadata": {
    "collapsed": true
   },
   "outputs": [],
   "source": [
    "y_pred_proba_s = np.empty((len(y_test),3),dtype=float)\n",
    "for i in range (0,3):\n",
    "    y_pred_proba_s[:,i] = labels_count[i]/len(y_test)"
   ]
  },
  {
   "cell_type": "code",
   "execution_count": 20,
   "metadata": {},
   "outputs": [
    {
     "name": "stdout",
     "output_type": "stream",
     "text": [
      "Scores for Dummy Model:\n",
      "\n",
      "Confusion matrix:\n",
      "[[1772  324 2469]\n",
      " [ 319   62  482]\n",
      " [2474  477 3501]]\n",
      "\n",
      "F1 score:  0.44907407407407407\n",
      "\n",
      " KendalltauResult(correlation=0.0021074893487857916, pvalue=0.8079713608710404)\n",
      "\n",
      " SpearmanrResult(correlation=0.0022328936165019464, pvalue=0.8077343855755806)\n"
     ]
    }
   ],
   "source": [
    "print('Scores for Dummy Model:\\n')\n",
    "scores(y_test, y_pred_s, 'Dummy')"
   ]
  },
  {
   "cell_type": "markdown",
   "metadata": {},
   "source": [
    "## Calculate metrics for different models"
   ]
  },
  {
   "cell_type": "markdown",
   "metadata": {},
   "source": [
    "### Linear Logistic Regression"
   ]
  },
  {
   "cell_type": "markdown",
   "metadata": {},
   "source": [
    "This is a simple linear model. We use dataset where numeric columns are scaled for this model."
   ]
  },
  {
   "cell_type": "code",
   "execution_count": 21,
   "metadata": {
    "collapsed": true
   },
   "outputs": [],
   "source": [
    "lr = OneVsRestClassifier(LogisticRegression(random_state=14, multi_class='ovr',\n",
    "                                            class_weight='balanced', solver='liblinear'))"
   ]
  },
  {
   "cell_type": "code",
   "execution_count": 22,
   "metadata": {
    "scrolled": true
   },
   "outputs": [
    {
     "data": {
      "text/plain": [
       "OneVsRestClassifier(estimator=LogisticRegression(C=1.0, class_weight='balanced', dual=False,\n",
       "          fit_intercept=True, intercept_scaling=1, max_iter=100,\n",
       "          multi_class='ovr', n_jobs=None, penalty='l2', random_state=14,\n",
       "          solver='liblinear', tol=0.0001, verbose=0, warm_start=False),\n",
       "          n_jobs=None)"
      ]
     },
     "execution_count": 22,
     "metadata": {},
     "output_type": "execute_result"
    }
   ],
   "source": [
    "lr.fit(XS_train, ys_train)"
   ]
  },
  {
   "cell_type": "code",
   "execution_count": 23,
   "metadata": {
    "scrolled": false
   },
   "outputs": [
    {
     "name": "stdout",
     "output_type": "stream",
     "text": [
      "Scores for logistic regression:\n",
      "\n",
      "Confusion matrix:\n",
      "[[2963  563 1039]\n",
      " [ 217  295  351]\n",
      " [1350 1083 4019]]\n",
      "\n",
      "F1 score:  0.6337038053132757\n",
      "\n",
      " KendalltauResult(correlation=0.40162763962934334, pvalue=0.0)\n",
      "\n",
      " SpearmanrResult(correlation=0.4290338092794136, pvalue=0.0)\n"
     ]
    }
   ],
   "source": [
    "y_pred_lr = lr.predict(XS_test)\n",
    "y_pred_proba_lr = lr.predict_proba(XS_test)\n",
    "print('Scores for logistic regression:\\n')\n",
    "scores(ys_test, y_pred_lr, 'Logistic Regression')"
   ]
  },
  {
   "cell_type": "markdown",
   "metadata": {},
   "source": [
    "The results are better than those of the dummy model. Most of the ‘functional needs repair’ and a lot of ‘functional’ are misclassified.\n",
    "\n",
    "It seems the linear model is not so good for this project."
   ]
  },
  {
   "cell_type": "markdown",
   "metadata": {},
   "source": [
    "### SVM"
   ]
  },
  {
   "cell_type": "markdown",
   "metadata": {},
   "source": [
    "This model is more complex and needs more computation. But because it finds a separating hyperplane, it could be good to predict the ‘functional needs repair’ class that is in between.\n",
    "We use scaled numeric values for this model\n"
   ]
  },
  {
   "cell_type": "code",
   "execution_count": 24,
   "metadata": {
    "collapsed": true
   },
   "outputs": [],
   "source": [
    "svm = OneVsRestClassifier(SVC(random_state=14, class_weight='balanced', \n",
    "                              decision_function_shape='ovr', gamma='scale'))"
   ]
  },
  {
   "cell_type": "code",
   "execution_count": 25,
   "metadata": {},
   "outputs": [
    {
     "data": {
      "text/plain": [
       "OneVsRestClassifier(estimator=SVC(C=1.0, cache_size=200, class_weight='balanced', coef0=0.0,\n",
       "  decision_function_shape='ovr', degree=3, gamma='scale', kernel='rbf',\n",
       "  max_iter=-1, probability=False, random_state=14, shrinking=True,\n",
       "  tol=0.001, verbose=False),\n",
       "          n_jobs=None)"
      ]
     },
     "execution_count": 25,
     "metadata": {},
     "output_type": "execute_result"
    }
   ],
   "source": [
    "# use scaled XS for SVM\n",
    "svm.fit(XS_train, ys_train)"
   ]
  },
  {
   "cell_type": "code",
   "execution_count": 26,
   "metadata": {
    "scrolled": true
   },
   "outputs": [
    {
     "name": "stdout",
     "output_type": "stream",
     "text": [
      "Scores for SVM:\n",
      "\n",
      "Confusion matrix:\n",
      "[[3083  584  898]\n",
      " [ 158  499  206]\n",
      " [1098 1129 4225]]\n",
      "\n",
      "F1 score:  0.6792155667132412\n",
      "\n",
      " KendalltauResult(correlation=0.4776823227227757, pvalue=0.0)\n",
      "\n",
      " SpearmanrResult(correlation=0.5056441117691398, pvalue=0.0)\n"
     ]
    }
   ],
   "source": [
    "y_pred_svm = svm.predict(XS_test)\n",
    "print('Scores for SVM:\\n')\n",
    "scores(ys_test, y_pred_svm, 'SVM')"
   ]
  },
  {
   "cell_type": "markdown",
   "metadata": {},
   "source": [
    "More labels are well classified, and all the metrics are better."
   ]
  },
  {
   "cell_type": "markdown",
   "metadata": {},
   "source": [
    "### Random Forest"
   ]
  },
  {
   "cell_type": "markdown",
   "metadata": {},
   "source": [
    "We use non-scaled numeric values because Decision Trees are not based on distance, hence are not sensitive to features with different scales."
   ]
  },
  {
   "cell_type": "code",
   "execution_count": 27,
   "metadata": {
    "collapsed": true
   },
   "outputs": [],
   "source": [
    "rf = OneVsRestClassifier(RandomForestClassifier(random_state=14, n_estimators=10))"
   ]
  },
  {
   "cell_type": "code",
   "execution_count": 28,
   "metadata": {},
   "outputs": [
    {
     "data": {
      "text/plain": [
       "OneVsRestClassifier(estimator=RandomForestClassifier(bootstrap=True, class_weight=None, criterion='gini',\n",
       "            max_depth=None, max_features='auto', max_leaf_nodes=None,\n",
       "            min_impurity_decrease=0.0, min_impurity_split=None,\n",
       "            min_samples_leaf=1, min_samples_split=2,\n",
       "            min_weight_fraction_leaf=0.0, n_estimators=10, n_jobs=None,\n",
       "            oob_score=False, random_state=14, verbose=0, warm_start=False),\n",
       "          n_jobs=None)"
      ]
     },
     "execution_count": 28,
     "metadata": {},
     "output_type": "execute_result"
    }
   ],
   "source": [
    "rf.fit(X_train, y_train)"
   ]
  },
  {
   "cell_type": "code",
   "execution_count": 29,
   "metadata": {
    "collapsed": true
   },
   "outputs": [],
   "source": [
    "y_pred_rf = rf.predict(X_test)\n",
    "y_pred_proba_rf = rf.predict_proba(X_test)"
   ]
  },
  {
   "cell_type": "code",
   "execution_count": 30,
   "metadata": {
    "scrolled": true
   },
   "outputs": [
    {
     "name": "stdout",
     "output_type": "stream",
     "text": [
      "Scores for Random Forest:\n",
      "\n",
      "Confusion matrix:\n",
      "[[3558   87  920]\n",
      " [ 117  281  465]\n",
      " [ 573  194 5685]]\n",
      "\n",
      "F1 score:  0.7955817878186296\n",
      "\n",
      " KendalltauResult(correlation=0.6570753575691878, pvalue=0.0)\n",
      "\n",
      " SpearmanrResult(correlation=0.6772887782067184, pvalue=0.0)\n"
     ]
    }
   ],
   "source": [
    "print('Scores for Random Forest:\\n')\n",
    "scores(y_test, y_pred_rf, 'Random Forest')"
   ]
  },
  {
   "cell_type": "markdown",
   "metadata": {},
   "source": [
    "‘non functional’ and ‘functional’ are predicted more accurately, but the random forest has difficulties predicting the ‘functional needs repair’ class.\n",
    "\n",
    "However, the metrics are better.\n"
   ]
  },
  {
   "cell_type": "markdown",
   "metadata": {},
   "source": [
    "### K Neighbors"
   ]
  },
  {
   "cell_type": "markdown",
   "metadata": {},
   "source": [
    "We use scaled numeric values for this model."
   ]
  },
  {
   "cell_type": "code",
   "execution_count": 31,
   "metadata": {
    "collapsed": true
   },
   "outputs": [],
   "source": [
    "kn = OneVsRestClassifier(KNeighborsClassifier())"
   ]
  },
  {
   "cell_type": "code",
   "execution_count": 32,
   "metadata": {},
   "outputs": [
    {
     "data": {
      "text/plain": [
       "OneVsRestClassifier(estimator=KNeighborsClassifier(algorithm='auto', leaf_size=30, metric='minkowski',\n",
       "           metric_params=None, n_jobs=None, n_neighbors=5, p=2,\n",
       "           weights='uniform'),\n",
       "          n_jobs=None)"
      ]
     },
     "execution_count": 32,
     "metadata": {},
     "output_type": "execute_result"
    }
   ],
   "source": [
    "# Use scaled XS\n",
    "kn.fit(XS_train, ys_train)"
   ]
  },
  {
   "cell_type": "code",
   "execution_count": 33,
   "metadata": {
    "collapsed": true
   },
   "outputs": [],
   "source": [
    "y_pred_kn = kn.predict(XS_test)\n",
    "y_pred_proba_kn = kn.predict_proba(XS_test)"
   ]
  },
  {
   "cell_type": "code",
   "execution_count": 34,
   "metadata": {},
   "outputs": [
    {
     "name": "stdout",
     "output_type": "stream",
     "text": [
      "Scores for K Neighbors\n",
      "\n",
      "Confusion matrix:\n",
      "[[3230  117 1218]\n",
      " [ 146  273  444]\n",
      " [ 741  178 5533]]\n",
      "\n",
      "F1 score:  0.7540160219058665\n",
      "\n",
      " KendalltauResult(correlation=0.5726979290745892, pvalue=0.0)\n",
      "\n",
      " SpearmanrResult(correlation=0.590766334869879, pvalue=0.0)\n"
     ]
    }
   ],
   "source": [
    "print('Scores for K Neighbors\\n')\n",
    "scores(ys_test, y_pred_kn, 'K Nearest Neighbors')"
   ]
  },
  {
   "cell_type": "markdown",
   "metadata": {},
   "source": [
    "The metrics are better than SVM but the ‘functional needs repair’ class is not well predicted."
   ]
  },
  {
   "cell_type": "markdown",
   "metadata": {},
   "source": [
    "### Naive Bayes"
   ]
  },
  {
   "cell_type": "markdown",
   "metadata": {},
   "source": [
    "This model usually does well with categorical features. We use scaled numeric values because Multinomial Naive Bayes only work with positive values.\n"
   ]
  },
  {
   "cell_type": "code",
   "execution_count": 35,
   "metadata": {
    "collapsed": true
   },
   "outputs": [],
   "source": [
    "nb = OneVsRestClassifier(MultinomialNB())"
   ]
  },
  {
   "cell_type": "code",
   "execution_count": 36,
   "metadata": {},
   "outputs": [
    {
     "data": {
      "text/plain": [
       "OneVsRestClassifier(estimator=MultinomialNB(alpha=1.0, class_prior=None, fit_prior=True),\n",
       "          n_jobs=None)"
      ]
     },
     "execution_count": 36,
     "metadata": {},
     "output_type": "execute_result"
    }
   ],
   "source": [
    "# Use scaled XS for Naive Bayes\n",
    "nb.fit(XS_train,ys_train)"
   ]
  },
  {
   "cell_type": "code",
   "execution_count": 37,
   "metadata": {
    "collapsed": true
   },
   "outputs": [],
   "source": [
    "y_pred_nb = nb.predict(XS_test)\n",
    "y_pred_proba_nb = nb.predict_proba(XS_test)"
   ]
  },
  {
   "cell_type": "code",
   "execution_count": 38,
   "metadata": {},
   "outputs": [
    {
     "name": "stdout",
     "output_type": "stream",
     "text": [
      "Scores for Naive Bayes\n",
      "\n",
      "Confusion matrix:\n",
      "[[2740  290 1535]\n",
      " [ 261  123  479]\n",
      " [2380  444 3628]]\n",
      "\n",
      "F1 score:  0.5479476233997044\n",
      "\n",
      " KendalltauResult(correlation=0.2074892471184059, pvalue=1.500945617841491e-126)\n",
      "\n",
      " SpearmanrResult(correlation=0.21859760208125195, pvalue=1.7049152050952475e-128)\n"
     ]
    }
   ],
   "source": [
    "print('Scores for Naive Bayes\\n')\n",
    "scores(ys_test,y_pred_nb, 'Naive Bayes')"
   ]
  },
  {
   "cell_type": "markdown",
   "metadata": {},
   "source": [
    "This model is not good for this project."
   ]
  },
  {
   "cell_type": "markdown",
   "metadata": {},
   "source": [
    "### AdaBoost"
   ]
  },
  {
   "cell_type": "markdown",
   "metadata": {},
   "source": [
    "Since the best results were obtained with Random Forest, we try AdaBoost to see if it can better classify the ‘functional needs repair’ labels.\n",
    "We use non-scaled numeric values for this model.\n"
   ]
  },
  {
   "cell_type": "code",
   "execution_count": 39,
   "metadata": {
    "collapsed": true
   },
   "outputs": [],
   "source": [
    "ab = OneVsRestClassifier(AdaBoostClassifier(random_state=14))"
   ]
  },
  {
   "cell_type": "code",
   "execution_count": 40,
   "metadata": {},
   "outputs": [
    {
     "data": {
      "text/plain": [
       "OneVsRestClassifier(estimator=AdaBoostClassifier(algorithm='SAMME.R', base_estimator=None,\n",
       "          learning_rate=1.0, n_estimators=50, random_state=14),\n",
       "          n_jobs=None)"
      ]
     },
     "execution_count": 40,
     "metadata": {},
     "output_type": "execute_result"
    }
   ],
   "source": [
    "ab.fit(X_train, y_train)"
   ]
  },
  {
   "cell_type": "code",
   "execution_count": 41,
   "metadata": {
    "collapsed": true
   },
   "outputs": [],
   "source": [
    "y_pred_ab = ab.predict(X_test)\n",
    "y_pred_proba_ab = ab.predict_proba(X_test)"
   ]
  },
  {
   "cell_type": "code",
   "execution_count": 42,
   "metadata": {
    "scrolled": true
   },
   "outputs": [
    {
     "name": "stdout",
     "output_type": "stream",
     "text": [
      "Scores for Ada Boost:\n",
      "\n",
      "Confusion matrix:\n",
      "[[2884   15 1666]\n",
      " [ 155   23  685]\n",
      " [ 632   20 5800]]\n",
      "\n",
      "F1 score:  0.7041539199600676\n",
      "\n",
      " KendalltauResult(correlation=0.5242478045131929, pvalue=0.0)\n",
      "\n",
      " SpearmanrResult(correlation=0.5397533094698513, pvalue=0.0)\n"
     ]
    }
   ],
   "source": [
    "print('Scores for Ada Boost:\\n')\n",
    "scores(y_test, y_pred_ab, 'AdaBoost')"
   ]
  },
  {
   "cell_type": "markdown",
   "metadata": {},
   "source": [
    "### Models comparison"
   ]
  },
  {
   "cell_type": "code",
   "execution_count": 43,
   "metadata": {},
   "outputs": [
    {
     "data": {
      "image/png": "[encoded data removed]",
      "text/plain": [
       "<Figure size 720x360 with 1 Axes>"
      ]
     },
     "metadata": {},
     "output_type": "display_data"
    }
   ],
   "source": [
    "scores_df.sort_values('F1 score', axis='columns', inplace=True)\n",
    "plt.figure(figsize = (10,5))\n",
    "plt.plot(scores_df.columns.values,scores_df.loc['F1 score'].values, \n",
    "         label='F1 Score')\n",
    "plt.plot(scores_df.columns.values,scores_df.loc['KendallTau'].values, \n",
    "         label='Kendall Tau')\n",
    "plt.plot(scores_df.columns.values,scores_df.loc['Spearman'].values, \n",
    "         label='Spearman')\n",
    "plt.legend()\n",
    "plt.show()"
   ]
  },
  {
   "cell_type": "markdown",
   "metadata": {},
   "source": [
    "Random Forest is a better model."
   ]
  },
  {
   "cell_type": "code",
   "execution_count": 44,
   "metadata": {
    "scrolled": true
   },
   "outputs": [
    {
     "data": {
      "image/png": "[encoded data removed]",
      "text/plain": [
       "<Figure size 720x360 with 1 Axes>"
      ]
     },
     "metadata": {},
     "output_type": "display_data"
    }
   ],
   "source": [
    "precision_df.sort_values('Non Functional', axis='columns', inplace=True)\n",
    "plt.figure(figsize = (10,5))\n",
    "plt.plot(precision_df.columns.values,precision_df.loc['Functional'].values, \n",
    "         color='green', label='Functional')\n",
    "plt.plot(precision_df.columns.values,precision_df.loc['Functional needs repair'].values, \n",
    "         color = 'orange', label='Functional needs repair')\n",
    "plt.plot(precision_df.columns.values,precision_df.loc['Non Functional'].values, \n",
    "         color = 'red', label='Non Functional')\n",
    "plt.legend()\n",
    "plt.title('Precision for each operational status')\n",
    "plt.show()        "
   ]
  },
  {
   "cell_type": "markdown",
   "metadata": {},
   "source": [
    "Random Forest is a better model."
   ]
  },
  {
   "cell_type": "code",
   "execution_count": 45,
   "metadata": {
    "scrolled": true
   },
   "outputs": [
    {
     "data": {
      "image/png": "[encoded data removed]",
      "text/plain": [
       "<Figure size 720x360 with 1 Axes>"
      ]
     },
     "metadata": {},
     "output_type": "display_data"
    }
   ],
   "source": [
    "recall_df.sort_values('Non Functional', axis='columns', inplace=True)\n",
    "plt.figure(figsize = (10,5))\n",
    "plt.plot(recall_df.columns.values,recall_df.loc['Functional'].values, \n",
    "         color='green', label='Functional')\n",
    "plt.plot(recall_df.columns.values,recall_df.loc['Functional needs repair'].values, \n",
    "         color = 'orange', label='Functional needs repair')\n",
    "plt.plot(recall_df.columns.values,recall_df.loc['Non Functional'].values, \n",
    "         color = 'red', label='Non Functional')\n",
    "plt.legend()\n",
    "plt.title('Recall for each operational status')\n",
    "plt.show()        "
   ]
  },
  {
   "cell_type": "markdown",
   "metadata": {},
   "source": [
    "When you look at recall for each model, we see that SVM recalls better the functional needs repair water points, but its precision is not good for this label."
   ]
  },
  {
   "cell_type": "markdown",
   "metadata": {},
   "source": [
    "## Optimize the best model: Random Forest"
   ]
  },
  {
   "cell_type": "markdown",
   "metadata": {},
   "source": [
    "### Display the model attributes"
   ]
  },
  {
   "cell_type": "code",
   "execution_count": 46,
   "metadata": {
    "scrolled": false
   },
   "outputs": [
    {
     "name": "stdout",
     "output_type": "stream",
     "text": [
      "Features importance\n",
      "\n"
     ]
    },
    {
     "data": {
      "text/html": [
       "<div>\n",
       "<style scoped>\n",
       "    .dataframe tbody tr th:only-of-type {\n",
       "        vertical-align: middle;\n",
       "    }\n",
       "\n",
       "    .dataframe tbody tr th {\n",
       "        vertical-align: top;\n",
       "    }\n",
       "\n",
       "    .dataframe thead th {\n",
       "        text-align: right;\n",
       "    }\n",
       "</style>\n",
       "<table border=\"1\" class=\"dataframe\">\n",
       "  <thead>\n",
       "    <tr style=\"text-align: right;\">\n",
       "      <th></th>\n",
       "      <th>average</th>\n",
       "      <th>Random Forest 1</th>\n",
       "      <th>Random Forest 2</th>\n",
       "      <th>Random Forest 3</th>\n",
       "    </tr>\n",
       "  </thead>\n",
       "  <tbody>\n",
       "    <tr>\n",
       "      <th>permit</th>\n",
       "      <td>0.008420</td>\n",
       "      <td>0.008523</td>\n",
       "      <td>0.007633</td>\n",
       "      <td>0.009103</td>\n",
       "    </tr>\n",
       "    <tr>\n",
       "      <th>public_meeting</th>\n",
       "      <td>0.008981</td>\n",
       "      <td>0.007397</td>\n",
       "      <td>0.011513</td>\n",
       "      <td>0.008033</td>\n",
       "    </tr>\n",
       "    <tr>\n",
       "      <th>quality_group</th>\n",
       "      <td>0.014548</td>\n",
       "      <td>0.016046</td>\n",
       "      <td>0.012144</td>\n",
       "      <td>0.015454</td>\n",
       "    </tr>\n",
       "    <tr>\n",
       "      <th>basin</th>\n",
       "      <td>0.015170</td>\n",
       "      <td>0.014437</td>\n",
       "      <td>0.014447</td>\n",
       "      <td>0.016626</td>\n",
       "    </tr>\n",
       "    <tr>\n",
       "      <th>ward</th>\n",
       "      <td>0.016085</td>\n",
       "      <td>0.013252</td>\n",
       "      <td>0.019929</td>\n",
       "      <td>0.015074</td>\n",
       "    </tr>\n",
       "    <tr>\n",
       "      <th>region</th>\n",
       "      <td>0.018502</td>\n",
       "      <td>0.018180</td>\n",
       "      <td>0.016642</td>\n",
       "      <td>0.020685</td>\n",
       "    </tr>\n",
       "    <tr>\n",
       "      <th>management</th>\n",
       "      <td>0.019179</td>\n",
       "      <td>0.020437</td>\n",
       "      <td>0.018944</td>\n",
       "      <td>0.018155</td>\n",
       "    </tr>\n",
       "    <tr>\n",
       "      <th>district_code</th>\n",
       "      <td>0.020850</td>\n",
       "      <td>0.020946</td>\n",
       "      <td>0.020219</td>\n",
       "      <td>0.021385</td>\n",
       "    </tr>\n",
       "    <tr>\n",
       "      <th>amount_tsh</th>\n",
       "      <td>0.023792</td>\n",
       "      <td>0.025070</td>\n",
       "      <td>0.018370</td>\n",
       "      <td>0.027935</td>\n",
       "    </tr>\n",
       "    <tr>\n",
       "      <th>source_type</th>\n",
       "      <td>0.024780</td>\n",
       "      <td>0.029244</td>\n",
       "      <td>0.021192</td>\n",
       "      <td>0.023904</td>\n",
       "    </tr>\n",
       "    <tr>\n",
       "      <th>installer</th>\n",
       "      <td>0.031338</td>\n",
       "      <td>0.031110</td>\n",
       "      <td>0.031079</td>\n",
       "      <td>0.031826</td>\n",
       "    </tr>\n",
       "    <tr>\n",
       "      <th>lga</th>\n",
       "      <td>0.033144</td>\n",
       "      <td>0.031277</td>\n",
       "      <td>0.034798</td>\n",
       "      <td>0.033357</td>\n",
       "    </tr>\n",
       "    <tr>\n",
       "      <th>payment</th>\n",
       "      <td>0.035333</td>\n",
       "      <td>0.037270</td>\n",
       "      <td>0.034592</td>\n",
       "      <td>0.034137</td>\n",
       "    </tr>\n",
       "    <tr>\n",
       "      <th>extraction_type_class</th>\n",
       "      <td>0.037669</td>\n",
       "      <td>0.050300</td>\n",
       "      <td>0.023703</td>\n",
       "      <td>0.039003</td>\n",
       "    </tr>\n",
       "    <tr>\n",
       "      <th>funder</th>\n",
       "      <td>0.041210</td>\n",
       "      <td>0.037955</td>\n",
       "      <td>0.045350</td>\n",
       "      <td>0.040326</td>\n",
       "    </tr>\n",
       "    <tr>\n",
       "      <th>waterpoint_type_group</th>\n",
       "      <td>0.047038</td>\n",
       "      <td>0.065866</td>\n",
       "      <td>0.017556</td>\n",
       "      <td>0.057691</td>\n",
       "    </tr>\n",
       "    <tr>\n",
       "      <th>population</th>\n",
       "      <td>0.050684</td>\n",
       "      <td>0.042281</td>\n",
       "      <td>0.063312</td>\n",
       "      <td>0.046460</td>\n",
       "    </tr>\n",
       "    <tr>\n",
       "      <th>construction_year</th>\n",
       "      <td>0.055354</td>\n",
       "      <td>0.061369</td>\n",
       "      <td>0.040891</td>\n",
       "      <td>0.063802</td>\n",
       "    </tr>\n",
       "    <tr>\n",
       "      <th>gps_height</th>\n",
       "      <td>0.078003</td>\n",
       "      <td>0.064711</td>\n",
       "      <td>0.095116</td>\n",
       "      <td>0.074180</td>\n",
       "    </tr>\n",
       "    <tr>\n",
       "      <th>quantity</th>\n",
       "      <td>0.098884</td>\n",
       "      <td>0.143111</td>\n",
       "      <td>0.037191</td>\n",
       "      <td>0.116351</td>\n",
       "    </tr>\n",
       "    <tr>\n",
       "      <th>latitude</th>\n",
       "      <td>0.157016</td>\n",
       "      <td>0.130742</td>\n",
       "      <td>0.200623</td>\n",
       "      <td>0.139682</td>\n",
       "    </tr>\n",
       "    <tr>\n",
       "      <th>longitude</th>\n",
       "      <td>0.164022</td>\n",
       "      <td>0.130477</td>\n",
       "      <td>0.214756</td>\n",
       "      <td>0.146833</td>\n",
       "    </tr>\n",
       "  </tbody>\n",
       "</table>\n",
       "</div>"
      ],
      "text/plain": [
       "                        average  Random Forest 1  Random Forest 2  \\\n",
       "permit                 0.008420         0.008523         0.007633   \n",
       "public_meeting         0.008981         0.007397         0.011513   \n",
       "quality_group          0.014548         0.016046         0.012144   \n",
       "basin                  0.015170         0.014437         0.014447   \n",
       "ward                   0.016085         0.013252         0.019929   \n",
       "region                 0.018502         0.018180         0.016642   \n",
       "management             0.019179         0.020437         0.018944   \n",
       "district_code          0.020850         0.020946         0.020219   \n",
       "amount_tsh             0.023792         0.025070         0.018370   \n",
       "source_type            0.024780         0.029244         0.021192   \n",
       "installer              0.031338         0.031110         0.031079   \n",
       "lga                    0.033144         0.031277         0.034798   \n",
       "payment                0.035333         0.037270         0.034592   \n",
       "extraction_type_class  0.037669         0.050300         0.023703   \n",
       "funder                 0.041210         0.037955         0.045350   \n",
       "waterpoint_type_group  0.047038         0.065866         0.017556   \n",
       "population             0.050684         0.042281         0.063312   \n",
       "construction_year      0.055354         0.061369         0.040891   \n",
       "gps_height             0.078003         0.064711         0.095116   \n",
       "quantity               0.098884         0.143111         0.037191   \n",
       "latitude               0.157016         0.130742         0.200623   \n",
       "longitude              0.164022         0.130477         0.214756   \n",
       "\n",
       "                       Random Forest 3  \n",
       "permit                        0.009103  \n",
       "public_meeting                0.008033  \n",
       "quality_group                 0.015454  \n",
       "basin                         0.016626  \n",
       "ward                          0.015074  \n",
       "region                        0.020685  \n",
       "management                    0.018155  \n",
       "district_code                 0.021385  \n",
       "amount_tsh                    0.027935  \n",
       "source_type                   0.023904  \n",
       "installer                     0.031826  \n",
       "lga                           0.033357  \n",
       "payment                       0.034137  \n",
       "extraction_type_class         0.039003  \n",
       "funder                        0.040326  \n",
       "waterpoint_type_group         0.057691  \n",
       "population                    0.046460  \n",
       "construction_year             0.063802  \n",
       "gps_height                    0.074180  \n",
       "quantity                      0.116351  \n",
       "latitude                      0.139682  \n",
       "longitude                     0.146833  "
      ]
     },
     "execution_count": 46,
     "metadata": {},
     "output_type": "execute_result"
    }
   ],
   "source": [
    "features_df = pd.DataFrame(index=list(X.columns))\n",
    "i=0\n",
    "features_df[\"average\"] = 0\n",
    "for estimator in rf.estimators_:\n",
    "    i+=1\n",
    "    features_df[\"Random Forest \" + str(i)] = estimator.feature_importances_\n",
    "    features_df[\"average\"] += estimator.feature_importances_    \n",
    "features_df[\"average\"] /= i\n",
    "features_df.sort_values('average', inplace=True)\n",
    "print('Features importance\\n')\n",
    "features_df"
   ]
  },
  {
   "cell_type": "code",
   "execution_count": 47,
   "metadata": {
    "scrolled": false
   },
   "outputs": [
    {
     "data": {
      "image/png": "[encoded data removed]",
      "text/plain": [
       "<Figure size 720x720 with 1 Axes>"
      ]
     },
     "metadata": {},
     "output_type": "display_data"
    }
   ],
   "source": [
    "plt.figure(figsize=(10,10))\n",
    "plt.barh(features_df.index.values, features_df.average.values, color='tab:blue')\n",
    "plt.title('Random Forest features importance')\n",
    "plt.show()"
   ]
  },
  {
   "cell_type": "markdown",
   "metadata": {},
   "source": [
    "The most important features are longitude, latitude, quantity and gps_height."
   ]
  },
  {
   "cell_type": "markdown",
   "metadata": {},
   "source": [
    "### Try to reduce the number of features to simplify the model."
   ]
  },
  {
   "cell_type": "markdown",
   "metadata": {},
   "source": [
    "public_meeting and permit have less importance"
   ]
  },
  {
   "cell_type": "code",
   "execution_count": 48,
   "metadata": {
    "collapsed": true
   },
   "outputs": [],
   "source": [
    "XR_train = X_train.drop(columns=['public_meeting','permit'])\n",
    "XR_test = X_test.drop(columns=['public_meeting','permit'])"
   ]
  },
  {
   "cell_type": "code",
   "execution_count": 49,
   "metadata": {
    "scrolled": true
   },
   "outputs": [
    {
     "data": {
      "text/plain": [
       "OneVsRestClassifier(estimator=RandomForestClassifier(bootstrap=True, class_weight=None, criterion='gini',\n",
       "            max_depth=None, max_features='auto', max_leaf_nodes=None,\n",
       "            min_impurity_decrease=0.0, min_impurity_split=None,\n",
       "            min_samples_leaf=1, min_samples_split=2,\n",
       "            min_weight_fraction_leaf=0.0, n_estimators=10, n_jobs=None,\n",
       "            oob_score=False, random_state=14, verbose=0, warm_start=False),\n",
       "          n_jobs=None)"
      ]
     },
     "execution_count": 49,
     "metadata": {},
     "output_type": "execute_result"
    }
   ],
   "source": [
    "rf.fit(XR_train, y_train)"
   ]
  },
  {
   "cell_type": "code",
   "execution_count": 50,
   "metadata": {
    "collapsed": true
   },
   "outputs": [],
   "source": [
    "y_pred_rf = rf.predict(XR_test)\n",
    "y_pred_proba_rf = rf.predict_proba(XR_test)"
   ]
  },
  {
   "cell_type": "code",
   "execution_count": 51,
   "metadata": {
    "scrolled": true
   },
   "outputs": [
    {
     "name": "stdout",
     "output_type": "stream",
     "text": [
      "Scores for Random Forest with less features:\n",
      "\n",
      "Confusion matrix:\n",
      "[[3556   98  911]\n",
      " [ 121  286  456]\n",
      " [ 573  184 5695]]\n",
      "\n",
      "F1 score:  0.796798633052378\n",
      "\n",
      " KendalltauResult(correlation=0.6595148558605585, pvalue=0.0)\n",
      "\n",
      " SpearmanrResult(correlation=0.6796919883461201, pvalue=0.0)\n"
     ]
    }
   ],
   "source": [
    "print('Scores for Random Forest with less features:\\n')\n",
    "scores(y_test, y_pred_rf)"
   ]
  },
  {
   "cell_type": "markdown",
   "metadata": {},
   "source": [
    "F1 score, Kendall Tau correlation and Spearman rank correlations have almost the same values. \n",
    "\n",
    "** Conclusion: I can get rid of the features: public_meeting and permit.**"
   ]
  },
  {
   "cell_type": "markdown",
   "metadata": {},
   "source": [
    "### Use K Fold to optimize parameters"
   ]
  },
  {
   "cell_type": "markdown",
   "metadata": {},
   "source": [
    "I keep XR_test, y_test as hold out, and I optimize the parameters using XR_train, y_train."
   ]
  },
  {
   "cell_type": "code",
   "execution_count": 52,
   "metadata": {
    "collapsed": true
   },
   "outputs": [],
   "source": [
    "def fit_predict_score(XR_train, y_train, model, p, scores_df):\n",
    "    \"\"\"Make K folds, fit model, predict labels and returns f1 and kendall tau scores\"\"\"\n",
    "    n_splits = 5\n",
    "    kf = StratifiedKFold(n_splits=n_splits)\n",
    "    for train_idx, test_idx in kf.split(XR_train, y_train):\n",
    "        XKF_train, XKF_test = XR_train.iloc[train_idx], XR_train.iloc[test_idx]\n",
    "        ykf_train, ykf_test = y_train.iloc[train_idx], y_train.iloc[test_idx]\n",
    "        model.fit(XKF_train, ykf_train)\n",
    "        ykf_pred = model.predict(XKF_test)\n",
    "        f1 = f1_score(ykf_test, ykf_pred, average='weighted')\n",
    "        kt, pval = kendalltau(ykf_test, ykf_pred)\n",
    "        sr, pval = spearmanr(ykf_test, ykf_pred)\n",
    "        scores_df.loc[p,'f1 score'] += f1\n",
    "        scores_df.loc[p,'kendall tau'] += kt\n",
    "        scores_df.loc[p,'spearman rank'] += sr\n",
    "    scores_df.loc[p,'f1 score'] /= n_splits\n",
    "    scores_df.loc[p,'kendall tau'] /= n_splits\n",
    "    scores_df.loc[p,'spearman rank'] /= n_splits\n",
    "    return scores_df"
   ]
  },
  {
   "cell_type": "markdown",
   "metadata": {},
   "source": [
    "First, I will optimize n_estimators"
   ]
  },
  {
   "cell_type": "code",
   "execution_count": 53,
   "metadata": {
    "collapsed": true
   },
   "outputs": [],
   "source": [
    "n_estimators_grid = [10,50,100,150,200,300]"
   ]
  },
  {
   "cell_type": "code",
   "execution_count": 54,
   "metadata": {
    "scrolled": true
   },
   "outputs": [
    {
     "data": {
      "text/html": [
       "<div>\n",
       "<style scoped>\n",
       "    .dataframe tbody tr th:only-of-type {\n",
       "        vertical-align: middle;\n",
       "    }\n",
       "\n",
       "    .dataframe tbody tr th {\n",
       "        vertical-align: top;\n",
       "    }\n",
       "\n",
       "    .dataframe thead th {\n",
       "        text-align: right;\n",
       "    }\n",
       "</style>\n",
       "<table border=\"1\" class=\"dataframe\">\n",
       "  <thead>\n",
       "    <tr style=\"text-align: right;\">\n",
       "      <th></th>\n",
       "      <th>f1 score</th>\n",
       "      <th>kendall tau</th>\n",
       "      <th>spearman rank</th>\n",
       "    </tr>\n",
       "  </thead>\n",
       "  <tbody>\n",
       "    <tr>\n",
       "      <th>10</th>\n",
       "      <td>0.789446</td>\n",
       "      <td>0.644212</td>\n",
       "      <td>0.664069</td>\n",
       "    </tr>\n",
       "    <tr>\n",
       "      <th>50</th>\n",
       "      <td>0.791952</td>\n",
       "      <td>0.648760</td>\n",
       "      <td>0.668545</td>\n",
       "    </tr>\n",
       "    <tr>\n",
       "      <th>100</th>\n",
       "      <td>0.793097</td>\n",
       "      <td>0.650301</td>\n",
       "      <td>0.669905</td>\n",
       "    </tr>\n",
       "    <tr>\n",
       "      <th>150</th>\n",
       "      <td>0.793573</td>\n",
       "      <td>0.650920</td>\n",
       "      <td>0.670431</td>\n",
       "    </tr>\n",
       "    <tr>\n",
       "      <th>200</th>\n",
       "      <td>0.793946</td>\n",
       "      <td>0.652303</td>\n",
       "      <td>0.671969</td>\n",
       "    </tr>\n",
       "    <tr>\n",
       "      <th>300</th>\n",
       "      <td>0.794049</td>\n",
       "      <td>0.652066</td>\n",
       "      <td>0.671673</td>\n",
       "    </tr>\n",
       "  </tbody>\n",
       "</table>\n",
       "</div>"
      ],
      "text/plain": [
       "     f1 score  kendall tau  spearman rank\n",
       "10   0.789446     0.644212       0.664069\n",
       "50   0.791952     0.648760       0.668545\n",
       "100  0.793097     0.650301       0.669905\n",
       "150  0.793573     0.650920       0.670431\n",
       "200  0.793946     0.652303       0.671969\n",
       "300  0.794049     0.652066       0.671673"
      ]
     },
     "execution_count": 54,
     "metadata": {},
     "output_type": "execute_result"
    }
   ],
   "source": [
    "scores_df = pd.DataFrame(0, index=n_estimators_grid, columns=['f1 score','kendall tau', 'spearman rank'])\n",
    "for p in n_estimators_grid:\n",
    "    rf = OneVsRestClassifier(RandomForestClassifier(n_estimators=p))\n",
    "    scores_df = fit_predict_score(XR_train, y_train, rf, p, scores_df)\n",
    "scores_df"
   ]
  },
  {
   "cell_type": "markdown",
   "metadata": {},
   "source": [
    "There is a good improvement from 10 to 50, so I choose 50 for n_estimators."
   ]
  },
  {
   "cell_type": "markdown",
   "metadata": {},
   "source": [
    "Then, I will optimize max_depth"
   ]
  },
  {
   "cell_type": "code",
   "execution_count": 55,
   "metadata": {
    "collapsed": true
   },
   "outputs": [],
   "source": [
    "max_depth_grid = [10,50,100,150,200]"
   ]
  },
  {
   "cell_type": "code",
   "execution_count": 56,
   "metadata": {
    "scrolled": true
   },
   "outputs": [
    {
     "data": {
      "text/html": [
       "<div>\n",
       "<style scoped>\n",
       "    .dataframe tbody tr th:only-of-type {\n",
       "        vertical-align: middle;\n",
       "    }\n",
       "\n",
       "    .dataframe tbody tr th {\n",
       "        vertical-align: top;\n",
       "    }\n",
       "\n",
       "    .dataframe thead th {\n",
       "        text-align: right;\n",
       "    }\n",
       "</style>\n",
       "<table border=\"1\" class=\"dataframe\">\n",
       "  <thead>\n",
       "    <tr style=\"text-align: right;\">\n",
       "      <th></th>\n",
       "      <th>f1 score</th>\n",
       "      <th>kendall tau</th>\n",
       "      <th>spearman rank</th>\n",
       "    </tr>\n",
       "  </thead>\n",
       "  <tbody>\n",
       "    <tr>\n",
       "      <th>10</th>\n",
       "      <td>0.736922</td>\n",
       "      <td>0.583271</td>\n",
       "      <td>0.599143</td>\n",
       "    </tr>\n",
       "    <tr>\n",
       "      <th>50</th>\n",
       "      <td>0.792786</td>\n",
       "      <td>0.649840</td>\n",
       "      <td>0.669460</td>\n",
       "    </tr>\n",
       "    <tr>\n",
       "      <th>100</th>\n",
       "      <td>0.792203</td>\n",
       "      <td>0.649208</td>\n",
       "      <td>0.668946</td>\n",
       "    </tr>\n",
       "    <tr>\n",
       "      <th>150</th>\n",
       "      <td>0.793158</td>\n",
       "      <td>0.650320</td>\n",
       "      <td>0.669950</td>\n",
       "    </tr>\n",
       "    <tr>\n",
       "      <th>200</th>\n",
       "      <td>0.792274</td>\n",
       "      <td>0.648934</td>\n",
       "      <td>0.668489</td>\n",
       "    </tr>\n",
       "  </tbody>\n",
       "</table>\n",
       "</div>"
      ],
      "text/plain": [
       "     f1 score  kendall tau  spearman rank\n",
       "10   0.736922     0.583271       0.599143\n",
       "50   0.792786     0.649840       0.669460\n",
       "100  0.792203     0.649208       0.668946\n",
       "150  0.793158     0.650320       0.669950\n",
       "200  0.792274     0.648934       0.668489"
      ]
     },
     "execution_count": 56,
     "metadata": {},
     "output_type": "execute_result"
    }
   ],
   "source": [
    "scores_df = pd.DataFrame(0, index= max_depth_grid, columns=['f1 score','kendall tau', 'spearman rank'])\n",
    "for p in max_depth_grid:\n",
    "    rf = OneVsRestClassifier(RandomForestClassifier(n_estimators=50, max_depth=p))\n",
    "    scores_df = fit_predict_score(XR_train, y_train, rf, p, scores_df)\n",
    "scores_df"
   ]
  },
  {
   "cell_type": "markdown",
   "metadata": {},
   "source": [
    "There is a good improvement between 10 and 50, so I choose to use max_depth=50."
   ]
  },
  {
   "cell_type": "markdown",
   "metadata": {},
   "source": [
    "### Test the optimized model on the held out test data"
   ]
  },
  {
   "cell_type": "code",
   "execution_count": 57,
   "metadata": {
    "scrolled": true
   },
   "outputs": [
    {
     "data": {
      "text/plain": [
       "OneVsRestClassifier(estimator=RandomForestClassifier(bootstrap=True, class_weight=None, criterion='gini',\n",
       "            max_depth=50, max_features='auto', max_leaf_nodes=None,\n",
       "            min_impurity_decrease=0.0, min_impurity_split=None,\n",
       "            min_samples_leaf=1, min_samples_split=2,\n",
       "            min_weight_fraction_leaf=0.0, n_estimators=50, n_jobs=None,\n",
       "            oob_score=False, random_state=None, verbose=0,\n",
       "            warm_start=False),\n",
       "          n_jobs=None)"
      ]
     },
     "execution_count": 57,
     "metadata": {},
     "output_type": "execute_result"
    }
   ],
   "source": [
    "rf = OneVsRestClassifier(RandomForestClassifier(n_estimators=50, max_depth=50))\n",
    "rf.fit(XR_train, y_train)"
   ]
  },
  {
   "cell_type": "code",
   "execution_count": 58,
   "metadata": {
    "collapsed": true
   },
   "outputs": [],
   "source": [
    "y_pred_rf = rf.predict(XR_test)\n",
    "y_pred_proba_rf = rf.predict_proba(XR_test)"
   ]
  },
  {
   "cell_type": "code",
   "execution_count": 59,
   "metadata": {
    "scrolled": true
   },
   "outputs": [
    {
     "name": "stdout",
     "output_type": "stream",
     "text": [
      "Scores for Optimized Random Forest:\n",
      "\n",
      "Confusion matrix:\n",
      "[[3604   84  877]\n",
      " [ 124  301  438]\n",
      " [ 577  188 5687]]\n",
      "\n",
      "F1 score:  0.8018471071838844\n",
      "\n",
      " KendalltauResult(correlation=0.6666115959158384, pvalue=0.0)\n",
      "\n",
      " SpearmanrResult(correlation=0.6863965462374839, pvalue=0.0)\n"
     ]
    }
   ],
   "source": [
    "print('Scores for Optimized Random Forest:\\n')\n",
    "scores(y_test, y_pred_rf)"
   ]
  },
  {
   "cell_type": "markdown",
   "metadata": {},
   "source": [
    "These are the best results I got so far!"
   ]
  }
 ],
 "metadata": {
  "kernelspec": {
   "display_name": "Python 3",
   "language": "python",
   "name": "python3"
  },
  "language_info": {
   "codemirror_mode": {
    "name": "ipython",
    "version": 3
   },
   "file_extension": ".py",
   "mimetype": "text/x-python",
   "name": "python",
   "nbconvert_exporter": "python",
   "pygments_lexer": "ipython3",
   "version": "3.6.8"
  }
 },
 "nbformat": 4,
 "nbformat_minor": 2
}
