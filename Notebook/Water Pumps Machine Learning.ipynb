{
 "cells": [
  {
   "cell_type": "markdown",
   "metadata": {},
   "source": [
    "# Tanzania water pumps project : Machine Learning"
   ]
  },
  {
   "cell_type": "code",
   "execution_count": 55,
   "metadata": {
    "collapsed": true
   },
   "outputs": [],
   "source": [
    "import numpy as np\n",
    "import pandas as pd\n",
    "from sklearn.preprocessing import MinMaxScaler\n",
    "from sklearn.model_selection import train_test_split, StratifiedKFold\n",
    "from sklearn.metrics import confusion_matrix, f1_score, log_loss\n",
    "from scipy.stats import kendalltau\n",
    "from sklearn.multiclass import OneVsRestClassifier\n",
    "from sklearn.linear_model import LogisticRegression\n",
    "from sklearn.svm import SVC\n",
    "from sklearn.ensemble import RandomForestClassifier, AdaBoostClassifier\n",
    "from sklearn.neighbors import KNeighborsClassifier\n",
    "from sklearn.naive_bayes import MultinomialNB"
   ]
  },
  {
   "cell_type": "code",
   "execution_count": 56,
   "metadata": {
    "collapsed": true
   },
   "outputs": [],
   "source": [
    "clean_df = pd.read_csv('../Data/Clean_DF.csv', index_col='id')"
   ]
  },
  {
   "cell_type": "code",
   "execution_count": 57,
   "metadata": {
    "scrolled": false
   },
   "outputs": [
    {
     "name": "stdout",
     "output_type": "stream",
     "text": [
      "<class 'pandas.core.frame.DataFrame'>\n",
      "Int64Index: 59400 entries, 69572 to 26348\n",
      "Data columns (total 23 columns):\n",
      "amount_tsh               59400 non-null float64\n",
      "funder                   59400 non-null object\n",
      "gps_height               59400 non-null int64\n",
      "installer                59400 non-null object\n",
      "longitude                59400 non-null float64\n",
      "latitude                 59400 non-null float64\n",
      "basin                    59400 non-null object\n",
      "region                   59400 non-null object\n",
      "district_code            59400 non-null int64\n",
      "lga                      59400 non-null object\n",
      "ward                     59400 non-null object\n",
      "population               59400 non-null int64\n",
      "public_meeting           59400 non-null bool\n",
      "permit                   59400 non-null bool\n",
      "construction_year        59400 non-null float64\n",
      "extraction_type_class    59400 non-null object\n",
      "management               59400 non-null object\n",
      "payment                  59400 non-null object\n",
      "quality_group            59400 non-null object\n",
      "quantity                 59400 non-null object\n",
      "source_type              59400 non-null object\n",
      "waterpoint_type_group    59400 non-null object\n",
      "status_group             59400 non-null object\n",
      "dtypes: bool(2), float64(4), int64(3), object(14)\n",
      "memory usage: 10.1+ MB\n"
     ]
    }
   ],
   "source": [
    "clean_df.info()"
   ]
  },
  {
   "cell_type": "markdown",
   "metadata": {},
   "source": [
    "## Categorize columns"
   ]
  },
  {
   "cell_type": "code",
   "execution_count": 58,
   "metadata": {
    "collapsed": true
   },
   "outputs": [],
   "source": [
    "X = pd.DataFrame()\n",
    "# These categories are not ordered\n",
    "col_to_cat=['funder','installer','basin','region','district_code','lga','ward',\n",
    "            'extraction_type_class','management','source_type','waterpoint_type_group']\n",
    "for col in col_to_cat:\n",
    "    X[col] = clean_df[col].astype('category').cat.codes\n",
    "\n",
    "# These categories are ordered\n",
    "payment_type = pd.CategoricalDtype(categories=['other','never pay','pay when scheme fails',\n",
    "                                               'pay annually','pay monthly','pay per bucket'],\n",
    "                                   ordered=True)\n",
    "X['payment'] = clean_df['payment'].astype(payment_type).cat.codes\n",
    "\n",
    "quality_group_type = pd.CategoricalDtype(categories=['unknown','fluoride','salty','colored',\n",
    "                                                     'milky','good'], ordered=True)\n",
    "X['quality_group'] = clean_df['quality_group'].astype(quality_group_type).cat.codes\n",
    "\n",
    "quantity_type = pd.CategoricalDtype(categories=['unknown','dry','insufficient','seasonal',\n",
    "                                                'enough'], ordered=True)\n",
    "X['quantity'] = clean_df['quantity'].astype(quantity_type).cat.codes"
   ]
  },
  {
   "cell_type": "code",
   "execution_count": 59,
   "metadata": {
    "collapsed": true
   },
   "outputs": [],
   "source": [
    "X = pd.concat([X, clean_df[['public_meeting','permit']]], axis='columns')"
   ]
  },
  {
   "cell_type": "markdown",
   "metadata": {},
   "source": [
    "## Scale numeric columns"
   ]
  },
  {
   "cell_type": "code",
   "execution_count": 60,
   "metadata": {
    "collapsed": true
   },
   "outputs": [],
   "source": [
    "col_numeric = ['amount_tsh','gps_height','longitude','latitude','population','construction_year']"
   ]
  },
  {
   "cell_type": "code",
   "execution_count": 61,
   "metadata": {
    "collapsed": true
   },
   "outputs": [],
   "source": [
    "# Scale columns using MinMax scaler to have only positive values\n",
    "s = MinMaxScaler()\n",
    "scaled_array = s.fit_transform(clean_df[col_numeric].astype(float))\n",
    "scaled_df = pd.DataFrame(scaled_array, index=clean_df.index, columns=col_numeric)\n",
    "\n",
    "XS = pd.concat([X, scaled_df], axis='columns')"
   ]
  },
  {
   "cell_type": "code",
   "execution_count": 62,
   "metadata": {
    "collapsed": true
   },
   "outputs": [],
   "source": [
    "# X is not scaled\n",
    "X = pd.concat([X, clean_df[col_numeric]], axis='columns')"
   ]
  },
  {
   "cell_type": "code",
   "execution_count": 63,
   "metadata": {},
   "outputs": [
    {
     "name": "stdout",
     "output_type": "stream",
     "text": [
      "<class 'pandas.core.frame.DataFrame'>\n",
      "Int64Index: 59400 entries, 69572 to 26348\n",
      "Data columns (total 22 columns):\n",
      "funder                   59400 non-null int8\n",
      "installer                59400 non-null int8\n",
      "basin                    59400 non-null int8\n",
      "region                   59400 non-null int8\n",
      "district_code            59400 non-null int8\n",
      "lga                      59400 non-null int8\n",
      "ward                     59400 non-null int8\n",
      "extraction_type_class    59400 non-null int8\n",
      "management               59400 non-null int8\n",
      "source_type              59400 non-null int8\n",
      "waterpoint_type_group    59400 non-null int8\n",
      "payment                  59400 non-null int8\n",
      "quality_group            59400 non-null int8\n",
      "quantity                 59400 non-null int8\n",
      "public_meeting           59400 non-null bool\n",
      "permit                   59400 non-null bool\n",
      "amount_tsh               59400 non-null float64\n",
      "gps_height               59400 non-null int64\n",
      "longitude                59400 non-null float64\n",
      "latitude                 59400 non-null float64\n",
      "population               59400 non-null int64\n",
      "construction_year        59400 non-null float64\n",
      "dtypes: bool(2), float64(4), int64(2), int8(14)\n",
      "memory usage: 4.1 MB\n"
     ]
    }
   ],
   "source": [
    "X.info()"
   ]
  },
  {
   "cell_type": "code",
   "execution_count": 64,
   "metadata": {},
   "outputs": [
    {
     "data": {
      "text/html": [
       "<div>\n",
       "<style scoped>\n",
       "    .dataframe tbody tr th:only-of-type {\n",
       "        vertical-align: middle;\n",
       "    }\n",
       "\n",
       "    .dataframe tbody tr th {\n",
       "        vertical-align: top;\n",
       "    }\n",
       "\n",
       "    .dataframe thead th {\n",
       "        text-align: right;\n",
       "    }\n",
       "</style>\n",
       "<table border=\"1\" class=\"dataframe\">\n",
       "  <thead>\n",
       "    <tr style=\"text-align: right;\">\n",
       "      <th></th>\n",
       "      <th>count</th>\n",
       "      <th>mean</th>\n",
       "      <th>std</th>\n",
       "      <th>min</th>\n",
       "      <th>25%</th>\n",
       "      <th>50%</th>\n",
       "      <th>75%</th>\n",
       "      <th>max</th>\n",
       "    </tr>\n",
       "  </thead>\n",
       "  <tbody>\n",
       "    <tr>\n",
       "      <th>funder</th>\n",
       "      <td>59400.0</td>\n",
       "      <td>50.852559</td>\n",
       "      <td>26.907972</td>\n",
       "      <td>0.000000</td>\n",
       "      <td>27.000000</td>\n",
       "      <td>61.000000</td>\n",
       "      <td>66.000000</td>\n",
       "      <td>100.000000</td>\n",
       "    </tr>\n",
       "    <tr>\n",
       "      <th>installer</th>\n",
       "      <td>59400.0</td>\n",
       "      <td>44.419680</td>\n",
       "      <td>24.918253</td>\n",
       "      <td>0.000000</td>\n",
       "      <td>27.000000</td>\n",
       "      <td>33.000000</td>\n",
       "      <td>67.000000</td>\n",
       "      <td>99.000000</td>\n",
       "    </tr>\n",
       "    <tr>\n",
       "      <th>basin</th>\n",
       "      <td>59400.0</td>\n",
       "      <td>4.077172</td>\n",
       "      <td>2.473082</td>\n",
       "      <td>0.000000</td>\n",
       "      <td>2.000000</td>\n",
       "      <td>4.000000</td>\n",
       "      <td>6.000000</td>\n",
       "      <td>8.000000</td>\n",
       "    </tr>\n",
       "    <tr>\n",
       "      <th>region</th>\n",
       "      <td>59400.0</td>\n",
       "      <td>9.835606</td>\n",
       "      <td>5.936892</td>\n",
       "      <td>0.000000</td>\n",
       "      <td>4.000000</td>\n",
       "      <td>10.000000</td>\n",
       "      <td>15.000000</td>\n",
       "      <td>20.000000</td>\n",
       "    </tr>\n",
       "    <tr>\n",
       "      <th>district_code</th>\n",
       "      <td>59400.0</td>\n",
       "      <td>3.867424</td>\n",
       "      <td>2.992263</td>\n",
       "      <td>0.000000</td>\n",
       "      <td>2.000000</td>\n",
       "      <td>3.000000</td>\n",
       "      <td>5.000000</td>\n",
       "      <td>19.000000</td>\n",
       "    </tr>\n",
       "    <tr>\n",
       "      <th>lga</th>\n",
       "      <td>59400.0</td>\n",
       "      <td>60.039882</td>\n",
       "      <td>35.244499</td>\n",
       "      <td>0.000000</td>\n",
       "      <td>30.000000</td>\n",
       "      <td>60.000000</td>\n",
       "      <td>91.000000</td>\n",
       "      <td>124.000000</td>\n",
       "    </tr>\n",
       "    <tr>\n",
       "      <th>ward</th>\n",
       "      <td>59400.0</td>\n",
       "      <td>89.999798</td>\n",
       "      <td>23.952799</td>\n",
       "      <td>0.000000</td>\n",
       "      <td>100.000000</td>\n",
       "      <td>100.000000</td>\n",
       "      <td>100.000000</td>\n",
       "      <td>100.000000</td>\n",
       "    </tr>\n",
       "    <tr>\n",
       "      <th>extraction_type_class</th>\n",
       "      <td>59400.0</td>\n",
       "      <td>1.264663</td>\n",
       "      <td>1.626676</td>\n",
       "      <td>0.000000</td>\n",
       "      <td>0.000000</td>\n",
       "      <td>1.000000</td>\n",
       "      <td>2.000000</td>\n",
       "      <td>6.000000</td>\n",
       "    </tr>\n",
       "    <tr>\n",
       "      <th>management</th>\n",
       "      <td>59400.0</td>\n",
       "      <td>6.329630</td>\n",
       "      <td>1.917857</td>\n",
       "      <td>0.000000</td>\n",
       "      <td>6.000000</td>\n",
       "      <td>6.000000</td>\n",
       "      <td>6.000000</td>\n",
       "      <td>10.000000</td>\n",
       "    </tr>\n",
       "    <tr>\n",
       "      <th>source_type</th>\n",
       "      <td>59400.0</td>\n",
       "      <td>3.970556</td>\n",
       "      <td>2.191798</td>\n",
       "      <td>0.000000</td>\n",
       "      <td>3.000000</td>\n",
       "      <td>5.000000</td>\n",
       "      <td>6.000000</td>\n",
       "      <td>6.000000</td>\n",
       "    </tr>\n",
       "    <tr>\n",
       "      <th>waterpoint_type_group</th>\n",
       "      <td>59400.0</td>\n",
       "      <td>2.056212</td>\n",
       "      <td>1.378937</td>\n",
       "      <td>0.000000</td>\n",
       "      <td>1.000000</td>\n",
       "      <td>1.000000</td>\n",
       "      <td>3.000000</td>\n",
       "      <td>5.000000</td>\n",
       "    </tr>\n",
       "    <tr>\n",
       "      <th>payment</th>\n",
       "      <td>59400.0</td>\n",
       "      <td>2.057694</td>\n",
       "      <td>1.739346</td>\n",
       "      <td>0.000000</td>\n",
       "      <td>1.000000</td>\n",
       "      <td>1.000000</td>\n",
       "      <td>4.000000</td>\n",
       "      <td>5.000000</td>\n",
       "    </tr>\n",
       "    <tr>\n",
       "      <th>quality_group</th>\n",
       "      <td>59400.0</td>\n",
       "      <td>4.535067</td>\n",
       "      <td>1.210590</td>\n",
       "      <td>0.000000</td>\n",
       "      <td>5.000000</td>\n",
       "      <td>5.000000</td>\n",
       "      <td>5.000000</td>\n",
       "      <td>5.000000</td>\n",
       "    </tr>\n",
       "    <tr>\n",
       "      <th>quantity</th>\n",
       "      <td>59400.0</td>\n",
       "      <td>3.053838</td>\n",
       "      <td>1.162179</td>\n",
       "      <td>0.000000</td>\n",
       "      <td>2.000000</td>\n",
       "      <td>4.000000</td>\n",
       "      <td>4.000000</td>\n",
       "      <td>4.000000</td>\n",
       "    </tr>\n",
       "    <tr>\n",
       "      <th>amount_tsh</th>\n",
       "      <td>59400.0</td>\n",
       "      <td>317.650385</td>\n",
       "      <td>2997.574558</td>\n",
       "      <td>0.000000</td>\n",
       "      <td>0.000000</td>\n",
       "      <td>0.000000</td>\n",
       "      <td>20.000000</td>\n",
       "      <td>350000.000000</td>\n",
       "    </tr>\n",
       "    <tr>\n",
       "      <th>gps_height</th>\n",
       "      <td>59400.0</td>\n",
       "      <td>668.297239</td>\n",
       "      <td>693.116350</td>\n",
       "      <td>-90.000000</td>\n",
       "      <td>0.000000</td>\n",
       "      <td>369.000000</td>\n",
       "      <td>1319.250000</td>\n",
       "      <td>2770.000000</td>\n",
       "    </tr>\n",
       "    <tr>\n",
       "      <th>longitude</th>\n",
       "      <td>59400.0</td>\n",
       "      <td>35.089400</td>\n",
       "      <td>2.589767</td>\n",
       "      <td>29.607122</td>\n",
       "      <td>33.234106</td>\n",
       "      <td>34.908743</td>\n",
       "      <td>37.178387</td>\n",
       "      <td>40.345193</td>\n",
       "    </tr>\n",
       "    <tr>\n",
       "      <th>latitude</th>\n",
       "      <td>59400.0</td>\n",
       "      <td>-5.800779</td>\n",
       "      <td>2.808707</td>\n",
       "      <td>-11.649440</td>\n",
       "      <td>-8.540621</td>\n",
       "      <td>-5.021597</td>\n",
       "      <td>-3.357580</td>\n",
       "      <td>-0.998464</td>\n",
       "    </tr>\n",
       "    <tr>\n",
       "      <th>population</th>\n",
       "      <td>59400.0</td>\n",
       "      <td>233.902407</td>\n",
       "      <td>456.126443</td>\n",
       "      <td>1.000000</td>\n",
       "      <td>100.000000</td>\n",
       "      <td>150.000000</td>\n",
       "      <td>215.000000</td>\n",
       "      <td>30500.000000</td>\n",
       "    </tr>\n",
       "    <tr>\n",
       "      <th>construction_year</th>\n",
       "      <td>59400.0</td>\n",
       "      <td>1996.814686</td>\n",
       "      <td>10.065781</td>\n",
       "      <td>1960.000000</td>\n",
       "      <td>1996.000000</td>\n",
       "      <td>1996.814686</td>\n",
       "      <td>2004.000000</td>\n",
       "      <td>2013.000000</td>\n",
       "    </tr>\n",
       "  </tbody>\n",
       "</table>\n",
       "</div>"
      ],
      "text/plain": [
       "                         count         mean          std          min  \\\n",
       "funder                 59400.0    50.852559    26.907972     0.000000   \n",
       "installer              59400.0    44.419680    24.918253     0.000000   \n",
       "basin                  59400.0     4.077172     2.473082     0.000000   \n",
       "region                 59400.0     9.835606     5.936892     0.000000   \n",
       "district_code          59400.0     3.867424     2.992263     0.000000   \n",
       "lga                    59400.0    60.039882    35.244499     0.000000   \n",
       "ward                   59400.0    89.999798    23.952799     0.000000   \n",
       "extraction_type_class  59400.0     1.264663     1.626676     0.000000   \n",
       "management             59400.0     6.329630     1.917857     0.000000   \n",
       "source_type            59400.0     3.970556     2.191798     0.000000   \n",
       "waterpoint_type_group  59400.0     2.056212     1.378937     0.000000   \n",
       "payment                59400.0     2.057694     1.739346     0.000000   \n",
       "quality_group          59400.0     4.535067     1.210590     0.000000   \n",
       "quantity               59400.0     3.053838     1.162179     0.000000   \n",
       "amount_tsh             59400.0   317.650385  2997.574558     0.000000   \n",
       "gps_height             59400.0   668.297239   693.116350   -90.000000   \n",
       "longitude              59400.0    35.089400     2.589767    29.607122   \n",
       "latitude               59400.0    -5.800779     2.808707   -11.649440   \n",
       "population             59400.0   233.902407   456.126443     1.000000   \n",
       "construction_year      59400.0  1996.814686    10.065781  1960.000000   \n",
       "\n",
       "                               25%          50%          75%            max  \n",
       "funder                   27.000000    61.000000    66.000000     100.000000  \n",
       "installer                27.000000    33.000000    67.000000      99.000000  \n",
       "basin                     2.000000     4.000000     6.000000       8.000000  \n",
       "region                    4.000000    10.000000    15.000000      20.000000  \n",
       "district_code             2.000000     3.000000     5.000000      19.000000  \n",
       "lga                      30.000000    60.000000    91.000000     124.000000  \n",
       "ward                    100.000000   100.000000   100.000000     100.000000  \n",
       "extraction_type_class     0.000000     1.000000     2.000000       6.000000  \n",
       "management                6.000000     6.000000     6.000000      10.000000  \n",
       "source_type               3.000000     5.000000     6.000000       6.000000  \n",
       "waterpoint_type_group     1.000000     1.000000     3.000000       5.000000  \n",
       "payment                   1.000000     1.000000     4.000000       5.000000  \n",
       "quality_group             5.000000     5.000000     5.000000       5.000000  \n",
       "quantity                  2.000000     4.000000     4.000000       4.000000  \n",
       "amount_tsh                0.000000     0.000000    20.000000  350000.000000  \n",
       "gps_height                0.000000   369.000000  1319.250000    2770.000000  \n",
       "longitude                33.234106    34.908743    37.178387      40.345193  \n",
       "latitude                 -8.540621    -5.021597    -3.357580      -0.998464  \n",
       "population              100.000000   150.000000   215.000000   30500.000000  \n",
       "construction_year      1996.000000  1996.814686  2004.000000    2013.000000  "
      ]
     },
     "execution_count": 64,
     "metadata": {},
     "output_type": "execute_result"
    }
   ],
   "source": [
    "X.describe().T"
   ]
  },
  {
   "cell_type": "code",
   "execution_count": 65,
   "metadata": {},
   "outputs": [
    {
     "data": {
      "text/html": [
       "<div>\n",
       "<style scoped>\n",
       "    .dataframe tbody tr th:only-of-type {\n",
       "        vertical-align: middle;\n",
       "    }\n",
       "\n",
       "    .dataframe tbody tr th {\n",
       "        vertical-align: top;\n",
       "    }\n",
       "\n",
       "    .dataframe thead th {\n",
       "        text-align: right;\n",
       "    }\n",
       "</style>\n",
       "<table border=\"1\" class=\"dataframe\">\n",
       "  <thead>\n",
       "    <tr style=\"text-align: right;\">\n",
       "      <th></th>\n",
       "      <th>count</th>\n",
       "      <th>mean</th>\n",
       "      <th>std</th>\n",
       "      <th>min</th>\n",
       "      <th>25%</th>\n",
       "      <th>50%</th>\n",
       "      <th>75%</th>\n",
       "      <th>max</th>\n",
       "    </tr>\n",
       "  </thead>\n",
       "  <tbody>\n",
       "    <tr>\n",
       "      <th>funder</th>\n",
       "      <td>59400.0</td>\n",
       "      <td>50.852559</td>\n",
       "      <td>26.907972</td>\n",
       "      <td>0.0</td>\n",
       "      <td>27.000000</td>\n",
       "      <td>61.000000</td>\n",
       "      <td>66.000000</td>\n",
       "      <td>100.0</td>\n",
       "    </tr>\n",
       "    <tr>\n",
       "      <th>installer</th>\n",
       "      <td>59400.0</td>\n",
       "      <td>44.419680</td>\n",
       "      <td>24.918253</td>\n",
       "      <td>0.0</td>\n",
       "      <td>27.000000</td>\n",
       "      <td>33.000000</td>\n",
       "      <td>67.000000</td>\n",
       "      <td>99.0</td>\n",
       "    </tr>\n",
       "    <tr>\n",
       "      <th>basin</th>\n",
       "      <td>59400.0</td>\n",
       "      <td>4.077172</td>\n",
       "      <td>2.473082</td>\n",
       "      <td>0.0</td>\n",
       "      <td>2.000000</td>\n",
       "      <td>4.000000</td>\n",
       "      <td>6.000000</td>\n",
       "      <td>8.0</td>\n",
       "    </tr>\n",
       "    <tr>\n",
       "      <th>region</th>\n",
       "      <td>59400.0</td>\n",
       "      <td>9.835606</td>\n",
       "      <td>5.936892</td>\n",
       "      <td>0.0</td>\n",
       "      <td>4.000000</td>\n",
       "      <td>10.000000</td>\n",
       "      <td>15.000000</td>\n",
       "      <td>20.0</td>\n",
       "    </tr>\n",
       "    <tr>\n",
       "      <th>district_code</th>\n",
       "      <td>59400.0</td>\n",
       "      <td>3.867424</td>\n",
       "      <td>2.992263</td>\n",
       "      <td>0.0</td>\n",
       "      <td>2.000000</td>\n",
       "      <td>3.000000</td>\n",
       "      <td>5.000000</td>\n",
       "      <td>19.0</td>\n",
       "    </tr>\n",
       "    <tr>\n",
       "      <th>lga</th>\n",
       "      <td>59400.0</td>\n",
       "      <td>60.039882</td>\n",
       "      <td>35.244499</td>\n",
       "      <td>0.0</td>\n",
       "      <td>30.000000</td>\n",
       "      <td>60.000000</td>\n",
       "      <td>91.000000</td>\n",
       "      <td>124.0</td>\n",
       "    </tr>\n",
       "    <tr>\n",
       "      <th>ward</th>\n",
       "      <td>59400.0</td>\n",
       "      <td>89.999798</td>\n",
       "      <td>23.952799</td>\n",
       "      <td>0.0</td>\n",
       "      <td>100.000000</td>\n",
       "      <td>100.000000</td>\n",
       "      <td>100.000000</td>\n",
       "      <td>100.0</td>\n",
       "    </tr>\n",
       "    <tr>\n",
       "      <th>extraction_type_class</th>\n",
       "      <td>59400.0</td>\n",
       "      <td>1.264663</td>\n",
       "      <td>1.626676</td>\n",
       "      <td>0.0</td>\n",
       "      <td>0.000000</td>\n",
       "      <td>1.000000</td>\n",
       "      <td>2.000000</td>\n",
       "      <td>6.0</td>\n",
       "    </tr>\n",
       "    <tr>\n",
       "      <th>management</th>\n",
       "      <td>59400.0</td>\n",
       "      <td>6.329630</td>\n",
       "      <td>1.917857</td>\n",
       "      <td>0.0</td>\n",
       "      <td>6.000000</td>\n",
       "      <td>6.000000</td>\n",
       "      <td>6.000000</td>\n",
       "      <td>10.0</td>\n",
       "    </tr>\n",
       "    <tr>\n",
       "      <th>source_type</th>\n",
       "      <td>59400.0</td>\n",
       "      <td>3.970556</td>\n",
       "      <td>2.191798</td>\n",
       "      <td>0.0</td>\n",
       "      <td>3.000000</td>\n",
       "      <td>5.000000</td>\n",
       "      <td>6.000000</td>\n",
       "      <td>6.0</td>\n",
       "    </tr>\n",
       "    <tr>\n",
       "      <th>waterpoint_type_group</th>\n",
       "      <td>59400.0</td>\n",
       "      <td>2.056212</td>\n",
       "      <td>1.378937</td>\n",
       "      <td>0.0</td>\n",
       "      <td>1.000000</td>\n",
       "      <td>1.000000</td>\n",
       "      <td>3.000000</td>\n",
       "      <td>5.0</td>\n",
       "    </tr>\n",
       "    <tr>\n",
       "      <th>payment</th>\n",
       "      <td>59400.0</td>\n",
       "      <td>2.057694</td>\n",
       "      <td>1.739346</td>\n",
       "      <td>0.0</td>\n",
       "      <td>1.000000</td>\n",
       "      <td>1.000000</td>\n",
       "      <td>4.000000</td>\n",
       "      <td>5.0</td>\n",
       "    </tr>\n",
       "    <tr>\n",
       "      <th>quality_group</th>\n",
       "      <td>59400.0</td>\n",
       "      <td>4.535067</td>\n",
       "      <td>1.210590</td>\n",
       "      <td>0.0</td>\n",
       "      <td>5.000000</td>\n",
       "      <td>5.000000</td>\n",
       "      <td>5.000000</td>\n",
       "      <td>5.0</td>\n",
       "    </tr>\n",
       "    <tr>\n",
       "      <th>quantity</th>\n",
       "      <td>59400.0</td>\n",
       "      <td>3.053838</td>\n",
       "      <td>1.162179</td>\n",
       "      <td>0.0</td>\n",
       "      <td>2.000000</td>\n",
       "      <td>4.000000</td>\n",
       "      <td>4.000000</td>\n",
       "      <td>4.0</td>\n",
       "    </tr>\n",
       "    <tr>\n",
       "      <th>amount_tsh</th>\n",
       "      <td>59400.0</td>\n",
       "      <td>0.000908</td>\n",
       "      <td>0.008564</td>\n",
       "      <td>0.0</td>\n",
       "      <td>0.000000</td>\n",
       "      <td>0.000000</td>\n",
       "      <td>0.000057</td>\n",
       "      <td>1.0</td>\n",
       "    </tr>\n",
       "    <tr>\n",
       "      <th>gps_height</th>\n",
       "      <td>59400.0</td>\n",
       "      <td>0.265139</td>\n",
       "      <td>0.242348</td>\n",
       "      <td>0.0</td>\n",
       "      <td>0.031469</td>\n",
       "      <td>0.160490</td>\n",
       "      <td>0.492745</td>\n",
       "      <td>1.0</td>\n",
       "    </tr>\n",
       "    <tr>\n",
       "      <th>longitude</th>\n",
       "      <td>59400.0</td>\n",
       "      <td>0.510546</td>\n",
       "      <td>0.241176</td>\n",
       "      <td>0.0</td>\n",
       "      <td>0.337769</td>\n",
       "      <td>0.493722</td>\n",
       "      <td>0.705086</td>\n",
       "      <td>1.0</td>\n",
       "    </tr>\n",
       "    <tr>\n",
       "      <th>latitude</th>\n",
       "      <td>59400.0</td>\n",
       "      <td>0.549120</td>\n",
       "      <td>0.263704</td>\n",
       "      <td>0.0</td>\n",
       "      <td>0.291881</td>\n",
       "      <td>0.622276</td>\n",
       "      <td>0.778507</td>\n",
       "      <td>1.0</td>\n",
       "    </tr>\n",
       "    <tr>\n",
       "      <th>population</th>\n",
       "      <td>59400.0</td>\n",
       "      <td>0.007636</td>\n",
       "      <td>0.014955</td>\n",
       "      <td>0.0</td>\n",
       "      <td>0.003246</td>\n",
       "      <td>0.004885</td>\n",
       "      <td>0.007017</td>\n",
       "      <td>1.0</td>\n",
       "    </tr>\n",
       "    <tr>\n",
       "      <th>construction_year</th>\n",
       "      <td>59400.0</td>\n",
       "      <td>0.694617</td>\n",
       "      <td>0.189920</td>\n",
       "      <td>0.0</td>\n",
       "      <td>0.679245</td>\n",
       "      <td>0.694617</td>\n",
       "      <td>0.830189</td>\n",
       "      <td>1.0</td>\n",
       "    </tr>\n",
       "  </tbody>\n",
       "</table>\n",
       "</div>"
      ],
      "text/plain": [
       "                         count       mean        std  min         25%  \\\n",
       "funder                 59400.0  50.852559  26.907972  0.0   27.000000   \n",
       "installer              59400.0  44.419680  24.918253  0.0   27.000000   \n",
       "basin                  59400.0   4.077172   2.473082  0.0    2.000000   \n",
       "region                 59400.0   9.835606   5.936892  0.0    4.000000   \n",
       "district_code          59400.0   3.867424   2.992263  0.0    2.000000   \n",
       "lga                    59400.0  60.039882  35.244499  0.0   30.000000   \n",
       "ward                   59400.0  89.999798  23.952799  0.0  100.000000   \n",
       "extraction_type_class  59400.0   1.264663   1.626676  0.0    0.000000   \n",
       "management             59400.0   6.329630   1.917857  0.0    6.000000   \n",
       "source_type            59400.0   3.970556   2.191798  0.0    3.000000   \n",
       "waterpoint_type_group  59400.0   2.056212   1.378937  0.0    1.000000   \n",
       "payment                59400.0   2.057694   1.739346  0.0    1.000000   \n",
       "quality_group          59400.0   4.535067   1.210590  0.0    5.000000   \n",
       "quantity               59400.0   3.053838   1.162179  0.0    2.000000   \n",
       "amount_tsh             59400.0   0.000908   0.008564  0.0    0.000000   \n",
       "gps_height             59400.0   0.265139   0.242348  0.0    0.031469   \n",
       "longitude              59400.0   0.510546   0.241176  0.0    0.337769   \n",
       "latitude               59400.0   0.549120   0.263704  0.0    0.291881   \n",
       "population             59400.0   0.007636   0.014955  0.0    0.003246   \n",
       "construction_year      59400.0   0.694617   0.189920  0.0    0.679245   \n",
       "\n",
       "                              50%         75%    max  \n",
       "funder                  61.000000   66.000000  100.0  \n",
       "installer               33.000000   67.000000   99.0  \n",
       "basin                    4.000000    6.000000    8.0  \n",
       "region                  10.000000   15.000000   20.0  \n",
       "district_code            3.000000    5.000000   19.0  \n",
       "lga                     60.000000   91.000000  124.0  \n",
       "ward                   100.000000  100.000000  100.0  \n",
       "extraction_type_class    1.000000    2.000000    6.0  \n",
       "management               6.000000    6.000000   10.0  \n",
       "source_type              5.000000    6.000000    6.0  \n",
       "waterpoint_type_group    1.000000    3.000000    5.0  \n",
       "payment                  1.000000    4.000000    5.0  \n",
       "quality_group            5.000000    5.000000    5.0  \n",
       "quantity                 4.000000    4.000000    4.0  \n",
       "amount_tsh               0.000000    0.000057    1.0  \n",
       "gps_height               0.160490    0.492745    1.0  \n",
       "longitude                0.493722    0.705086    1.0  \n",
       "latitude                 0.622276    0.778507    1.0  \n",
       "population               0.004885    0.007017    1.0  \n",
       "construction_year        0.694617    0.830189    1.0  "
      ]
     },
     "execution_count": 65,
     "metadata": {},
     "output_type": "execute_result"
    }
   ],
   "source": [
    "XS.describe().T"
   ]
  },
  {
   "cell_type": "code",
   "execution_count": 66,
   "metadata": {
    "collapsed": true
   },
   "outputs": [],
   "source": [
    "# Label\n",
    "y = pd.Series()\n",
    "labels = ['non functional','functional needs repair', 'functional']\n",
    "status_group_type = pd.CategoricalDtype(categories=labels, ordered=True)\n",
    "y = clean_df['status_group'].astype(status_group_type).cat.codes"
   ]
  },
  {
   "cell_type": "markdown",
   "metadata": {},
   "source": [
    "## Separate training from hold out data"
   ]
  },
  {
   "cell_type": "markdown",
   "metadata": {},
   "source": [
    "Split training and hold out data with stratify because the labels are not balanced."
   ]
  },
  {
   "cell_type": "code",
   "execution_count": 67,
   "metadata": {
    "collapsed": true
   },
   "outputs": [],
   "source": [
    "X_train, X_test, y_train, y_test = train_test_split(X, y, test_size=0.2, stratify=y)"
   ]
  },
  {
   "cell_type": "code",
   "execution_count": 68,
   "metadata": {
    "collapsed": true
   },
   "outputs": [],
   "source": [
    "XS_train, XS_test, ys_train, ys_test = train_test_split(XS, y, test_size=0.2, stratify=y)"
   ]
  },
  {
   "cell_type": "markdown",
   "metadata": {},
   "source": [
    "## Calculate metrics for perfect model"
   ]
  },
  {
   "cell_type": "code",
   "execution_count": 69,
   "metadata": {
    "collapsed": true
   },
   "outputs": [],
   "source": [
    "def scores(y_test,y_pred,y_pred_proba=None):\n",
    "    print('Confusion matrix:')\n",
    "    print(confusion_matrix(y_test, y_pred))\n",
    "    print('\\nF1 score: ', f1_score(y_test, y_pred, average='weighted'))\n",
    "    if y_pred_proba is not None:\n",
    "        print('\\nlog_loss: ', log_loss(y_test, y_pred_proba))\n",
    "    print('\\n', kendalltau(y_test, y_pred))\n",
    "    return"
   ]
  },
  {
   "cell_type": "code",
   "execution_count": 70,
   "metadata": {},
   "outputs": [
    {
     "name": "stdout",
     "output_type": "stream",
     "text": [
      "Scores for Perfect Model:\n",
      "\n",
      "Confusion matrix:\n",
      "[[4565    0    0]\n",
      " [   0  863    0]\n",
      " [   0    0 6452]]\n",
      "\n",
      "F1 score:  1.0\n",
      "\n",
      " KendalltauResult(correlation=1.0, pvalue=0.0)\n"
     ]
    }
   ],
   "source": [
    "print('Scores for Perfect Model:\\n')\n",
    "scores(y_test,y_test)"
   ]
  },
  {
   "cell_type": "markdown",
   "metadata": {},
   "source": [
    "Kendall Tau is a measure of the correspondence between 2 rankings. It's a good measure for this problem because the labels are ordered."
   ]
  },
  {
   "cell_type": "markdown",
   "metadata": {},
   "source": [
    "## Calculate metrics for simplest model"
   ]
  },
  {
   "cell_type": "markdown",
   "metadata": {},
   "source": [
    "The most simple model would be to give the label a random value according to the proportions in the sample."
   ]
  },
  {
   "cell_type": "code",
   "execution_count": 71,
   "metadata": {
    "collapsed": true
   },
   "outputs": [],
   "source": [
    "labels_count = y_test.value_counts().sort_index()\n",
    "y_pred_s = np.ones_like(y_test, dtype=int)\n",
    "y_pred_s[:labels_count[0]] = 0\n",
    "y_pred_s[-labels_count[2]:] = 2\n",
    "np.random.shuffle(y_pred_s)"
   ]
  },
  {
   "cell_type": "markdown",
   "metadata": {},
   "source": [
    "The probabilities for each label are the proportions of each label in the sample."
   ]
  },
  {
   "cell_type": "code",
   "execution_count": 72,
   "metadata": {
    "collapsed": true
   },
   "outputs": [],
   "source": [
    "y_pred_proba_s = np.empty((len(y_test),3),dtype=float)\n",
    "for i in range (0,3):\n",
    "    y_pred_proba_s[:,i] = labels_count[i]/len(y_test)"
   ]
  },
  {
   "cell_type": "code",
   "execution_count": 73,
   "metadata": {},
   "outputs": [
    {
     "name": "stdout",
     "output_type": "stream",
     "text": [
      "Scores for Simplest Model:\n",
      "\n",
      "Confusion matrix:\n",
      "[[1708  333 2524]\n",
      " [ 334   58  471]\n",
      " [2523  472 3457]]\n",
      "\n",
      "F1 score:  0.4396464646464647\n",
      "\n",
      "log_loss:  0.8895473153415451\n",
      "\n",
      " KendalltauResult(correlation=-0.01596640706638022, pvalue=0.06557633629012284)\n"
     ]
    }
   ],
   "source": [
    "print('Scores for Simplest Model:\\n')\n",
    "scores(y_test, y_pred_s, y_pred_proba_s)"
   ]
  },
  {
   "cell_type": "markdown",
   "metadata": {},
   "source": [
    "## Calculate metrics for different models"
   ]
  },
  {
   "cell_type": "markdown",
   "metadata": {},
   "source": [
    "### Linear Logistic Regression"
   ]
  },
  {
   "cell_type": "code",
   "execution_count": 74,
   "metadata": {
    "collapsed": true
   },
   "outputs": [],
   "source": [
    "lr = OneVsRestClassifier(LogisticRegression(random_state=14, multi_class='ovr',\n",
    "                                            class_weight='balanced', solver='liblinear'))"
   ]
  },
  {
   "cell_type": "code",
   "execution_count": 75,
   "metadata": {
    "scrolled": true
   },
   "outputs": [
    {
     "data": {
      "text/plain": [
       "OneVsRestClassifier(estimator=LogisticRegression(C=1.0, class_weight='balanced', dual=False,\n",
       "          fit_intercept=True, intercept_scaling=1, max_iter=100,\n",
       "          multi_class='ovr', n_jobs=None, penalty='l2', random_state=14,\n",
       "          solver='liblinear', tol=0.0001, verbose=0, warm_start=False),\n",
       "          n_jobs=None)"
      ]
     },
     "execution_count": 75,
     "metadata": {},
     "output_type": "execute_result"
    }
   ],
   "source": [
    "lr.fit(XS_train, ys_train)"
   ]
  },
  {
   "cell_type": "code",
   "execution_count": 76,
   "metadata": {
    "scrolled": false
   },
   "outputs": [
    {
     "name": "stdout",
     "output_type": "stream",
     "text": [
      "Scores for logistic regression:\n",
      "\n",
      "Confusion matrix:\n",
      "[[2979  591  995]\n",
      " [ 224  277  362]\n",
      " [1378 1142 3932]]\n",
      "\n",
      "F1 score:  0.6280878216993391\n",
      "\n",
      "log_loss:  0.9389346419568432\n",
      "\n",
      " KendalltauResult(correlation=0.3990733338814309, pvalue=0.0)\n"
     ]
    }
   ],
   "source": [
    "y_pred_lr = lr.predict(XS_test)\n",
    "y_pred_proba_lr = lr.predict_proba(XS_test)\n",
    "print('Scores for logistic regression:\\n')\n",
    "scores(ys_test, y_pred_lr, y_pred_proba_lr)"
   ]
  },
  {
   "cell_type": "markdown",
   "metadata": {},
   "source": [
    "### SVM"
   ]
  },
  {
   "cell_type": "code",
   "execution_count": 77,
   "metadata": {
    "collapsed": true
   },
   "outputs": [],
   "source": [
    "svm = OneVsRestClassifier(SVC(random_state=14, class_weight='balanced', \n",
    "                              decision_function_shape='ovr', gamma='scale'))"
   ]
  },
  {
   "cell_type": "code",
   "execution_count": 78,
   "metadata": {},
   "outputs": [
    {
     "data": {
      "text/plain": [
       "OneVsRestClassifier(estimator=SVC(C=1.0, cache_size=200, class_weight='balanced', coef0=0.0,\n",
       "  decision_function_shape='ovr', degree=3, gamma='scale', kernel='rbf',\n",
       "  max_iter=-1, probability=False, random_state=14, shrinking=True,\n",
       "  tol=0.001, verbose=False),\n",
       "          n_jobs=None)"
      ]
     },
     "execution_count": 78,
     "metadata": {},
     "output_type": "execute_result"
    }
   ],
   "source": [
    "# use scaled XS for SVM\n",
    "svm.fit(XS_train, ys_train)"
   ]
  },
  {
   "cell_type": "code",
   "execution_count": 79,
   "metadata": {
    "scrolled": true
   },
   "outputs": [
    {
     "name": "stdout",
     "output_type": "stream",
     "text": [
      "Scores for SVM:\n",
      "\n",
      "Confusion matrix:\n",
      "[[3033  604  928]\n",
      " [ 145  509  209]\n",
      " [1093 1084 4275]]\n",
      "\n",
      "F1 score:  0.6793574645879152\n",
      "\n",
      " KendalltauResult(correlation=0.47387505081048015, pvalue=0.0)\n"
     ]
    }
   ],
   "source": [
    "y_pred_svm = svm.predict(XS_test)\n",
    "print('Scores for SVM:\\n')\n",
    "scores(ys_test, y_pred_svm)"
   ]
  },
  {
   "cell_type": "markdown",
   "metadata": {},
   "source": [
    "### Random Forest"
   ]
  },
  {
   "cell_type": "code",
   "execution_count": 80,
   "metadata": {
    "collapsed": true
   },
   "outputs": [],
   "source": [
    "rf = OneVsRestClassifier(RandomForestClassifier(random_state=14, n_estimators=10))"
   ]
  },
  {
   "cell_type": "code",
   "execution_count": 81,
   "metadata": {},
   "outputs": [
    {
     "data": {
      "text/plain": [
       "OneVsRestClassifier(estimator=RandomForestClassifier(bootstrap=True, class_weight=None, criterion='gini',\n",
       "            max_depth=None, max_features='auto', max_leaf_nodes=None,\n",
       "            min_impurity_decrease=0.0, min_impurity_split=None,\n",
       "            min_samples_leaf=1, min_samples_split=2,\n",
       "            min_weight_fraction_leaf=0.0, n_estimators=10, n_jobs=None,\n",
       "            oob_score=False, random_state=14, verbose=0, warm_start=False),\n",
       "          n_jobs=None)"
      ]
     },
     "execution_count": 81,
     "metadata": {},
     "output_type": "execute_result"
    }
   ],
   "source": [
    "rf.fit(X_train, y_train)"
   ]
  },
  {
   "cell_type": "code",
   "execution_count": 82,
   "metadata": {
    "collapsed": true
   },
   "outputs": [],
   "source": [
    "y_pred_rf = rf.predict(X_test)\n",
    "y_pred_proba_rf = rf.predict_proba(X_test)"
   ]
  },
  {
   "cell_type": "code",
   "execution_count": 83,
   "metadata": {
    "scrolled": true
   },
   "outputs": [
    {
     "name": "stdout",
     "output_type": "stream",
     "text": [
      "Scores for Random Forest:\n",
      "\n",
      "Confusion matrix:\n",
      "[[3494   82  989]\n",
      " [ 129  275  459]\n",
      " [ 551  185 5716]]\n",
      "\n",
      "F1 score:  0.7916885376282825\n",
      "\n",
      "log_loss:  1.8730356603260692\n",
      "\n",
      " KendalltauResult(correlation=0.6497368919366576, pvalue=0.0)\n"
     ]
    }
   ],
   "source": [
    "print('Scores for Random Forest:\\n')\n",
    "scores(y_test, y_pred_rf, y_pred_proba_rf)"
   ]
  },
  {
   "cell_type": "markdown",
   "metadata": {},
   "source": [
    "### K Neighbors"
   ]
  },
  {
   "cell_type": "code",
   "execution_count": 84,
   "metadata": {
    "collapsed": true
   },
   "outputs": [],
   "source": [
    "kn = OneVsRestClassifier(KNeighborsClassifier())"
   ]
  },
  {
   "cell_type": "code",
   "execution_count": 85,
   "metadata": {},
   "outputs": [
    {
     "data": {
      "text/plain": [
       "OneVsRestClassifier(estimator=KNeighborsClassifier(algorithm='auto', leaf_size=30, metric='minkowski',\n",
       "           metric_params=None, n_jobs=None, n_neighbors=5, p=2,\n",
       "           weights='uniform'),\n",
       "          n_jobs=None)"
      ]
     },
     "execution_count": 85,
     "metadata": {},
     "output_type": "execute_result"
    }
   ],
   "source": [
    "# Use scaled XS\n",
    "kn.fit(XS_train, ys_train)"
   ]
  },
  {
   "cell_type": "code",
   "execution_count": 86,
   "metadata": {
    "collapsed": true
   },
   "outputs": [],
   "source": [
    "y_pred_kn = kn.predict(XS_test)\n",
    "y_pred_proba_kn = kn.predict_proba(XS_test)"
   ]
  },
  {
   "cell_type": "code",
   "execution_count": 87,
   "metadata": {},
   "outputs": [
    {
     "name": "stdout",
     "output_type": "stream",
     "text": [
      "Scores for K Neighbors\n",
      "\n",
      "Confusion matrix:\n",
      "[[3176   90 1299]\n",
      " [ 125  271  467]\n",
      " [ 756  186 5510]]\n",
      "\n",
      "F1 score:  0.7469809089442876\n",
      "\n",
      "log_loss:  2.703396730475956\n",
      "\n",
      " KendalltauResult(correlation=0.5553090601109151, pvalue=0.0)\n"
     ]
    }
   ],
   "source": [
    "print('Scores for K Neighbors\\n')\n",
    "scores(ys_test, y_pred_kn, y_pred_proba_kn)"
   ]
  },
  {
   "cell_type": "markdown",
   "metadata": {},
   "source": [
    "### Naive Bayes"
   ]
  },
  {
   "cell_type": "code",
   "execution_count": 88,
   "metadata": {
    "collapsed": true
   },
   "outputs": [],
   "source": [
    "nb = OneVsRestClassifier(MultinomialNB())"
   ]
  },
  {
   "cell_type": "code",
   "execution_count": 89,
   "metadata": {},
   "outputs": [
    {
     "data": {
      "text/plain": [
       "OneVsRestClassifier(estimator=MultinomialNB(alpha=1.0, class_prior=None, fit_prior=True),\n",
       "          n_jobs=None)"
      ]
     },
     "execution_count": 89,
     "metadata": {},
     "output_type": "execute_result"
    }
   ],
   "source": [
    "# Use scaled XS for Naive Bayes\n",
    "nb.fit(XS_train,ys_train)"
   ]
  },
  {
   "cell_type": "code",
   "execution_count": 90,
   "metadata": {
    "collapsed": true
   },
   "outputs": [],
   "source": [
    "y_pred_nb = nb.predict(XS_test)\n",
    "y_pred_proba_nb = nb.predict_proba(XS_test)"
   ]
  },
  {
   "cell_type": "code",
   "execution_count": 91,
   "metadata": {},
   "outputs": [
    {
     "name": "stdout",
     "output_type": "stream",
     "text": [
      "Scores for Naive Bayes\n",
      "\n",
      "Confusion matrix:\n",
      "[[2778  283 1504]\n",
      " [ 284  108  471]\n",
      " [2430  416 3606]]\n",
      "\n",
      "F1 score:  0.5471867176939406\n",
      "\n",
      "log_loss:  1.6980747296735936\n",
      "\n",
      " KendalltauResult(correlation=0.2094623795997861, pvalue=1.320371631122597e-128)\n"
     ]
    }
   ],
   "source": [
    "print('Scores for Naive Bayes\\n')\n",
    "scores(ys_test,y_pred_nb, y_pred_proba_nb)"
   ]
  },
  {
   "cell_type": "markdown",
   "metadata": {},
   "source": [
    "### AdaBoost"
   ]
  },
  {
   "cell_type": "code",
   "execution_count": 92,
   "metadata": {
    "collapsed": true
   },
   "outputs": [],
   "source": [
    "ab = OneVsRestClassifier(AdaBoostClassifier(random_state=14))"
   ]
  },
  {
   "cell_type": "code",
   "execution_count": 93,
   "metadata": {},
   "outputs": [
    {
     "data": {
      "text/plain": [
       "OneVsRestClassifier(estimator=AdaBoostClassifier(algorithm='SAMME.R', base_estimator=None,\n",
       "          learning_rate=1.0, n_estimators=50, random_state=14),\n",
       "          n_jobs=None)"
      ]
     },
     "execution_count": 93,
     "metadata": {},
     "output_type": "execute_result"
    }
   ],
   "source": [
    "ab.fit(X_train, y_train)"
   ]
  },
  {
   "cell_type": "code",
   "execution_count": 94,
   "metadata": {
    "collapsed": true
   },
   "outputs": [],
   "source": [
    "y_pred_ab = ab.predict(X_test)\n",
    "y_pred_proba_ab = ab.predict_proba(X_test)"
   ]
  },
  {
   "cell_type": "code",
   "execution_count": 95,
   "metadata": {
    "scrolled": true
   },
   "outputs": [
    {
     "name": "stdout",
     "output_type": "stream",
     "text": [
      "Scores for Ada Boost:\n",
      "\n",
      "Confusion matrix:\n",
      "[[2813   17 1735]\n",
      " [ 158   45  660]\n",
      " [ 624   33 5795]]\n",
      "\n",
      "F1 score:  0.7016497705535681\n",
      "\n",
      "log_loss:  1.0790205292006343\n",
      "\n",
      " KendalltauResult(correlation=0.5129807923719177, pvalue=0.0)\n"
     ]
    }
   ],
   "source": [
    "print('Scores for Ada Boost:\\n')\n",
    "scores(y_test, y_pred_ab, y_pred_proba_ab)"
   ]
  },
  {
   "cell_type": "markdown",
   "metadata": {},
   "source": [
    "## Optimize the best model: Random Forest"
   ]
  },
  {
   "cell_type": "markdown",
   "metadata": {},
   "source": [
    "### Display the model attributes"
   ]
  },
  {
   "cell_type": "code",
   "execution_count": 96,
   "metadata": {},
   "outputs": [
    {
     "name": "stdout",
     "output_type": "stream",
     "text": [
      "Features importance\n",
      "\n"
     ]
    },
    {
     "data": {
      "text/html": [
       "<div>\n",
       "<style scoped>\n",
       "    .dataframe tbody tr th:only-of-type {\n",
       "        vertical-align: middle;\n",
       "    }\n",
       "\n",
       "    .dataframe tbody tr th {\n",
       "        vertical-align: top;\n",
       "    }\n",
       "\n",
       "    .dataframe thead th {\n",
       "        text-align: right;\n",
       "    }\n",
       "</style>\n",
       "<table border=\"1\" class=\"dataframe\">\n",
       "  <thead>\n",
       "    <tr style=\"text-align: right;\">\n",
       "      <th></th>\n",
       "      <th>average</th>\n",
       "      <th>Random Forest 1</th>\n",
       "      <th>Random Forest 2</th>\n",
       "      <th>Random Forest 3</th>\n",
       "    </tr>\n",
       "  </thead>\n",
       "  <tbody>\n",
       "    <tr>\n",
       "      <th>funder</th>\n",
       "      <td>0.042505</td>\n",
       "      <td>0.038512</td>\n",
       "      <td>0.046738</td>\n",
       "      <td>0.042264</td>\n",
       "    </tr>\n",
       "    <tr>\n",
       "      <th>installer</th>\n",
       "      <td>0.032801</td>\n",
       "      <td>0.032075</td>\n",
       "      <td>0.034779</td>\n",
       "      <td>0.031548</td>\n",
       "    </tr>\n",
       "    <tr>\n",
       "      <th>basin</th>\n",
       "      <td>0.016130</td>\n",
       "      <td>0.016639</td>\n",
       "      <td>0.016010</td>\n",
       "      <td>0.015742</td>\n",
       "    </tr>\n",
       "    <tr>\n",
       "      <th>region</th>\n",
       "      <td>0.019179</td>\n",
       "      <td>0.018564</td>\n",
       "      <td>0.017005</td>\n",
       "      <td>0.021969</td>\n",
       "    </tr>\n",
       "    <tr>\n",
       "      <th>district_code</th>\n",
       "      <td>0.022212</td>\n",
       "      <td>0.021684</td>\n",
       "      <td>0.022378</td>\n",
       "      <td>0.022575</td>\n",
       "    </tr>\n",
       "    <tr>\n",
       "      <th>lga</th>\n",
       "      <td>0.032430</td>\n",
       "      <td>0.034127</td>\n",
       "      <td>0.030449</td>\n",
       "      <td>0.032716</td>\n",
       "    </tr>\n",
       "    <tr>\n",
       "      <th>ward</th>\n",
       "      <td>0.014638</td>\n",
       "      <td>0.011832</td>\n",
       "      <td>0.018194</td>\n",
       "      <td>0.013886</td>\n",
       "    </tr>\n",
       "    <tr>\n",
       "      <th>extraction_type_class</th>\n",
       "      <td>0.040134</td>\n",
       "      <td>0.059185</td>\n",
       "      <td>0.021547</td>\n",
       "      <td>0.039671</td>\n",
       "    </tr>\n",
       "    <tr>\n",
       "      <th>management</th>\n",
       "      <td>0.019607</td>\n",
       "      <td>0.021181</td>\n",
       "      <td>0.018135</td>\n",
       "      <td>0.019505</td>\n",
       "    </tr>\n",
       "    <tr>\n",
       "      <th>source_type</th>\n",
       "      <td>0.021304</td>\n",
       "      <td>0.023900</td>\n",
       "      <td>0.018368</td>\n",
       "      <td>0.021643</td>\n",
       "    </tr>\n",
       "    <tr>\n",
       "      <th>waterpoint_type_group</th>\n",
       "      <td>0.043433</td>\n",
       "      <td>0.059832</td>\n",
       "      <td>0.013999</td>\n",
       "      <td>0.056468</td>\n",
       "    </tr>\n",
       "    <tr>\n",
       "      <th>payment</th>\n",
       "      <td>0.035033</td>\n",
       "      <td>0.035543</td>\n",
       "      <td>0.031144</td>\n",
       "      <td>0.038411</td>\n",
       "    </tr>\n",
       "    <tr>\n",
       "      <th>quality_group</th>\n",
       "      <td>0.012774</td>\n",
       "      <td>0.015208</td>\n",
       "      <td>0.011158</td>\n",
       "      <td>0.011956</td>\n",
       "    </tr>\n",
       "    <tr>\n",
       "      <th>quantity</th>\n",
       "      <td>0.100796</td>\n",
       "      <td>0.149355</td>\n",
       "      <td>0.033904</td>\n",
       "      <td>0.119128</td>\n",
       "    </tr>\n",
       "    <tr>\n",
       "      <th>public_meeting</th>\n",
       "      <td>0.009134</td>\n",
       "      <td>0.007722</td>\n",
       "      <td>0.011402</td>\n",
       "      <td>0.008279</td>\n",
       "    </tr>\n",
       "    <tr>\n",
       "      <th>permit</th>\n",
       "      <td>0.008828</td>\n",
       "      <td>0.007901</td>\n",
       "      <td>0.009144</td>\n",
       "      <td>0.009440</td>\n",
       "    </tr>\n",
       "    <tr>\n",
       "      <th>amount_tsh</th>\n",
       "      <td>0.023064</td>\n",
       "      <td>0.025412</td>\n",
       "      <td>0.019454</td>\n",
       "      <td>0.024328</td>\n",
       "    </tr>\n",
       "    <tr>\n",
       "      <th>gps_height</th>\n",
       "      <td>0.077961</td>\n",
       "      <td>0.062091</td>\n",
       "      <td>0.097774</td>\n",
       "      <td>0.074019</td>\n",
       "    </tr>\n",
       "    <tr>\n",
       "      <th>longitude</th>\n",
       "      <td>0.162855</td>\n",
       "      <td>0.126278</td>\n",
       "      <td>0.215992</td>\n",
       "      <td>0.146296</td>\n",
       "    </tr>\n",
       "    <tr>\n",
       "      <th>latitude</th>\n",
       "      <td>0.158862</td>\n",
       "      <td>0.127893</td>\n",
       "      <td>0.205904</td>\n",
       "      <td>0.142791</td>\n",
       "    </tr>\n",
       "    <tr>\n",
       "      <th>population</th>\n",
       "      <td>0.052060</td>\n",
       "      <td>0.045396</td>\n",
       "      <td>0.063508</td>\n",
       "      <td>0.047277</td>\n",
       "    </tr>\n",
       "    <tr>\n",
       "      <th>construction_year</th>\n",
       "      <td>0.054259</td>\n",
       "      <td>0.059672</td>\n",
       "      <td>0.043016</td>\n",
       "      <td>0.060089</td>\n",
       "    </tr>\n",
       "  </tbody>\n",
       "</table>\n",
       "</div>"
      ],
      "text/plain": [
       "                        average  Random Forest 1  Random Forest 2  \\\n",
       "funder                 0.042505         0.038512         0.046738   \n",
       "installer              0.032801         0.032075         0.034779   \n",
       "basin                  0.016130         0.016639         0.016010   \n",
       "region                 0.019179         0.018564         0.017005   \n",
       "district_code          0.022212         0.021684         0.022378   \n",
       "lga                    0.032430         0.034127         0.030449   \n",
       "ward                   0.014638         0.011832         0.018194   \n",
       "extraction_type_class  0.040134         0.059185         0.021547   \n",
       "management             0.019607         0.021181         0.018135   \n",
       "source_type            0.021304         0.023900         0.018368   \n",
       "waterpoint_type_group  0.043433         0.059832         0.013999   \n",
       "payment                0.035033         0.035543         0.031144   \n",
       "quality_group          0.012774         0.015208         0.011158   \n",
       "quantity               0.100796         0.149355         0.033904   \n",
       "public_meeting         0.009134         0.007722         0.011402   \n",
       "permit                 0.008828         0.007901         0.009144   \n",
       "amount_tsh             0.023064         0.025412         0.019454   \n",
       "gps_height             0.077961         0.062091         0.097774   \n",
       "longitude              0.162855         0.126278         0.215992   \n",
       "latitude               0.158862         0.127893         0.205904   \n",
       "population             0.052060         0.045396         0.063508   \n",
       "construction_year      0.054259         0.059672         0.043016   \n",
       "\n",
       "                       Random Forest 3  \n",
       "funder                        0.042264  \n",
       "installer                     0.031548  \n",
       "basin                         0.015742  \n",
       "region                        0.021969  \n",
       "district_code                 0.022575  \n",
       "lga                           0.032716  \n",
       "ward                          0.013886  \n",
       "extraction_type_class         0.039671  \n",
       "management                    0.019505  \n",
       "source_type                   0.021643  \n",
       "waterpoint_type_group         0.056468  \n",
       "payment                       0.038411  \n",
       "quality_group                 0.011956  \n",
       "quantity                      0.119128  \n",
       "public_meeting                0.008279  \n",
       "permit                        0.009440  \n",
       "amount_tsh                    0.024328  \n",
       "gps_height                    0.074019  \n",
       "longitude                     0.146296  \n",
       "latitude                      0.142791  \n",
       "population                    0.047277  \n",
       "construction_year             0.060089  "
      ]
     },
     "execution_count": 96,
     "metadata": {},
     "output_type": "execute_result"
    }
   ],
   "source": [
    "features_df = pd.DataFrame(index=list(X.columns))\n",
    "i=0\n",
    "features_df[\"average\"] = 0\n",
    "for estimator in rf.estimators_:\n",
    "    i+=1\n",
    "    features_df[\"Random Forest \" + str(i)] = estimator.feature_importances_\n",
    "    features_df[\"average\"] += estimator.feature_importances_    \n",
    "features_df[\"average\"] /= i\n",
    "print('Features importance\\n')\n",
    "features_df"
   ]
  },
  {
   "cell_type": "markdown",
   "metadata": {},
   "source": [
    "### Try to reduce the number of features to simplify the model."
   ]
  },
  {
   "cell_type": "markdown",
   "metadata": {},
   "source": [
    "public_meeting and permit have less importance"
   ]
  },
  {
   "cell_type": "code",
   "execution_count": 97,
   "metadata": {
    "collapsed": true
   },
   "outputs": [],
   "source": [
    "XR_train = X_train.drop(columns=['public_meeting','permit'])\n",
    "XR_test = X_test.drop(columns=['public_meeting','permit'])"
   ]
  },
  {
   "cell_type": "code",
   "execution_count": 98,
   "metadata": {
    "scrolled": true
   },
   "outputs": [
    {
     "data": {
      "text/plain": [
       "OneVsRestClassifier(estimator=RandomForestClassifier(bootstrap=True, class_weight=None, criterion='gini',\n",
       "            max_depth=None, max_features='auto', max_leaf_nodes=None,\n",
       "            min_impurity_decrease=0.0, min_impurity_split=None,\n",
       "            min_samples_leaf=1, min_samples_split=2,\n",
       "            min_weight_fraction_leaf=0.0, n_estimators=10, n_jobs=None,\n",
       "            oob_score=False, random_state=14, verbose=0, warm_start=False),\n",
       "          n_jobs=None)"
      ]
     },
     "execution_count": 98,
     "metadata": {},
     "output_type": "execute_result"
    }
   ],
   "source": [
    "rf.fit(XR_train, y_train)"
   ]
  },
  {
   "cell_type": "code",
   "execution_count": 99,
   "metadata": {
    "collapsed": true
   },
   "outputs": [],
   "source": [
    "y_pred_rf = rf.predict(XR_test)\n",
    "y_pred_proba_rf = rf.predict_proba(XR_test)"
   ]
  },
  {
   "cell_type": "code",
   "execution_count": 100,
   "metadata": {
    "scrolled": true
   },
   "outputs": [
    {
     "name": "stdout",
     "output_type": "stream",
     "text": [
      "Scores for Random Forest with less features:\n",
      "\n",
      "Confusion matrix:\n",
      "[[3515   77  973]\n",
      " [ 134  278  451]\n",
      " [ 584  189 5679]]\n",
      "\n",
      "F1 score:  0.7908188403975204\n",
      "\n",
      "log_loss:  1.7929986014093628\n",
      "\n",
      " KendalltauResult(correlation=0.6469134788655483, pvalue=0.0)\n"
     ]
    }
   ],
   "source": [
    "print('Scores for Random Forest with less features:\\n')\n",
    "scores(y_test, y_pred_rf, y_pred_proba_rf)"
   ]
  },
  {
   "cell_type": "markdown",
   "metadata": {},
   "source": [
    "F1 score and Kendall Tau correlation have the same values. \n",
    "\n",
    "** Conclusion: I can get rid of the features: public_meeting and permit.**"
   ]
  },
  {
   "cell_type": "markdown",
   "metadata": {},
   "source": [
    "### Use K Fold to optimize parameters"
   ]
  },
  {
   "cell_type": "markdown",
   "metadata": {},
   "source": [
    "I keep XR_test, y_test as hold out, and I optimize the parameters using XR_train, y_train."
   ]
  },
  {
   "cell_type": "code",
   "execution_count": 101,
   "metadata": {
    "collapsed": true
   },
   "outputs": [],
   "source": [
    "def fit_predict_score(XR_train, y_train, model, p, scores_df):\n",
    "    \"\"\"Make K folds, fit model, predict labels and returns f1 and kendall tau scores\"\"\"\n",
    "    n_splits = 5\n",
    "    kf = StratifiedKFold(n_splits=n_splits)\n",
    "    for train_idx, test_idx in kf.split(XR_train, y_train):\n",
    "        XKF_train, XKF_test = XR_train.iloc[train_idx], XR_train.iloc[test_idx]\n",
    "        ykf_train, ykf_test = y_train.iloc[train_idx], y_train.iloc[test_idx]\n",
    "        model.fit(XKF_train, ykf_train)\n",
    "        ykf_pred = model.predict(XKF_test)\n",
    "        f1 = f1_score(ykf_test, ykf_pred, average='weighted')\n",
    "        kt, pval = kendalltau(ykf_test, ykf_pred)\n",
    "        scores_df.loc[p,'f1 score'] += f1\n",
    "        scores_df.loc[p,'kendall tau'] += kt\n",
    "    scores_df.loc[p,'f1 score'] /= n_splits\n",
    "    scores_df.loc[p,'kendall tau'] /= n_splits\n",
    "    return scores_df"
   ]
  },
  {
   "cell_type": "markdown",
   "metadata": {},
   "source": [
    "First, I will optimize n_estimators"
   ]
  },
  {
   "cell_type": "code",
   "execution_count": 102,
   "metadata": {
    "collapsed": true
   },
   "outputs": [],
   "source": [
    "n_estimators_grid = [10,50,100,150,200,300]"
   ]
  },
  {
   "cell_type": "code",
   "execution_count": 103,
   "metadata": {
    "scrolled": true
   },
   "outputs": [
    {
     "data": {
      "text/html": [
       "<div>\n",
       "<style scoped>\n",
       "    .dataframe tbody tr th:only-of-type {\n",
       "        vertical-align: middle;\n",
       "    }\n",
       "\n",
       "    .dataframe tbody tr th {\n",
       "        vertical-align: top;\n",
       "    }\n",
       "\n",
       "    .dataframe thead th {\n",
       "        text-align: right;\n",
       "    }\n",
       "</style>\n",
       "<table border=\"1\" class=\"dataframe\">\n",
       "  <thead>\n",
       "    <tr style=\"text-align: right;\">\n",
       "      <th></th>\n",
       "      <th>f1 score</th>\n",
       "      <th>kendall tau</th>\n",
       "    </tr>\n",
       "  </thead>\n",
       "  <tbody>\n",
       "    <tr>\n",
       "      <th>10</th>\n",
       "      <td>0.789091</td>\n",
       "      <td>0.643934</td>\n",
       "    </tr>\n",
       "    <tr>\n",
       "      <th>50</th>\n",
       "      <td>0.793284</td>\n",
       "      <td>0.652081</td>\n",
       "    </tr>\n",
       "    <tr>\n",
       "      <th>100</th>\n",
       "      <td>0.794525</td>\n",
       "      <td>0.654158</td>\n",
       "    </tr>\n",
       "    <tr>\n",
       "      <th>150</th>\n",
       "      <td>0.794825</td>\n",
       "      <td>0.653897</td>\n",
       "    </tr>\n",
       "    <tr>\n",
       "      <th>200</th>\n",
       "      <td>0.794657</td>\n",
       "      <td>0.653808</td>\n",
       "    </tr>\n",
       "    <tr>\n",
       "      <th>300</th>\n",
       "      <td>0.795858</td>\n",
       "      <td>0.656789</td>\n",
       "    </tr>\n",
       "  </tbody>\n",
       "</table>\n",
       "</div>"
      ],
      "text/plain": [
       "     f1 score  kendall tau\n",
       "10   0.789091     0.643934\n",
       "50   0.793284     0.652081\n",
       "100  0.794525     0.654158\n",
       "150  0.794825     0.653897\n",
       "200  0.794657     0.653808\n",
       "300  0.795858     0.656789"
      ]
     },
     "execution_count": 103,
     "metadata": {},
     "output_type": "execute_result"
    }
   ],
   "source": [
    "scores_df = pd.DataFrame(0, index=n_estimators_grid, columns=['f1 score','kendall tau'])\n",
    "for p in n_estimators_grid:\n",
    "    rf = OneVsRestClassifier(RandomForestClassifier(n_estimators=p))\n",
    "    scores_df = fit_predict_score(XR_train, y_train, rf, p, scores_df)\n",
    "scores_df"
   ]
  },
  {
   "cell_type": "markdown",
   "metadata": {},
   "source": [
    "There is a good improvement from 10 to 50, so I choose 50 for n_estimators."
   ]
  },
  {
   "cell_type": "markdown",
   "metadata": {},
   "source": [
    "Then, I will optimize max_depth"
   ]
  },
  {
   "cell_type": "code",
   "execution_count": 104,
   "metadata": {
    "collapsed": true
   },
   "outputs": [],
   "source": [
    "max_depth_grid = [10,50,100,150,200]"
   ]
  },
  {
   "cell_type": "code",
   "execution_count": 105,
   "metadata": {
    "scrolled": true
   },
   "outputs": [
    {
     "data": {
      "text/html": [
       "<div>\n",
       "<style scoped>\n",
       "    .dataframe tbody tr th:only-of-type {\n",
       "        vertical-align: middle;\n",
       "    }\n",
       "\n",
       "    .dataframe tbody tr th {\n",
       "        vertical-align: top;\n",
       "    }\n",
       "\n",
       "    .dataframe thead th {\n",
       "        text-align: right;\n",
       "    }\n",
       "</style>\n",
       "<table border=\"1\" class=\"dataframe\">\n",
       "  <thead>\n",
       "    <tr style=\"text-align: right;\">\n",
       "      <th></th>\n",
       "      <th>f1 score</th>\n",
       "      <th>kendall tau</th>\n",
       "    </tr>\n",
       "  </thead>\n",
       "  <tbody>\n",
       "    <tr>\n",
       "      <th>10</th>\n",
       "      <td>0.737661</td>\n",
       "      <td>0.585219</td>\n",
       "    </tr>\n",
       "    <tr>\n",
       "      <th>50</th>\n",
       "      <td>0.794157</td>\n",
       "      <td>0.653380</td>\n",
       "    </tr>\n",
       "    <tr>\n",
       "      <th>100</th>\n",
       "      <td>0.793939</td>\n",
       "      <td>0.652324</td>\n",
       "    </tr>\n",
       "    <tr>\n",
       "      <th>150</th>\n",
       "      <td>0.794509</td>\n",
       "      <td>0.653910</td>\n",
       "    </tr>\n",
       "    <tr>\n",
       "      <th>200</th>\n",
       "      <td>0.794030</td>\n",
       "      <td>0.653356</td>\n",
       "    </tr>\n",
       "  </tbody>\n",
       "</table>\n",
       "</div>"
      ],
      "text/plain": [
       "     f1 score  kendall tau\n",
       "10   0.737661     0.585219\n",
       "50   0.794157     0.653380\n",
       "100  0.793939     0.652324\n",
       "150  0.794509     0.653910\n",
       "200  0.794030     0.653356"
      ]
     },
     "execution_count": 105,
     "metadata": {},
     "output_type": "execute_result"
    }
   ],
   "source": [
    "scores_df = pd.DataFrame(0, index= max_depth_grid, columns=['f1 score','kendall tau'])\n",
    "for p in max_depth_grid:\n",
    "    rf = OneVsRestClassifier(RandomForestClassifier(n_estimators=50, max_depth=p))\n",
    "    scores_df = fit_predict_score(XR_train, y_train, rf, p, scores_df)\n",
    "scores_df"
   ]
  },
  {
   "cell_type": "markdown",
   "metadata": {},
   "source": [
    "I choose to use max_depth=50."
   ]
  },
  {
   "cell_type": "markdown",
   "metadata": {},
   "source": [
    "### Test the optimized model on the held out test data"
   ]
  },
  {
   "cell_type": "code",
   "execution_count": 106,
   "metadata": {},
   "outputs": [
    {
     "data": {
      "text/plain": [
       "OneVsRestClassifier(estimator=RandomForestClassifier(bootstrap=True, class_weight=None, criterion='gini',\n",
       "            max_depth=50, max_features='auto', max_leaf_nodes=None,\n",
       "            min_impurity_decrease=0.0, min_impurity_split=None,\n",
       "            min_samples_leaf=1, min_samples_split=2,\n",
       "            min_weight_fraction_leaf=0.0, n_estimators=50, n_jobs=None,\n",
       "            oob_score=False, random_state=None, verbose=0,\n",
       "            warm_start=False),\n",
       "          n_jobs=None)"
      ]
     },
     "execution_count": 106,
     "metadata": {},
     "output_type": "execute_result"
    }
   ],
   "source": [
    "rf = OneVsRestClassifier(RandomForestClassifier(n_estimators=50, max_depth=50))\n",
    "rf.fit(XR_train, y_train)"
   ]
  },
  {
   "cell_type": "code",
   "execution_count": 107,
   "metadata": {
    "collapsed": true
   },
   "outputs": [],
   "source": [
    "y_pred_rf = rf.predict(XR_test)\n",
    "y_pred_proba_rf = rf.predict_proba(XR_test)"
   ]
  },
  {
   "cell_type": "code",
   "execution_count": 108,
   "metadata": {
    "scrolled": true
   },
   "outputs": [
    {
     "name": "stdout",
     "output_type": "stream",
     "text": [
      "Scores for Optimized Random Forest:\n",
      "\n",
      "Confusion matrix:\n",
      "[[3566   76  923]\n",
      " [ 136  289  438]\n",
      " [ 589  179 5684]]\n",
      "\n",
      "F1 score:  0.7967275094113107\n",
      "\n",
      "log_loss:  0.8811162075756189\n",
      "\n",
      " KendalltauResult(correlation=0.657044266632395, pvalue=0.0)\n"
     ]
    }
   ],
   "source": [
    "print('Scores for Optimized Random Forest:\\n')\n",
    "scores(y_test, y_pred_rf, y_pred_proba_rf)"
   ]
  },
  {
   "cell_type": "markdown",
   "metadata": {},
   "source": [
    "These are the best results I got so far!"
   ]
  }
 ],
 "metadata": {
  "kernelspec": {
   "display_name": "Python 3",
   "language": "python",
   "name": "python3"
  },
  "language_info": {
   "codemirror_mode": {
    "name": "ipython",
    "version": 3
   },
   "file_extension": ".py",
   "mimetype": "text/x-python",
   "name": "python",
   "nbconvert_exporter": "python",
   "pygments_lexer": "ipython3",
   "version": "3.6.8"
  }
 },
 "nbformat": 4,
 "nbformat_minor": 2
}
