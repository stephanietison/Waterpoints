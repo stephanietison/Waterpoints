{
 "cells": [
  {
   "cell_type": "markdown",
   "metadata": {},
   "source": [
    "# Tanzania water pumps project : Synthesis"
   ]
  },
  {
   "cell_type": "code",
   "execution_count": 1,
   "metadata": {
    "collapsed": true
   },
   "outputs": [],
   "source": [
    "import numpy as np\n",
    "import pandas as pd\n",
    "from sklearn.multiclass import OneVsRestClassifier\n",
    "from sklearn.ensemble import RandomForestClassifier"
   ]
  },
  {
   "cell_type": "markdown",
   "metadata": {},
   "source": [
    "## Functions for data cleaning"
   ]
  },
  {
   "cell_type": "code",
   "execution_count": 2,
   "metadata": {
    "collapsed": true
   },
   "outputs": [],
   "source": [
    "def set_less_freq(val,most_freq,other):\n",
    "    \"\"\"Replaces values that are not in most_freq list by other\"\"\"\n",
    "    if val not in most_freq:\n",
    "        return other\n",
    "    else:\n",
    "        return val"
   ]
  },
  {
   "cell_type": "code",
   "execution_count": 3,
   "metadata": {
    "collapsed": true
   },
   "outputs": [],
   "source": [
    "def clean_val(s_in,map_df):\n",
    "    \"\"\"This function replaces the values in Serie s_in\n",
    "     according to map_df.before and map_df.after\"\"\"\n",
    "    s_out = s_in.copy()\n",
    "    s_out = s_out.replace(to_replace=list(map_df.before), value=list(map_df.after))\n",
    "    s_out = s_out.str.strip()\n",
    "    s_out = s_out.str.lower()\n",
    "    return s_out"
   ]
  },
  {
   "cell_type": "code",
   "execution_count": 4,
   "metadata": {
    "collapsed": true
   },
   "outputs": [],
   "source": [
    "def fit_latitude_longitude(df):\n",
    "    \"\"\"This function gets regions means\"\"\"\n",
    "    geo_df = df[df.latitude < -0.1]\n",
    "    geo_df = geo_df[geo_df.longitude > 29]\n",
    "    geo_df = geo_df[['latitude','longitude','region']]\n",
    "    mean_df = geo_df.groupby('region')[['latitude','longitude']].mean()\n",
    "    return mean_df"
   ]
  },
  {
   "cell_type": "code",
   "execution_count": 23,
   "metadata": {
    "collapsed": true
   },
   "outputs": [],
   "source": [
    "def clean_latitude_longitude(df, mean_df):\n",
    "    \"\"\"This function replaces 0 or near 0 values by the mean of the region\"\"\"\n",
    "    out_df = df.copy()\n",
    "    for i in df.index:\n",
    "        if df.loc[i,'latitude'] > -0.1 or df.loc[i,'longitude'] < 29:\n",
    "            region = df.loc[i,'region']\n",
    "            out_df.loc[i,'latitude'] = mean_df.loc[region,'latitude']\n",
    "            out_df.loc[i,'longitude'] = mean_df.loc[region,'longitude']\n",
    "    return out_df.latitude, out_df.longitude"
   ]
  },
  {
   "cell_type": "markdown",
   "metadata": {},
   "source": [
    "## Class for data cleaning"
   ]
  },
  {
   "cell_type": "code",
   "execution_count": 6,
   "metadata": {
    "collapsed": true
   },
   "outputs": [],
   "source": [
    "class clean_water():\n",
    "    \"\"\"This class does all the data cleaning and categorization \n",
    "    as done in analysis and machine learning notebooks\"\"\"\n",
    "    \n",
    "    def __init__(self):\n",
    "        # most frequent categories to keep\n",
    "        self.n_to_keep = 100\n",
    "        \n",
    "        # col to drop\n",
    "        self.col_to_drop = ['date_recorded','wpt_name','num_private','subvillage',\n",
    "                            'region_code','recorded_by','scheme_management',\n",
    "                            'scheme_name','extraction_type_group','extraction_type',\n",
    "                            'management_group','payment_type','water_quality',\n",
    "                            'quantity_group','source','source_class',\n",
    "                            'waterpoint_type','public_meeting','permit']\n",
    "        \n",
    "        self.col_to_cat=['funder','installer','basin','region','district_code','lga',\n",
    "                         'ward','extraction_type_class','management','source_type',\n",
    "                         'waterpoint_type_group']\n",
    "        \n",
    "        # fix funder misspellings\n",
    "        self.funder_map = pd.read_csv('../Data/funder map.csv', header=None, \n",
    "                                      names=['before','after'],index_col=False)\n",
    "        \n",
    "        # fix installer misspellings\n",
    "        self.installer_map = pd.read_csv('../Data/installer map.csv', header=None, \n",
    "                                         names=['before','after'],index_col=False)\n",
    "    \n",
    "        # ordered categories for payment\n",
    "        self.payment_type = pd.CategoricalDtype(categories=['other','never pay',\n",
    "                                                            'pay when scheme fails',\n",
    "                                                            'pay annually','pay monthly',\n",
    "                                                            'pay per bucket'],\n",
    "                                                ordered=True)\n",
    "        \n",
    "        # ordered categories for quality_group\n",
    "        self.quality_group_type = pd.CategoricalDtype(categories=['unknown','fluoride',\n",
    "                                                                  'salty','colored',\n",
    "                                                                  'milky','good'], \n",
    "                                                      ordered=True)\n",
    "        \n",
    "        # ordered categories for quantity\n",
    "        self.quantity_type = pd.CategoricalDtype(categories=['unknown','dry','insufficient',\n",
    "                                                             'seasonal','enough'], \n",
    "                                                 ordered=True)\n",
    "        \n",
    "    def fit(self, X):\n",
    "        # funder: fix spelling then get most frequent values\n",
    "        s_funder = clean_val(X.funder,self.funder_map)\n",
    "        self.funder_most_freq = list(s_funder.value_counts()[:self.n_to_keep].index)\n",
    "        \n",
    "        # installer: fix spelling then get most frequent values\n",
    "        s_installer = clean_val(X.installer,self.installer_map)\n",
    "        self.installer_most_freq = list(s_installer.value_counts()[:self.n_to_keep].index)\n",
    "        \n",
    "        # latitude, longitude: get mean values for each region\n",
    "        self.lat_lon_mean = fit_latitude_longitude(X)\n",
    "        \n",
    "        # ward: get most frequent values\n",
    "        self.ward_most_freq = list(X.ward.value_counts()[:self.n_to_keep].index)\n",
    "\n",
    "        # population: get median value\n",
    "        self.pop_median = X[X.population !=0].population.median()\n",
    "        \n",
    "        # construction_year: get mean value\n",
    "        self.year_mean = X[X.construction_year !=0].construction_year.mean()\n",
    "            \n",
    "        return self\n",
    "    \n",
    "    def transform(self, X_in):\n",
    "        X_out = X_in.copy()\n",
    "        # funder: fix spelling then replace less frequent values with other\n",
    "        s_funder = clean_val(X_in.funder, self.funder_map)\n",
    "        X_out.funder = s_funder.apply(set_less_freq, args=(self.funder_most_freq,'other'))\n",
    "\n",
    "        # installer: fix spelling then replace less frequent values with other\n",
    "        s_installer = clean_val(X_in.installer, self.installer_map)\n",
    "        X_out.installer = s_installer.apply(set_less_freq, args=(self.installer_most_freq,'other'))\n",
    "\n",
    "        # latitude, longitude: replace 0 or near 0 values with mean of the region\n",
    "        X_out.latitude, X_out.longitude = clean_latitude_longitude(X_in, self.lat_lon_mean)\n",
    "        \n",
    "        # ward: replace less frequent values with other\n",
    "        X_out.ward = X_in.ward.apply(set_less_freq, args=(self.ward_most_freq,'other'))\n",
    "\n",
    "        # population: replace 0 values with median\n",
    "        X_out.population = X_in.population.replace(to_replace=0,value=self.pop_median)\n",
    "        \n",
    "        # public_meeting: replace Nan with False\n",
    "        X_out.public_meeting = X_in.public_meeting.fillna(False)\n",
    "        \n",
    "        # permit: replace Nan with False\n",
    "        X_out.permit = X_in.permit.fillna(False)\n",
    "        \n",
    "        # construction_year: replace 0 values with mean\n",
    "        X_out.construction_year = X_in.construction_year.replace(to_replace=0,value=self.year_mean)\n",
    "        \n",
    "        # management: replace unknown with other\n",
    "        X_out.management = X_in.management.replace(to_replace='unknown',value='other')\n",
    "        \n",
    "        # payment: replace unknown with other and categorize\n",
    "        X_out.payment = X_in.payment.replace(to_replace='unknown', value='other')\n",
    "        X_out.payment = X_out.payment.astype(self.payment_type).cat.codes\n",
    "\n",
    "        # quality_group: categorize\n",
    "        X_out.quality_group = X_in.quality_group.astype(self.quality_group_type).cat.codes\n",
    "        \n",
    "        # quantity: categorize\n",
    "        X_out.quantity = X_in.quantity.astype(self.quantity_type).cat.codes\n",
    "        \n",
    "        # categorize non ordered columns\n",
    "        for col in self.col_to_cat:\n",
    "            X_out[col] = X_out[col].astype('category').cat.codes\n",
    "        \n",
    "        # drop columns\n",
    "        X_out.drop(columns=self.col_to_drop,inplace=True)\n",
    "        \n",
    "        return X_out"
   ]
  },
  {
   "cell_type": "markdown",
   "metadata": {},
   "source": [
    "## Import data from csv files"
   ]
  },
  {
   "cell_type": "code",
   "execution_count": 7,
   "metadata": {},
   "outputs": [],
   "source": [
    "X_train_source = pd.read_csv('../Data/Training Set Values.csv',index_col='id', \n",
    "                      parse_dates=['date_recorded'])"
   ]
  },
  {
   "cell_type": "code",
   "execution_count": 9,
   "metadata": {},
   "outputs": [],
   "source": [
    "y_train_source = pd.read_csv('../Data/Training Set Labels.csv', index_col='id')"
   ]
  },
  {
   "cell_type": "code",
   "execution_count": 11,
   "metadata": {
    "scrolled": true
   },
   "outputs": [],
   "source": [
    "X_test_source = pd.read_csv('../Data/Test Set Values.csv',index_col='id', \n",
    "                      parse_dates=['date_recorded'])"
   ]
  },
  {
   "cell_type": "markdown",
   "metadata": {},
   "source": [
    "## Clean data"
   ]
  },
  {
   "cell_type": "markdown",
   "metadata": {},
   "source": [
    "Clean X_train"
   ]
  },
  {
   "cell_type": "code",
   "execution_count": 12,
   "metadata": {
    "collapsed": true
   },
   "outputs": [],
   "source": [
    "cw = clean_water()"
   ]
  },
  {
   "cell_type": "code",
   "execution_count": 15,
   "metadata": {},
   "outputs": [
    {
     "data": {
      "text/plain": [
       "<__main__.clean_water at 0x1a23d75898>"
      ]
     },
     "execution_count": 15,
     "metadata": {},
     "output_type": "execute_result"
    }
   ],
   "source": [
    "cw.fit(X_train_source)"
   ]
  },
  {
   "cell_type": "code",
   "execution_count": 24,
   "metadata": {},
   "outputs": [],
   "source": [
    "X_train = cw.transform(X_train_source)"
   ]
  },
  {
   "cell_type": "markdown",
   "metadata": {},
   "source": [
    "Clean y_train"
   ]
  },
  {
   "cell_type": "code",
   "execution_count": 30,
   "metadata": {
    "collapsed": true
   },
   "outputs": [],
   "source": [
    "# Label\n",
    "y_train = pd.Series()\n",
    "labels = ['non functional','functional needs repair', 'functional']\n",
    "status_group_type = pd.CategoricalDtype(categories=labels, ordered=True)\n",
    "y_train = y_train_source.status_group.astype(status_group_type).cat.codes"
   ]
  },
  {
   "cell_type": "markdown",
   "metadata": {},
   "source": [
    "Clean X_test"
   ]
  },
  {
   "cell_type": "code",
   "execution_count": 32,
   "metadata": {
    "collapsed": true
   },
   "outputs": [],
   "source": [
    "X_test = cw.transform(X_test_source)"
   ]
  },
  {
   "cell_type": "markdown",
   "metadata": {},
   "source": [
    "## Train model"
   ]
  },
  {
   "cell_type": "code",
   "execution_count": 35,
   "metadata": {
    "collapsed": true
   },
   "outputs": [],
   "source": [
    "model = OneVsRestClassifier(RandomForestClassifier(n_estimators=50, max_depth=50))"
   ]
  },
  {
   "cell_type": "code",
   "execution_count": 36,
   "metadata": {},
   "outputs": [
    {
     "data": {
      "text/plain": [
       "OneVsRestClassifier(estimator=RandomForestClassifier(bootstrap=True, class_weight=None, criterion='gini',\n",
       "            max_depth=50, max_features='auto', max_leaf_nodes=None,\n",
       "            min_impurity_decrease=0.0, min_impurity_split=None,\n",
       "            min_samples_leaf=1, min_samples_split=2,\n",
       "            min_weight_fraction_leaf=0.0, n_estimators=50, n_jobs=None,\n",
       "            oob_score=False, random_state=None, verbose=0,\n",
       "            warm_start=False),\n",
       "          n_jobs=None)"
      ]
     },
     "execution_count": 36,
     "metadata": {},
     "output_type": "execute_result"
    }
   ],
   "source": [
    "model.fit(X_train, y_train)"
   ]
  },
  {
   "cell_type": "markdown",
   "metadata": {},
   "source": [
    "## Predict labels for test data"
   ]
  },
  {
   "cell_type": "code",
   "execution_count": 38,
   "metadata": {
    "collapsed": true
   },
   "outputs": [],
   "source": [
    "y_pred = model.predict(X_test)"
   ]
  },
  {
   "cell_type": "markdown",
   "metadata": {},
   "source": [
    "## Format and save predictions"
   ]
  },
  {
   "cell_type": "code",
   "execution_count": 42,
   "metadata": {
    "collapsed": true
   },
   "outputs": [],
   "source": [
    "y_format = pd.DataFrame(y_pred, index=X_test.index, columns=['status_group'])"
   ]
  },
  {
   "cell_type": "code",
   "execution_count": 44,
   "metadata": {},
   "outputs": [],
   "source": [
    "y_format.status_group = y_format.status_group.replace(to_replace=[0,1,2], value=labels)"
   ]
  },
  {
   "cell_type": "code",
   "execution_count": 46,
   "metadata": {},
   "outputs": [],
   "source": [
    "y_format.to_csv('../Data/PredictedLabels.csv')"
   ]
  }
 ],
 "metadata": {
  "kernelspec": {
   "display_name": "Python 3",
   "language": "python",
   "name": "python3"
  },
  "language_info": {
   "codemirror_mode": {
    "name": "ipython",
    "version": 3
   },
   "file_extension": ".py",
   "mimetype": "text/x-python",
   "name": "python",
   "nbconvert_exporter": "python",
   "pygments_lexer": "ipython3",
   "version": "3.6.8"
  }
 },
 "nbformat": 4,
 "nbformat_minor": 2
}
