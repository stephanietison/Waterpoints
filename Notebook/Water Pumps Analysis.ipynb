{
 "cells": [
  {
   "cell_type": "markdown",
   "metadata": {},
   "source": [
    "# Tanzania water pumps project : Data Analysis and cleaning"
   ]
  },
  {
   "cell_type": "code",
   "execution_count": 1,
   "metadata": {
    "collapsed": true
   },
   "outputs": [],
   "source": [
    "import numpy as np\n",
    "import pandas as pd\n",
    "import matplotlib.pyplot as plt\n",
    "import seaborn as sns\n",
    "plt.style.use('ggplot')\n",
    "from scipy.stats import chi2_contingency, ttest_ind\n",
    "from sklearn.preprocessing import StandardScaler"
   ]
  },
  {
   "cell_type": "markdown",
   "metadata": {},
   "source": [
    "# Import data from csv files"
   ]
  },
  {
   "cell_type": "markdown",
   "metadata": {},
   "source": [
    "First, I will import the data from csv files."
   ]
  },
  {
   "cell_type": "code",
   "execution_count": 2,
   "metadata": {},
   "outputs": [
    {
     "data": {
      "text/html": [
       "<div>\n",
       "<style scoped>\n",
       "    .dataframe tbody tr th:only-of-type {\n",
       "        vertical-align: middle;\n",
       "    }\n",
       "\n",
       "    .dataframe tbody tr th {\n",
       "        vertical-align: top;\n",
       "    }\n",
       "\n",
       "    .dataframe thead th {\n",
       "        text-align: right;\n",
       "    }\n",
       "</style>\n",
       "<table border=\"1\" class=\"dataframe\">\n",
       "  <thead>\n",
       "    <tr style=\"text-align: right;\">\n",
       "      <th></th>\n",
       "      <th>id</th>\n",
       "      <th>amount_tsh</th>\n",
       "      <th>date_recorded</th>\n",
       "      <th>funder</th>\n",
       "      <th>gps_height</th>\n",
       "      <th>installer</th>\n",
       "      <th>longitude</th>\n",
       "      <th>latitude</th>\n",
       "      <th>wpt_name</th>\n",
       "      <th>num_private</th>\n",
       "      <th>...</th>\n",
       "      <th>payment_type</th>\n",
       "      <th>water_quality</th>\n",
       "      <th>quality_group</th>\n",
       "      <th>quantity</th>\n",
       "      <th>quantity_group</th>\n",
       "      <th>source</th>\n",
       "      <th>source_type</th>\n",
       "      <th>source_class</th>\n",
       "      <th>waterpoint_type</th>\n",
       "      <th>waterpoint_type_group</th>\n",
       "    </tr>\n",
       "  </thead>\n",
       "  <tbody>\n",
       "    <tr>\n",
       "      <th>0</th>\n",
       "      <td>69572</td>\n",
       "      <td>6000.0</td>\n",
       "      <td>2011-03-14</td>\n",
       "      <td>Roman</td>\n",
       "      <td>1390</td>\n",
       "      <td>Roman</td>\n",
       "      <td>34.938093</td>\n",
       "      <td>-9.856322</td>\n",
       "      <td>none</td>\n",
       "      <td>0</td>\n",
       "      <td>...</td>\n",
       "      <td>annually</td>\n",
       "      <td>soft</td>\n",
       "      <td>good</td>\n",
       "      <td>enough</td>\n",
       "      <td>enough</td>\n",
       "      <td>spring</td>\n",
       "      <td>spring</td>\n",
       "      <td>groundwater</td>\n",
       "      <td>communal standpipe</td>\n",
       "      <td>communal standpipe</td>\n",
       "    </tr>\n",
       "    <tr>\n",
       "      <th>1</th>\n",
       "      <td>8776</td>\n",
       "      <td>0.0</td>\n",
       "      <td>2013-03-06</td>\n",
       "      <td>Grumeti</td>\n",
       "      <td>1399</td>\n",
       "      <td>GRUMETI</td>\n",
       "      <td>34.698766</td>\n",
       "      <td>-2.147466</td>\n",
       "      <td>Zahanati</td>\n",
       "      <td>0</td>\n",
       "      <td>...</td>\n",
       "      <td>never pay</td>\n",
       "      <td>soft</td>\n",
       "      <td>good</td>\n",
       "      <td>insufficient</td>\n",
       "      <td>insufficient</td>\n",
       "      <td>rainwater harvesting</td>\n",
       "      <td>rainwater harvesting</td>\n",
       "      <td>surface</td>\n",
       "      <td>communal standpipe</td>\n",
       "      <td>communal standpipe</td>\n",
       "    </tr>\n",
       "    <tr>\n",
       "      <th>2</th>\n",
       "      <td>34310</td>\n",
       "      <td>25.0</td>\n",
       "      <td>2013-02-25</td>\n",
       "      <td>Lottery Club</td>\n",
       "      <td>686</td>\n",
       "      <td>World vision</td>\n",
       "      <td>37.460664</td>\n",
       "      <td>-3.821329</td>\n",
       "      <td>Kwa Mahundi</td>\n",
       "      <td>0</td>\n",
       "      <td>...</td>\n",
       "      <td>per bucket</td>\n",
       "      <td>soft</td>\n",
       "      <td>good</td>\n",
       "      <td>enough</td>\n",
       "      <td>enough</td>\n",
       "      <td>dam</td>\n",
       "      <td>dam</td>\n",
       "      <td>surface</td>\n",
       "      <td>communal standpipe multiple</td>\n",
       "      <td>communal standpipe</td>\n",
       "    </tr>\n",
       "    <tr>\n",
       "      <th>3</th>\n",
       "      <td>67743</td>\n",
       "      <td>0.0</td>\n",
       "      <td>2013-01-28</td>\n",
       "      <td>Unicef</td>\n",
       "      <td>263</td>\n",
       "      <td>UNICEF</td>\n",
       "      <td>38.486161</td>\n",
       "      <td>-11.155298</td>\n",
       "      <td>Zahanati Ya Nanyumbu</td>\n",
       "      <td>0</td>\n",
       "      <td>...</td>\n",
       "      <td>never pay</td>\n",
       "      <td>soft</td>\n",
       "      <td>good</td>\n",
       "      <td>dry</td>\n",
       "      <td>dry</td>\n",
       "      <td>machine dbh</td>\n",
       "      <td>borehole</td>\n",
       "      <td>groundwater</td>\n",
       "      <td>communal standpipe multiple</td>\n",
       "      <td>communal standpipe</td>\n",
       "    </tr>\n",
       "    <tr>\n",
       "      <th>4</th>\n",
       "      <td>19728</td>\n",
       "      <td>0.0</td>\n",
       "      <td>2011-07-13</td>\n",
       "      <td>Action In A</td>\n",
       "      <td>0</td>\n",
       "      <td>Artisan</td>\n",
       "      <td>31.130847</td>\n",
       "      <td>-1.825359</td>\n",
       "      <td>Shuleni</td>\n",
       "      <td>0</td>\n",
       "      <td>...</td>\n",
       "      <td>never pay</td>\n",
       "      <td>soft</td>\n",
       "      <td>good</td>\n",
       "      <td>seasonal</td>\n",
       "      <td>seasonal</td>\n",
       "      <td>rainwater harvesting</td>\n",
       "      <td>rainwater harvesting</td>\n",
       "      <td>surface</td>\n",
       "      <td>communal standpipe</td>\n",
       "      <td>communal standpipe</td>\n",
       "    </tr>\n",
       "  </tbody>\n",
       "</table>\n",
       "<p>5 rows × 40 columns</p>\n",
       "</div>"
      ],
      "text/plain": [
       "      id  amount_tsh date_recorded        funder  gps_height     installer  \\\n",
       "0  69572      6000.0    2011-03-14         Roman        1390         Roman   \n",
       "1   8776         0.0    2013-03-06       Grumeti        1399       GRUMETI   \n",
       "2  34310        25.0    2013-02-25  Lottery Club         686  World vision   \n",
       "3  67743         0.0    2013-01-28        Unicef         263        UNICEF   \n",
       "4  19728         0.0    2011-07-13   Action In A           0       Artisan   \n",
       "\n",
       "   longitude   latitude              wpt_name  num_private  ... payment_type  \\\n",
       "0  34.938093  -9.856322                  none            0  ...     annually   \n",
       "1  34.698766  -2.147466              Zahanati            0  ...    never pay   \n",
       "2  37.460664  -3.821329           Kwa Mahundi            0  ...   per bucket   \n",
       "3  38.486161 -11.155298  Zahanati Ya Nanyumbu            0  ...    never pay   \n",
       "4  31.130847  -1.825359               Shuleni            0  ...    never pay   \n",
       "\n",
       "  water_quality quality_group      quantity  quantity_group  \\\n",
       "0          soft          good        enough          enough   \n",
       "1          soft          good  insufficient    insufficient   \n",
       "2          soft          good        enough          enough   \n",
       "3          soft          good           dry             dry   \n",
       "4          soft          good      seasonal        seasonal   \n",
       "\n",
       "                 source           source_type  source_class  \\\n",
       "0                spring                spring   groundwater   \n",
       "1  rainwater harvesting  rainwater harvesting       surface   \n",
       "2                   dam                   dam       surface   \n",
       "3           machine dbh              borehole   groundwater   \n",
       "4  rainwater harvesting  rainwater harvesting       surface   \n",
       "\n",
       "               waterpoint_type waterpoint_type_group  \n",
       "0           communal standpipe    communal standpipe  \n",
       "1           communal standpipe    communal standpipe  \n",
       "2  communal standpipe multiple    communal standpipe  \n",
       "3  communal standpipe multiple    communal standpipe  \n",
       "4           communal standpipe    communal standpipe  \n",
       "\n",
       "[5 rows x 40 columns]"
      ]
     },
     "execution_count": 2,
     "metadata": {},
     "output_type": "execute_result"
    }
   ],
   "source": [
    "# First, load a chunk of the data to have a look at its format\n",
    "iter_df = pd.read_csv('../Data/Training Set Values.csv',chunksize=50)\n",
    "test_df = next(iter_df)\n",
    "test_df.head()"
   ]
  },
  {
   "cell_type": "code",
   "execution_count": 3,
   "metadata": {},
   "outputs": [
    {
     "name": "stdout",
     "output_type": "stream",
     "text": [
      "<class 'pandas.core.frame.DataFrame'>\n",
      "RangeIndex: 50 entries, 0 to 49\n",
      "Data columns (total 40 columns):\n",
      "id                       50 non-null int64\n",
      "amount_tsh               50 non-null float64\n",
      "date_recorded            50 non-null object\n",
      "funder                   47 non-null object\n",
      "gps_height               50 non-null int64\n",
      "installer                47 non-null object\n",
      "longitude                50 non-null float64\n",
      "latitude                 50 non-null float64\n",
      "wpt_name                 50 non-null object\n",
      "num_private              50 non-null int64\n",
      "basin                    50 non-null object\n",
      "subvillage               50 non-null object\n",
      "region                   50 non-null object\n",
      "region_code              50 non-null int64\n",
      "district_code            50 non-null int64\n",
      "lga                      50 non-null object\n",
      "ward                     50 non-null object\n",
      "population               50 non-null int64\n",
      "public_meeting           47 non-null object\n",
      "recorded_by              50 non-null object\n",
      "scheme_management        44 non-null object\n",
      "scheme_name              31 non-null object\n",
      "permit                   48 non-null object\n",
      "construction_year        50 non-null int64\n",
      "extraction_type          50 non-null object\n",
      "extraction_type_group    50 non-null object\n",
      "extraction_type_class    50 non-null object\n",
      "management               50 non-null object\n",
      "management_group         50 non-null object\n",
      "payment                  50 non-null object\n",
      "payment_type             50 non-null object\n",
      "water_quality            50 non-null object\n",
      "quality_group            50 non-null object\n",
      "quantity                 50 non-null object\n",
      "quantity_group           50 non-null object\n",
      "source                   50 non-null object\n",
      "source_type              50 non-null object\n",
      "source_class             50 non-null object\n",
      "waterpoint_type          50 non-null object\n",
      "waterpoint_type_group    50 non-null object\n",
      "dtypes: float64(3), int64(7), object(30)\n",
      "memory usage: 15.7+ KB\n"
     ]
    }
   ],
   "source": [
    "test_df.info()"
   ]
  },
  {
   "cell_type": "markdown",
   "metadata": {},
   "source": [
    "From this first exploration, I can see that I can use the id as row label.\n",
    "I can also parse dates for the date_recorded column."
   ]
  },
  {
   "cell_type": "code",
   "execution_count": 4,
   "metadata": {},
   "outputs": [
    {
     "data": {
      "text/html": [
       "<div>\n",
       "<style scoped>\n",
       "    .dataframe tbody tr th:only-of-type {\n",
       "        vertical-align: middle;\n",
       "    }\n",
       "\n",
       "    .dataframe tbody tr th {\n",
       "        vertical-align: top;\n",
       "    }\n",
       "\n",
       "    .dataframe thead th {\n",
       "        text-align: right;\n",
       "    }\n",
       "</style>\n",
       "<table border=\"1\" class=\"dataframe\">\n",
       "  <thead>\n",
       "    <tr style=\"text-align: right;\">\n",
       "      <th></th>\n",
       "      <th>amount_tsh</th>\n",
       "      <th>date_recorded</th>\n",
       "      <th>funder</th>\n",
       "      <th>gps_height</th>\n",
       "      <th>installer</th>\n",
       "      <th>longitude</th>\n",
       "      <th>latitude</th>\n",
       "      <th>wpt_name</th>\n",
       "      <th>num_private</th>\n",
       "      <th>basin</th>\n",
       "      <th>...</th>\n",
       "      <th>payment_type</th>\n",
       "      <th>water_quality</th>\n",
       "      <th>quality_group</th>\n",
       "      <th>quantity</th>\n",
       "      <th>quantity_group</th>\n",
       "      <th>source</th>\n",
       "      <th>source_type</th>\n",
       "      <th>source_class</th>\n",
       "      <th>waterpoint_type</th>\n",
       "      <th>waterpoint_type_group</th>\n",
       "    </tr>\n",
       "    <tr>\n",
       "      <th>id</th>\n",
       "      <th></th>\n",
       "      <th></th>\n",
       "      <th></th>\n",
       "      <th></th>\n",
       "      <th></th>\n",
       "      <th></th>\n",
       "      <th></th>\n",
       "      <th></th>\n",
       "      <th></th>\n",
       "      <th></th>\n",
       "      <th></th>\n",
       "      <th></th>\n",
       "      <th></th>\n",
       "      <th></th>\n",
       "      <th></th>\n",
       "      <th></th>\n",
       "      <th></th>\n",
       "      <th></th>\n",
       "      <th></th>\n",
       "      <th></th>\n",
       "      <th></th>\n",
       "    </tr>\n",
       "  </thead>\n",
       "  <tbody>\n",
       "    <tr>\n",
       "      <th>69572</th>\n",
       "      <td>6000.0</td>\n",
       "      <td>2011-03-14</td>\n",
       "      <td>Roman</td>\n",
       "      <td>1390</td>\n",
       "      <td>Roman</td>\n",
       "      <td>34.938093</td>\n",
       "      <td>-9.856322</td>\n",
       "      <td>none</td>\n",
       "      <td>0</td>\n",
       "      <td>Lake Nyasa</td>\n",
       "      <td>...</td>\n",
       "      <td>annually</td>\n",
       "      <td>soft</td>\n",
       "      <td>good</td>\n",
       "      <td>enough</td>\n",
       "      <td>enough</td>\n",
       "      <td>spring</td>\n",
       "      <td>spring</td>\n",
       "      <td>groundwater</td>\n",
       "      <td>communal standpipe</td>\n",
       "      <td>communal standpipe</td>\n",
       "    </tr>\n",
       "    <tr>\n",
       "      <th>8776</th>\n",
       "      <td>0.0</td>\n",
       "      <td>2013-03-06</td>\n",
       "      <td>Grumeti</td>\n",
       "      <td>1399</td>\n",
       "      <td>GRUMETI</td>\n",
       "      <td>34.698766</td>\n",
       "      <td>-2.147466</td>\n",
       "      <td>Zahanati</td>\n",
       "      <td>0</td>\n",
       "      <td>Lake Victoria</td>\n",
       "      <td>...</td>\n",
       "      <td>never pay</td>\n",
       "      <td>soft</td>\n",
       "      <td>good</td>\n",
       "      <td>insufficient</td>\n",
       "      <td>insufficient</td>\n",
       "      <td>rainwater harvesting</td>\n",
       "      <td>rainwater harvesting</td>\n",
       "      <td>surface</td>\n",
       "      <td>communal standpipe</td>\n",
       "      <td>communal standpipe</td>\n",
       "    </tr>\n",
       "    <tr>\n",
       "      <th>34310</th>\n",
       "      <td>25.0</td>\n",
       "      <td>2013-02-25</td>\n",
       "      <td>Lottery Club</td>\n",
       "      <td>686</td>\n",
       "      <td>World vision</td>\n",
       "      <td>37.460664</td>\n",
       "      <td>-3.821329</td>\n",
       "      <td>Kwa Mahundi</td>\n",
       "      <td>0</td>\n",
       "      <td>Pangani</td>\n",
       "      <td>...</td>\n",
       "      <td>per bucket</td>\n",
       "      <td>soft</td>\n",
       "      <td>good</td>\n",
       "      <td>enough</td>\n",
       "      <td>enough</td>\n",
       "      <td>dam</td>\n",
       "      <td>dam</td>\n",
       "      <td>surface</td>\n",
       "      <td>communal standpipe multiple</td>\n",
       "      <td>communal standpipe</td>\n",
       "    </tr>\n",
       "    <tr>\n",
       "      <th>67743</th>\n",
       "      <td>0.0</td>\n",
       "      <td>2013-01-28</td>\n",
       "      <td>Unicef</td>\n",
       "      <td>263</td>\n",
       "      <td>UNICEF</td>\n",
       "      <td>38.486161</td>\n",
       "      <td>-11.155298</td>\n",
       "      <td>Zahanati Ya Nanyumbu</td>\n",
       "      <td>0</td>\n",
       "      <td>Ruvuma / Southern Coast</td>\n",
       "      <td>...</td>\n",
       "      <td>never pay</td>\n",
       "      <td>soft</td>\n",
       "      <td>good</td>\n",
       "      <td>dry</td>\n",
       "      <td>dry</td>\n",
       "      <td>machine dbh</td>\n",
       "      <td>borehole</td>\n",
       "      <td>groundwater</td>\n",
       "      <td>communal standpipe multiple</td>\n",
       "      <td>communal standpipe</td>\n",
       "    </tr>\n",
       "    <tr>\n",
       "      <th>19728</th>\n",
       "      <td>0.0</td>\n",
       "      <td>2011-07-13</td>\n",
       "      <td>Action In A</td>\n",
       "      <td>0</td>\n",
       "      <td>Artisan</td>\n",
       "      <td>31.130847</td>\n",
       "      <td>-1.825359</td>\n",
       "      <td>Shuleni</td>\n",
       "      <td>0</td>\n",
       "      <td>Lake Victoria</td>\n",
       "      <td>...</td>\n",
       "      <td>never pay</td>\n",
       "      <td>soft</td>\n",
       "      <td>good</td>\n",
       "      <td>seasonal</td>\n",
       "      <td>seasonal</td>\n",
       "      <td>rainwater harvesting</td>\n",
       "      <td>rainwater harvesting</td>\n",
       "      <td>surface</td>\n",
       "      <td>communal standpipe</td>\n",
       "      <td>communal standpipe</td>\n",
       "    </tr>\n",
       "  </tbody>\n",
       "</table>\n",
       "<p>5 rows × 39 columns</p>\n",
       "</div>"
      ],
      "text/plain": [
       "       amount_tsh date_recorded        funder  gps_height     installer  \\\n",
       "id                                                                        \n",
       "69572      6000.0    2011-03-14         Roman        1390         Roman   \n",
       "8776          0.0    2013-03-06       Grumeti        1399       GRUMETI   \n",
       "34310        25.0    2013-02-25  Lottery Club         686  World vision   \n",
       "67743         0.0    2013-01-28        Unicef         263        UNICEF   \n",
       "19728         0.0    2011-07-13   Action In A           0       Artisan   \n",
       "\n",
       "       longitude   latitude              wpt_name  num_private  \\\n",
       "id                                                               \n",
       "69572  34.938093  -9.856322                  none            0   \n",
       "8776   34.698766  -2.147466              Zahanati            0   \n",
       "34310  37.460664  -3.821329           Kwa Mahundi            0   \n",
       "67743  38.486161 -11.155298  Zahanati Ya Nanyumbu            0   \n",
       "19728  31.130847  -1.825359               Shuleni            0   \n",
       "\n",
       "                         basin  ... payment_type water_quality  quality_group  \\\n",
       "id                              ...                                             \n",
       "69572               Lake Nyasa  ...     annually          soft           good   \n",
       "8776             Lake Victoria  ...    never pay          soft           good   \n",
       "34310                  Pangani  ...   per bucket          soft           good   \n",
       "67743  Ruvuma / Southern Coast  ...    never pay          soft           good   \n",
       "19728            Lake Victoria  ...    never pay          soft           good   \n",
       "\n",
       "           quantity quantity_group                source  \\\n",
       "id                                                         \n",
       "69572        enough         enough                spring   \n",
       "8776   insufficient   insufficient  rainwater harvesting   \n",
       "34310        enough         enough                   dam   \n",
       "67743           dry            dry           machine dbh   \n",
       "19728      seasonal       seasonal  rainwater harvesting   \n",
       "\n",
       "                source_type source_class              waterpoint_type  \\\n",
       "id                                                                      \n",
       "69572                spring  groundwater           communal standpipe   \n",
       "8776   rainwater harvesting      surface           communal standpipe   \n",
       "34310                   dam      surface  communal standpipe multiple   \n",
       "67743              borehole  groundwater  communal standpipe multiple   \n",
       "19728  rainwater harvesting      surface           communal standpipe   \n",
       "\n",
       "      waterpoint_type_group  \n",
       "id                           \n",
       "69572    communal standpipe  \n",
       "8776     communal standpipe  \n",
       "34310    communal standpipe  \n",
       "67743    communal standpipe  \n",
       "19728    communal standpipe  \n",
       "\n",
       "[5 rows x 39 columns]"
      ]
     },
     "execution_count": 4,
     "metadata": {},
     "output_type": "execute_result"
    }
   ],
   "source": [
    "X_source_df = pd.read_csv('../Data/Training Set Values.csv',index_col='id', \n",
    "                      parse_dates=['date_recorded'])\n",
    "X_source_df.head()"
   ]
  },
  {
   "cell_type": "code",
   "execution_count": 5,
   "metadata": {},
   "outputs": [
    {
     "data": {
      "text/plain": [
       "(59400, 39)"
      ]
     },
     "execution_count": 5,
     "metadata": {},
     "output_type": "execute_result"
    }
   ],
   "source": [
    "X_source_df.shape"
   ]
  },
  {
   "cell_type": "code",
   "execution_count": 6,
   "metadata": {},
   "outputs": [
    {
     "data": {
      "text/html": [
       "<div>\n",
       "<style scoped>\n",
       "    .dataframe tbody tr th:only-of-type {\n",
       "        vertical-align: middle;\n",
       "    }\n",
       "\n",
       "    .dataframe tbody tr th {\n",
       "        vertical-align: top;\n",
       "    }\n",
       "\n",
       "    .dataframe thead th {\n",
       "        text-align: right;\n",
       "    }\n",
       "</style>\n",
       "<table border=\"1\" class=\"dataframe\">\n",
       "  <thead>\n",
       "    <tr style=\"text-align: right;\">\n",
       "      <th></th>\n",
       "      <th>status_group</th>\n",
       "    </tr>\n",
       "    <tr>\n",
       "      <th>id</th>\n",
       "      <th></th>\n",
       "    </tr>\n",
       "  </thead>\n",
       "  <tbody>\n",
       "    <tr>\n",
       "      <th>69572</th>\n",
       "      <td>functional</td>\n",
       "    </tr>\n",
       "    <tr>\n",
       "      <th>8776</th>\n",
       "      <td>functional</td>\n",
       "    </tr>\n",
       "    <tr>\n",
       "      <th>34310</th>\n",
       "      <td>functional</td>\n",
       "    </tr>\n",
       "    <tr>\n",
       "      <th>67743</th>\n",
       "      <td>non functional</td>\n",
       "    </tr>\n",
       "    <tr>\n",
       "      <th>19728</th>\n",
       "      <td>functional</td>\n",
       "    </tr>\n",
       "  </tbody>\n",
       "</table>\n",
       "</div>"
      ],
      "text/plain": [
       "         status_group\n",
       "id                   \n",
       "69572      functional\n",
       "8776       functional\n",
       "34310      functional\n",
       "67743  non functional\n",
       "19728      functional"
      ]
     },
     "execution_count": 6,
     "metadata": {},
     "output_type": "execute_result"
    }
   ],
   "source": [
    "y_source_df = pd.read_csv('../Data/Training Set Labels.csv', index_col='id')\n",
    "y_source_df.head()"
   ]
  },
  {
   "cell_type": "markdown",
   "metadata": {},
   "source": [
    "# Exploratory Data Analysis"
   ]
  },
  {
   "cell_type": "markdown",
   "metadata": {},
   "source": [
    "For exploratory data analysis, I will join the features and labels in the same dataframe."
   ]
  },
  {
   "cell_type": "code",
   "execution_count": 7,
   "metadata": {},
   "outputs": [
    {
     "data": {
      "text/html": [
       "<div>\n",
       "<style scoped>\n",
       "    .dataframe tbody tr th:only-of-type {\n",
       "        vertical-align: middle;\n",
       "    }\n",
       "\n",
       "    .dataframe tbody tr th {\n",
       "        vertical-align: top;\n",
       "    }\n",
       "\n",
       "    .dataframe thead th {\n",
       "        text-align: right;\n",
       "    }\n",
       "</style>\n",
       "<table border=\"1\" class=\"dataframe\">\n",
       "  <thead>\n",
       "    <tr style=\"text-align: right;\">\n",
       "      <th></th>\n",
       "      <th>amount_tsh</th>\n",
       "      <th>date_recorded</th>\n",
       "      <th>funder</th>\n",
       "      <th>gps_height</th>\n",
       "      <th>installer</th>\n",
       "      <th>longitude</th>\n",
       "      <th>latitude</th>\n",
       "      <th>wpt_name</th>\n",
       "      <th>num_private</th>\n",
       "      <th>basin</th>\n",
       "      <th>...</th>\n",
       "      <th>water_quality</th>\n",
       "      <th>quality_group</th>\n",
       "      <th>quantity</th>\n",
       "      <th>quantity_group</th>\n",
       "      <th>source</th>\n",
       "      <th>source_type</th>\n",
       "      <th>source_class</th>\n",
       "      <th>waterpoint_type</th>\n",
       "      <th>waterpoint_type_group</th>\n",
       "      <th>status_group</th>\n",
       "    </tr>\n",
       "    <tr>\n",
       "      <th>id</th>\n",
       "      <th></th>\n",
       "      <th></th>\n",
       "      <th></th>\n",
       "      <th></th>\n",
       "      <th></th>\n",
       "      <th></th>\n",
       "      <th></th>\n",
       "      <th></th>\n",
       "      <th></th>\n",
       "      <th></th>\n",
       "      <th></th>\n",
       "      <th></th>\n",
       "      <th></th>\n",
       "      <th></th>\n",
       "      <th></th>\n",
       "      <th></th>\n",
       "      <th></th>\n",
       "      <th></th>\n",
       "      <th></th>\n",
       "      <th></th>\n",
       "      <th></th>\n",
       "    </tr>\n",
       "  </thead>\n",
       "  <tbody>\n",
       "    <tr>\n",
       "      <th>69572</th>\n",
       "      <td>6000.0</td>\n",
       "      <td>2011-03-14</td>\n",
       "      <td>Roman</td>\n",
       "      <td>1390</td>\n",
       "      <td>Roman</td>\n",
       "      <td>34.938093</td>\n",
       "      <td>-9.856322</td>\n",
       "      <td>none</td>\n",
       "      <td>0</td>\n",
       "      <td>Lake Nyasa</td>\n",
       "      <td>...</td>\n",
       "      <td>soft</td>\n",
       "      <td>good</td>\n",
       "      <td>enough</td>\n",
       "      <td>enough</td>\n",
       "      <td>spring</td>\n",
       "      <td>spring</td>\n",
       "      <td>groundwater</td>\n",
       "      <td>communal standpipe</td>\n",
       "      <td>communal standpipe</td>\n",
       "      <td>functional</td>\n",
       "    </tr>\n",
       "    <tr>\n",
       "      <th>8776</th>\n",
       "      <td>0.0</td>\n",
       "      <td>2013-03-06</td>\n",
       "      <td>Grumeti</td>\n",
       "      <td>1399</td>\n",
       "      <td>GRUMETI</td>\n",
       "      <td>34.698766</td>\n",
       "      <td>-2.147466</td>\n",
       "      <td>Zahanati</td>\n",
       "      <td>0</td>\n",
       "      <td>Lake Victoria</td>\n",
       "      <td>...</td>\n",
       "      <td>soft</td>\n",
       "      <td>good</td>\n",
       "      <td>insufficient</td>\n",
       "      <td>insufficient</td>\n",
       "      <td>rainwater harvesting</td>\n",
       "      <td>rainwater harvesting</td>\n",
       "      <td>surface</td>\n",
       "      <td>communal standpipe</td>\n",
       "      <td>communal standpipe</td>\n",
       "      <td>functional</td>\n",
       "    </tr>\n",
       "    <tr>\n",
       "      <th>34310</th>\n",
       "      <td>25.0</td>\n",
       "      <td>2013-02-25</td>\n",
       "      <td>Lottery Club</td>\n",
       "      <td>686</td>\n",
       "      <td>World vision</td>\n",
       "      <td>37.460664</td>\n",
       "      <td>-3.821329</td>\n",
       "      <td>Kwa Mahundi</td>\n",
       "      <td>0</td>\n",
       "      <td>Pangani</td>\n",
       "      <td>...</td>\n",
       "      <td>soft</td>\n",
       "      <td>good</td>\n",
       "      <td>enough</td>\n",
       "      <td>enough</td>\n",
       "      <td>dam</td>\n",
       "      <td>dam</td>\n",
       "      <td>surface</td>\n",
       "      <td>communal standpipe multiple</td>\n",
       "      <td>communal standpipe</td>\n",
       "      <td>functional</td>\n",
       "    </tr>\n",
       "    <tr>\n",
       "      <th>67743</th>\n",
       "      <td>0.0</td>\n",
       "      <td>2013-01-28</td>\n",
       "      <td>Unicef</td>\n",
       "      <td>263</td>\n",
       "      <td>UNICEF</td>\n",
       "      <td>38.486161</td>\n",
       "      <td>-11.155298</td>\n",
       "      <td>Zahanati Ya Nanyumbu</td>\n",
       "      <td>0</td>\n",
       "      <td>Ruvuma / Southern Coast</td>\n",
       "      <td>...</td>\n",
       "      <td>soft</td>\n",
       "      <td>good</td>\n",
       "      <td>dry</td>\n",
       "      <td>dry</td>\n",
       "      <td>machine dbh</td>\n",
       "      <td>borehole</td>\n",
       "      <td>groundwater</td>\n",
       "      <td>communal standpipe multiple</td>\n",
       "      <td>communal standpipe</td>\n",
       "      <td>non functional</td>\n",
       "    </tr>\n",
       "    <tr>\n",
       "      <th>19728</th>\n",
       "      <td>0.0</td>\n",
       "      <td>2011-07-13</td>\n",
       "      <td>Action In A</td>\n",
       "      <td>0</td>\n",
       "      <td>Artisan</td>\n",
       "      <td>31.130847</td>\n",
       "      <td>-1.825359</td>\n",
       "      <td>Shuleni</td>\n",
       "      <td>0</td>\n",
       "      <td>Lake Victoria</td>\n",
       "      <td>...</td>\n",
       "      <td>soft</td>\n",
       "      <td>good</td>\n",
       "      <td>seasonal</td>\n",
       "      <td>seasonal</td>\n",
       "      <td>rainwater harvesting</td>\n",
       "      <td>rainwater harvesting</td>\n",
       "      <td>surface</td>\n",
       "      <td>communal standpipe</td>\n",
       "      <td>communal standpipe</td>\n",
       "      <td>functional</td>\n",
       "    </tr>\n",
       "  </tbody>\n",
       "</table>\n",
       "<p>5 rows × 40 columns</p>\n",
       "</div>"
      ],
      "text/plain": [
       "       amount_tsh date_recorded        funder  gps_height     installer  \\\n",
       "id                                                                        \n",
       "69572      6000.0    2011-03-14         Roman        1390         Roman   \n",
       "8776          0.0    2013-03-06       Grumeti        1399       GRUMETI   \n",
       "34310        25.0    2013-02-25  Lottery Club         686  World vision   \n",
       "67743         0.0    2013-01-28        Unicef         263        UNICEF   \n",
       "19728         0.0    2011-07-13   Action In A           0       Artisan   \n",
       "\n",
       "       longitude   latitude              wpt_name  num_private  \\\n",
       "id                                                               \n",
       "69572  34.938093  -9.856322                  none            0   \n",
       "8776   34.698766  -2.147466              Zahanati            0   \n",
       "34310  37.460664  -3.821329           Kwa Mahundi            0   \n",
       "67743  38.486161 -11.155298  Zahanati Ya Nanyumbu            0   \n",
       "19728  31.130847  -1.825359               Shuleni            0   \n",
       "\n",
       "                         basin  ... water_quality quality_group      quantity  \\\n",
       "id                              ...                                             \n",
       "69572               Lake Nyasa  ...          soft          good        enough   \n",
       "8776             Lake Victoria  ...          soft          good  insufficient   \n",
       "34310                  Pangani  ...          soft          good        enough   \n",
       "67743  Ruvuma / Southern Coast  ...          soft          good           dry   \n",
       "19728            Lake Victoria  ...          soft          good      seasonal   \n",
       "\n",
       "       quantity_group                source           source_type  \\\n",
       "id                                                                  \n",
       "69572          enough                spring                spring   \n",
       "8776     insufficient  rainwater harvesting  rainwater harvesting   \n",
       "34310          enough                   dam                   dam   \n",
       "67743             dry           machine dbh              borehole   \n",
       "19728        seasonal  rainwater harvesting  rainwater harvesting   \n",
       "\n",
       "       source_class              waterpoint_type waterpoint_type_group  \\\n",
       "id                                                                       \n",
       "69572   groundwater           communal standpipe    communal standpipe   \n",
       "8776        surface           communal standpipe    communal standpipe   \n",
       "34310       surface  communal standpipe multiple    communal standpipe   \n",
       "67743   groundwater  communal standpipe multiple    communal standpipe   \n",
       "19728       surface           communal standpipe    communal standpipe   \n",
       "\n",
       "         status_group  \n",
       "id                     \n",
       "69572      functional  \n",
       "8776       functional  \n",
       "34310      functional  \n",
       "67743  non functional  \n",
       "19728      functional  \n",
       "\n",
       "[5 rows x 40 columns]"
      ]
     },
     "execution_count": 7,
     "metadata": {},
     "output_type": "execute_result"
    }
   ],
   "source": [
    "source_df = X_source_df.join(y_source_df)\n",
    "source_df.head()"
   ]
  },
  {
   "cell_type": "code",
   "execution_count": 8,
   "metadata": {},
   "outputs": [
    {
     "data": {
      "text/html": [
       "<div>\n",
       "<style scoped>\n",
       "    .dataframe tbody tr th:only-of-type {\n",
       "        vertical-align: middle;\n",
       "    }\n",
       "\n",
       "    .dataframe tbody tr th {\n",
       "        vertical-align: top;\n",
       "    }\n",
       "\n",
       "    .dataframe thead th {\n",
       "        text-align: right;\n",
       "    }\n",
       "</style>\n",
       "<table border=\"1\" class=\"dataframe\">\n",
       "  <thead>\n",
       "    <tr style=\"text-align: right;\">\n",
       "      <th></th>\n",
       "      <th>amount_tsh</th>\n",
       "      <th>gps_height</th>\n",
       "      <th>longitude</th>\n",
       "      <th>latitude</th>\n",
       "      <th>num_private</th>\n",
       "      <th>region_code</th>\n",
       "      <th>district_code</th>\n",
       "      <th>population</th>\n",
       "      <th>construction_year</th>\n",
       "    </tr>\n",
       "  </thead>\n",
       "  <tbody>\n",
       "    <tr>\n",
       "      <th>count</th>\n",
       "      <td>59400.000000</td>\n",
       "      <td>59400.000000</td>\n",
       "      <td>59400.000000</td>\n",
       "      <td>5.940000e+04</td>\n",
       "      <td>59400.000000</td>\n",
       "      <td>59400.000000</td>\n",
       "      <td>59400.000000</td>\n",
       "      <td>59400.000000</td>\n",
       "      <td>59400.000000</td>\n",
       "    </tr>\n",
       "    <tr>\n",
       "      <th>mean</th>\n",
       "      <td>317.650385</td>\n",
       "      <td>668.297239</td>\n",
       "      <td>34.077427</td>\n",
       "      <td>-5.706033e+00</td>\n",
       "      <td>0.474141</td>\n",
       "      <td>15.297003</td>\n",
       "      <td>5.629747</td>\n",
       "      <td>179.909983</td>\n",
       "      <td>1300.652475</td>\n",
       "    </tr>\n",
       "    <tr>\n",
       "      <th>std</th>\n",
       "      <td>2997.574558</td>\n",
       "      <td>693.116350</td>\n",
       "      <td>6.567432</td>\n",
       "      <td>2.946019e+00</td>\n",
       "      <td>12.236230</td>\n",
       "      <td>17.587406</td>\n",
       "      <td>9.633649</td>\n",
       "      <td>471.482176</td>\n",
       "      <td>951.620547</td>\n",
       "    </tr>\n",
       "    <tr>\n",
       "      <th>min</th>\n",
       "      <td>0.000000</td>\n",
       "      <td>-90.000000</td>\n",
       "      <td>0.000000</td>\n",
       "      <td>-1.164944e+01</td>\n",
       "      <td>0.000000</td>\n",
       "      <td>1.000000</td>\n",
       "      <td>0.000000</td>\n",
       "      <td>0.000000</td>\n",
       "      <td>0.000000</td>\n",
       "    </tr>\n",
       "    <tr>\n",
       "      <th>25%</th>\n",
       "      <td>0.000000</td>\n",
       "      <td>0.000000</td>\n",
       "      <td>33.090347</td>\n",
       "      <td>-8.540621e+00</td>\n",
       "      <td>0.000000</td>\n",
       "      <td>5.000000</td>\n",
       "      <td>2.000000</td>\n",
       "      <td>0.000000</td>\n",
       "      <td>0.000000</td>\n",
       "    </tr>\n",
       "    <tr>\n",
       "      <th>50%</th>\n",
       "      <td>0.000000</td>\n",
       "      <td>369.000000</td>\n",
       "      <td>34.908743</td>\n",
       "      <td>-5.021597e+00</td>\n",
       "      <td>0.000000</td>\n",
       "      <td>12.000000</td>\n",
       "      <td>3.000000</td>\n",
       "      <td>25.000000</td>\n",
       "      <td>1986.000000</td>\n",
       "    </tr>\n",
       "    <tr>\n",
       "      <th>75%</th>\n",
       "      <td>20.000000</td>\n",
       "      <td>1319.250000</td>\n",
       "      <td>37.178387</td>\n",
       "      <td>-3.326156e+00</td>\n",
       "      <td>0.000000</td>\n",
       "      <td>17.000000</td>\n",
       "      <td>5.000000</td>\n",
       "      <td>215.000000</td>\n",
       "      <td>2004.000000</td>\n",
       "    </tr>\n",
       "    <tr>\n",
       "      <th>max</th>\n",
       "      <td>350000.000000</td>\n",
       "      <td>2770.000000</td>\n",
       "      <td>40.345193</td>\n",
       "      <td>-2.000000e-08</td>\n",
       "      <td>1776.000000</td>\n",
       "      <td>99.000000</td>\n",
       "      <td>80.000000</td>\n",
       "      <td>30500.000000</td>\n",
       "      <td>2013.000000</td>\n",
       "    </tr>\n",
       "  </tbody>\n",
       "</table>\n",
       "</div>"
      ],
      "text/plain": [
       "          amount_tsh    gps_height     longitude      latitude   num_private  \\\n",
       "count   59400.000000  59400.000000  59400.000000  5.940000e+04  59400.000000   \n",
       "mean      317.650385    668.297239     34.077427 -5.706033e+00      0.474141   \n",
       "std      2997.574558    693.116350      6.567432  2.946019e+00     12.236230   \n",
       "min         0.000000    -90.000000      0.000000 -1.164944e+01      0.000000   \n",
       "25%         0.000000      0.000000     33.090347 -8.540621e+00      0.000000   \n",
       "50%         0.000000    369.000000     34.908743 -5.021597e+00      0.000000   \n",
       "75%        20.000000   1319.250000     37.178387 -3.326156e+00      0.000000   \n",
       "max    350000.000000   2770.000000     40.345193 -2.000000e-08   1776.000000   \n",
       "\n",
       "        region_code  district_code    population  construction_year  \n",
       "count  59400.000000   59400.000000  59400.000000       59400.000000  \n",
       "mean      15.297003       5.629747    179.909983        1300.652475  \n",
       "std       17.587406       9.633649    471.482176         951.620547  \n",
       "min        1.000000       0.000000      0.000000           0.000000  \n",
       "25%        5.000000       2.000000      0.000000           0.000000  \n",
       "50%       12.000000       3.000000     25.000000        1986.000000  \n",
       "75%       17.000000       5.000000    215.000000        2004.000000  \n",
       "max       99.000000      80.000000  30500.000000        2013.000000  "
      ]
     },
     "execution_count": 8,
     "metadata": {},
     "output_type": "execute_result"
    }
   ],
   "source": [
    "source_df.describe()"
   ]
  },
  {
   "cell_type": "code",
   "execution_count": 9,
   "metadata": {},
   "outputs": [
    {
     "name": "stdout",
     "output_type": "stream",
     "text": [
      "<class 'pandas.core.frame.DataFrame'>\n",
      "Int64Index: 59400 entries, 69572 to 26348\n",
      "Data columns (total 40 columns):\n",
      "amount_tsh               59400 non-null float64\n",
      "date_recorded            59400 non-null datetime64[ns]\n",
      "funder                   55765 non-null object\n",
      "gps_height               59400 non-null int64\n",
      "installer                55745 non-null object\n",
      "longitude                59400 non-null float64\n",
      "latitude                 59400 non-null float64\n",
      "wpt_name                 59400 non-null object\n",
      "num_private              59400 non-null int64\n",
      "basin                    59400 non-null object\n",
      "subvillage               59029 non-null object\n",
      "region                   59400 non-null object\n",
      "region_code              59400 non-null int64\n",
      "district_code            59400 non-null int64\n",
      "lga                      59400 non-null object\n",
      "ward                     59400 non-null object\n",
      "population               59400 non-null int64\n",
      "public_meeting           56066 non-null object\n",
      "recorded_by              59400 non-null object\n",
      "scheme_management        55523 non-null object\n",
      "scheme_name              31234 non-null object\n",
      "permit                   56344 non-null object\n",
      "construction_year        59400 non-null int64\n",
      "extraction_type          59400 non-null object\n",
      "extraction_type_group    59400 non-null object\n",
      "extraction_type_class    59400 non-null object\n",
      "management               59400 non-null object\n",
      "management_group         59400 non-null object\n",
      "payment                  59400 non-null object\n",
      "payment_type             59400 non-null object\n",
      "water_quality            59400 non-null object\n",
      "quality_group            59400 non-null object\n",
      "quantity                 59400 non-null object\n",
      "quantity_group           59400 non-null object\n",
      "source                   59400 non-null object\n",
      "source_type              59400 non-null object\n",
      "source_class             59400 non-null object\n",
      "waterpoint_type          59400 non-null object\n",
      "waterpoint_type_group    59400 non-null object\n",
      "status_group             59400 non-null object\n",
      "dtypes: datetime64[ns](1), float64(3), int64(6), object(30)\n",
      "memory usage: 21.1+ MB\n"
     ]
    }
   ],
   "source": [
    "source_df.info()"
   ]
  },
  {
   "cell_type": "code",
   "execution_count": 10,
   "metadata": {
    "collapsed": true
   },
   "outputs": [],
   "source": [
    "# prepare columns array for data cleaning\n",
    "col_to_drop = []\n",
    "col_to_scale = []"
   ]
  },
  {
   "cell_type": "code",
   "execution_count": 11,
   "metadata": {
    "collapsed": true
   },
   "outputs": [],
   "source": [
    "# prepare clean dataframe\n",
    "clean_df = source_df.copy()"
   ]
  },
  {
   "cell_type": "markdown",
   "metadata": {},
   "source": [
    "## Definition of functions used in the exploratory data analysis"
   ]
  },
  {
   "cell_type": "code",
   "execution_count": 12,
   "metadata": {
    "collapsed": true
   },
   "outputs": [],
   "source": [
    "def ttest_independence(df,col):\n",
    "    \"\"\"Tests if waterpoints with different opeartional status have the same distribution\"\"\"\n",
    "    result_df = pd.DataFrame(index=['functional vs other', 'functional needs repair vs other',\n",
    "                                    'non functional vs other'],\n",
    "                             columns=['t_stat','p_value'])\n",
    "    # Test functional vs other\n",
    "    s_f = df[df.status_group == 'functional'][col]\n",
    "    s_f_other = df[df.status_group != 'functional'][col]\n",
    "    result_df.loc['functional vs other','t_stat'], result_df.loc['functional vs other','p_value'] = ttest_ind(s_f, s_f_other)\n",
    "    \n",
    "    # Test functional needs repair vs other\n",
    "    s_fnr = df[df.status_group == 'functional needs repair'][col]\n",
    "    s_fnr_other = df[df.status_group != 'functional needs repair'][col]\n",
    "    result_df.loc['functional needs repair vs other','t_stat'], result_df.loc['functional needs repair vs other','p_value'] = ttest_ind(s_fnr, s_fnr_other)\n",
    "    \n",
    "    # Test non functional vs other\n",
    "    s_nf = df[df.status_group == 'non functional'][col]\n",
    "    s_nf_other = df[df.status_group != 'non functional'][col]\n",
    "    result_df.loc['non functional vs other','t_stat'], result_df.loc['non functional vs other','p_value'] = ttest_ind(s_nf, s_nf_other)\n",
    "    \n",
    "    return result_df"
   ]
  },
  {
   "cell_type": "code",
   "execution_count": 13,
   "metadata": {
    "collapsed": true
   },
   "outputs": [],
   "source": [
    "def freq_dist_table(df,cat):\n",
    "    \"\"\"Returns the frequency distribution table \n",
    "    ordered by total number of waterpoints for each category\"\"\"\n",
    "    # Pivot_table\n",
    "    freq_dist_df = df[[cat,'status_group']]\n",
    "    freq_dist_df['count_wp'] = 1\n",
    "    freq_dist_df = freq_dist_df.pivot_table(index=[cat],columns=['status_group'],values=['count_wp'],aggfunc='count',fill_value=0)\n",
    "    freq_dist_df.columns = freq_dist_df.columns.droplevel(0)\n",
    "    freq_dist_df['nb_waterpoints'] = freq_dist_df['functional'] + freq_dist_df['functional needs repair'] + freq_dist_df['non functional']\n",
    "    freq_dist_df.sort_values(by='nb_waterpoints', inplace=True)\n",
    "    freq_dist_df.drop(columns='nb_waterpoints',inplace=True)\n",
    "    return freq_dist_df"
   ]
  },
  {
   "cell_type": "code",
   "execution_count": 14,
   "metadata": {
    "collapsed": true
   },
   "outputs": [],
   "source": [
    "def plot_distribution(df):\n",
    "    \"\"\"Plots the frequency distribution\"\"\"\n",
    "    plt.figure(figsize=[15,10])\n",
    "    plt.bar(df.index.values, df['functional'].values, color='green')\n",
    "    plt.bar(df.index.values, df['functional needs repair'].values, \n",
    "            bottom=df['functional'].values, color='orange')\n",
    "    plt.bar(df.index.values, df['non functional'].values, \n",
    "            bottom=df['functional'].values+df['functional needs repair'].values, color='red')\n",
    "    plt.xlabel(df.index.name)\n",
    "    plt.ylabel('Number of waterpoints')\n",
    "    plt.show()\n",
    "    return"
   ]
  },
  {
   "cell_type": "code",
   "execution_count": 15,
   "metadata": {
    "collapsed": true
   },
   "outputs": [],
   "source": [
    "def set_less_freq(val,most_freq,other):\n",
    "    \"\"\"Replaces values that are not in most_freq list by other\"\"\"\n",
    "    if val not in most_freq:\n",
    "        return other\n",
    "    else:\n",
    "        return val"
   ]
  },
  {
   "cell_type": "code",
   "execution_count": 16,
   "metadata": {
    "collapsed": true
   },
   "outputs": [],
   "source": [
    "def keep_most_freq(s_in,n_to_keep,other):\n",
    "    \"\"\"Finds the n_to_keep most frequent values in Serie s_in\n",
    "    Then, replaces all other values including NaNs by other\"\"\"\n",
    "    # First, get the list of n_to_keep most frequent values\n",
    "    most_freq = list(s_in.value_counts()[:n_to_keep].index)\n",
    "    # Then, replace the less frequent values\n",
    "    s_out = s_in.apply(set_less_freq, args=(most_freq,other))\n",
    "    return s_out"
   ]
  },
  {
   "cell_type": "code",
   "execution_count": 17,
   "metadata": {
    "collapsed": true
   },
   "outputs": [],
   "source": [
    "def clean_val(s_in,map_df):\n",
    "    \"\"\"This function replaces the values in Serie s_in\n",
    "     according to map_df.before and map_df.after\"\"\"\n",
    "    s_out = s_in.copy()\n",
    "    s_out = s_out.replace(to_replace=list(map_df.before), value=list(map_df.after))\n",
    "    s_out = s_out.str.strip()\n",
    "    s_out = s_out.str.lower()\n",
    "    return s_out"
   ]
  },
  {
   "cell_type": "code",
   "execution_count": 18,
   "metadata": {
    "collapsed": true
   },
   "outputs": [],
   "source": [
    "def plot_num_vs_status(df,num):\n",
    "    \"\"\"Plot a violin plot for numerical feature\"\"\"\n",
    "    plt.figure(figsize=[8,8])\n",
    "    sns.violinplot(x=df.status_group.values, y=df[num].values, \n",
    "                   order=['functional', 'functional needs repair', 'non functional'],\n",
    "                   palette=['green', 'orange', 'red'])\n",
    "    plt.ylabel(num)\n",
    "    plt.show()\n",
    "    return"
   ]
  },
  {
   "cell_type": "code",
   "execution_count": 19,
   "metadata": {
    "collapsed": true
   },
   "outputs": [],
   "source": [
    "def plot_pie(df,col):\n",
    "    \"\"\"Plots 2 pie charts for a True/False column\"\"\"\n",
    "    plotT_s = df[df[col] == True]['status_group'].value_counts().sort_index()\n",
    "    plotF_s = df[df[col] == False]['status_group'].value_counts().sort_index()\n",
    "\n",
    "    plt.figure(figsize=[10,5])\n",
    "    plt.subplot(1,2,1)\n",
    "    plt.pie(plotT_s.values,labels=plotT_s.index.values,colors=['green','orange','red'], autopct='%1.1f%%')\n",
    "    plt.title(col + ' True')\n",
    "\n",
    "    plt.subplot(1,2,2)\n",
    "    plt.pie(plotF_s.values,labels=plotF_s.index.values,colors=['green','orange','red'], autopct='%1.1f%%')\n",
    "    plt.title(col + ' False')\n",
    "\n",
    "    plt.show()"
   ]
  },
  {
   "cell_type": "markdown",
   "metadata": {},
   "source": [
    "## amount_tsh: Amount water available to waterpoint"
   ]
  },
  {
   "cell_type": "code",
   "execution_count": 20,
   "metadata": {},
   "outputs": [
    {
     "data": {
      "text/plain": [
       "0.00         41639\n",
       "0.20             3\n",
       "0.25             1\n",
       "1.00             3\n",
       "2.00            13\n",
       "5.00           376\n",
       "6.00           190\n",
       "7.00            69\n",
       "9.00             1\n",
       "10.00          806\n",
       "12.00            1\n",
       "15.00           15\n",
       "20.00         1463\n",
       "25.00          356\n",
       "26.00            1\n",
       "30.00          743\n",
       "33.00           20\n",
       "35.00            8\n",
       "40.00           59\n",
       "50.00         2472\n",
       "53.00            1\n",
       "59.00            1\n",
       "60.00           15\n",
       "70.00           23\n",
       "100.00         816\n",
       "150.00          21\n",
       "200.00        1220\n",
       "220.00           1\n",
       "250.00         569\n",
       "300.00         557\n",
       "             ...  \n",
       "8000.00         61\n",
       "8500.00          1\n",
       "9000.00          3\n",
       "10000.00        57\n",
       "11000.00         2\n",
       "12000.00        51\n",
       "13000.00         2\n",
       "14000.00         4\n",
       "15000.00        16\n",
       "16000.00         2\n",
       "16300.00         2\n",
       "18000.00         4\n",
       "20000.00        45\n",
       "25000.00         9\n",
       "26000.00         2\n",
       "30000.00         8\n",
       "38000.00         1\n",
       "40000.00         7\n",
       "45000.00         3\n",
       "50000.00         4\n",
       "60000.00         1\n",
       "70000.00         1\n",
       "100000.00        3\n",
       "117000.00        7\n",
       "120000.00        1\n",
       "138000.00        1\n",
       "170000.00        1\n",
       "200000.00        1\n",
       "250000.00        1\n",
       "350000.00        1\n",
       "Name: amount_tsh, Length: 98, dtype: int64"
      ]
     },
     "execution_count": 20,
     "metadata": {},
     "output_type": "execute_result"
    }
   ],
   "source": [
    "source_df.amount_tsh.value_counts().sort_index()"
   ]
  },
  {
   "cell_type": "markdown",
   "metadata": {},
   "source": [
    "Most of the values are 0.\n",
    "The max seems huge, but there are other values above 100,000, so it's probably not an error."
   ]
  },
  {
   "cell_type": "code",
   "execution_count": 21,
   "metadata": {},
   "outputs": [
    {
     "data": {
      "image/png": "[encoded data removed]",
      "text/plain": [
       "<Figure size 576x576 with 1 Axes>"
      ]
     },
     "metadata": {},
     "output_type": "display_data"
    }
   ],
   "source": [
    "# Remove 0 values to have a better plot\n",
    "df_in = source_df[source_df.amount_tsh!=0]\n",
    "plot_num_vs_status(df_in,'amount_tsh')"
   ]
  },
  {
   "cell_type": "markdown",
   "metadata": {},
   "source": [
    "The higher TSH values are all those of functional pumps."
   ]
  },
  {
   "cell_type": "markdown",
   "metadata": {},
   "source": [
    "I will test the independence of the functional waterpoints vs the others, and so on for the other operational status."
   ]
  },
  {
   "cell_type": "code",
   "execution_count": 22,
   "metadata": {},
   "outputs": [
    {
     "data": {
      "text/html": [
       "<div>\n",
       "<style scoped>\n",
       "    .dataframe tbody tr th:only-of-type {\n",
       "        vertical-align: middle;\n",
       "    }\n",
       "\n",
       "    .dataframe tbody tr th {\n",
       "        vertical-align: top;\n",
       "    }\n",
       "\n",
       "    .dataframe thead th {\n",
       "        text-align: right;\n",
       "    }\n",
       "</style>\n",
       "<table border=\"1\" class=\"dataframe\">\n",
       "  <thead>\n",
       "    <tr style=\"text-align: right;\">\n",
       "      <th></th>\n",
       "      <th>t_stat</th>\n",
       "      <th>p_value</th>\n",
       "    </tr>\n",
       "  </thead>\n",
       "  <tbody>\n",
       "    <tr>\n",
       "      <th>functional vs other</th>\n",
       "      <td>4.76071</td>\n",
       "      <td>1.94439e-06</td>\n",
       "    </tr>\n",
       "    <tr>\n",
       "      <th>functional needs repair vs other</th>\n",
       "      <td>-1.05112</td>\n",
       "      <td>0.29322</td>\n",
       "    </tr>\n",
       "    <tr>\n",
       "      <th>non functional vs other</th>\n",
       "      <td>-4.56446</td>\n",
       "      <td>5.04147e-06</td>\n",
       "    </tr>\n",
       "  </tbody>\n",
       "</table>\n",
       "</div>"
      ],
      "text/plain": [
       "                                   t_stat      p_value\n",
       "functional vs other               4.76071  1.94439e-06\n",
       "functional needs repair vs other -1.05112      0.29322\n",
       "non functional vs other          -4.56446  5.04147e-06"
      ]
     },
     "execution_count": 22,
     "metadata": {},
     "output_type": "execute_result"
    }
   ],
   "source": [
    "# Do not use 0 values to calculate chi-square\n",
    "result_df = ttest_independence(df_in, 'amount_tsh')\n",
    "result_df"
   ]
  },
  {
   "cell_type": "markdown",
   "metadata": {},
   "source": [
    "The low p_values for functional and non functional water points shows the amount_tsh for these groups is very different.\n",
    "The high p_value for functional needs repair shows the amount_tsh for this group is not different from the rest of the waterpoints."
   ]
  },
  {
   "cell_type": "markdown",
   "metadata": {},
   "source": [
    "**Pre-processing:** scale the values"
   ]
  },
  {
   "cell_type": "code",
   "execution_count": 23,
   "metadata": {},
   "outputs": [],
   "source": [
    "col_to_scale.append('amount_tsh')"
   ]
  },
  {
   "cell_type": "markdown",
   "metadata": {},
   "source": [
    "## date_recorded: the date the row was entered"
   ]
  },
  {
   "cell_type": "markdown",
   "metadata": {},
   "source": [
    "This column has no relation with the wells, so I could get rid of it. However, I may help me to fill the missing values of the construction_year column."
   ]
  },
  {
   "cell_type": "code",
   "execution_count": 24,
   "metadata": {},
   "outputs": [
    {
     "data": {
      "text/html": [
       "<div>\n",
       "<style scoped>\n",
       "    .dataframe tbody tr th:only-of-type {\n",
       "        vertical-align: middle;\n",
       "    }\n",
       "\n",
       "    .dataframe tbody tr th {\n",
       "        vertical-align: top;\n",
       "    }\n",
       "\n",
       "    .dataframe thead th {\n",
       "        text-align: right;\n",
       "    }\n",
       "</style>\n",
       "<table border=\"1\" class=\"dataframe\">\n",
       "  <thead>\n",
       "    <tr style=\"text-align: right;\">\n",
       "      <th></th>\n",
       "      <th>date_recorded</th>\n",
       "      <th>construction_year</th>\n",
       "    </tr>\n",
       "    <tr>\n",
       "      <th>id</th>\n",
       "      <th></th>\n",
       "      <th></th>\n",
       "    </tr>\n",
       "  </thead>\n",
       "  <tbody>\n",
       "    <tr>\n",
       "      <th>69572</th>\n",
       "      <td>2011-03-14</td>\n",
       "      <td>1999</td>\n",
       "    </tr>\n",
       "    <tr>\n",
       "      <th>8776</th>\n",
       "      <td>2013-03-06</td>\n",
       "      <td>2010</td>\n",
       "    </tr>\n",
       "    <tr>\n",
       "      <th>34310</th>\n",
       "      <td>2013-02-25</td>\n",
       "      <td>2009</td>\n",
       "    </tr>\n",
       "    <tr>\n",
       "      <th>67743</th>\n",
       "      <td>2013-01-28</td>\n",
       "      <td>1986</td>\n",
       "    </tr>\n",
       "    <tr>\n",
       "      <th>19728</th>\n",
       "      <td>2011-07-13</td>\n",
       "      <td>0</td>\n",
       "    </tr>\n",
       "    <tr>\n",
       "      <th>9944</th>\n",
       "      <td>2011-03-13</td>\n",
       "      <td>2009</td>\n",
       "    </tr>\n",
       "    <tr>\n",
       "      <th>19816</th>\n",
       "      <td>2012-10-01</td>\n",
       "      <td>0</td>\n",
       "    </tr>\n",
       "    <tr>\n",
       "      <th>54551</th>\n",
       "      <td>2012-10-09</td>\n",
       "      <td>0</td>\n",
       "    </tr>\n",
       "    <tr>\n",
       "      <th>53934</th>\n",
       "      <td>2012-11-03</td>\n",
       "      <td>0</td>\n",
       "    </tr>\n",
       "    <tr>\n",
       "      <th>46144</th>\n",
       "      <td>2011-08-03</td>\n",
       "      <td>0</td>\n",
       "    </tr>\n",
       "  </tbody>\n",
       "</table>\n",
       "</div>"
      ],
      "text/plain": [
       "      date_recorded  construction_year\n",
       "id                                    \n",
       "69572    2011-03-14               1999\n",
       "8776     2013-03-06               2010\n",
       "34310    2013-02-25               2009\n",
       "67743    2013-01-28               1986\n",
       "19728    2011-07-13                  0\n",
       "9944     2011-03-13               2009\n",
       "19816    2012-10-01                  0\n",
       "54551    2012-10-09                  0\n",
       "53934    2012-11-03                  0\n",
       "46144    2011-08-03                  0"
      ]
     },
     "execution_count": 24,
     "metadata": {},
     "output_type": "execute_result"
    }
   ],
   "source": [
    "source_df[['date_recorded','construction_year']].head(10)"
   ]
  },
  {
   "cell_type": "markdown",
   "metadata": {},
   "source": [
    "A quick look shows there is no relation between date_recorded and construction_year."
   ]
  },
  {
   "cell_type": "markdown",
   "metadata": {},
   "source": [
    "**Data cleaning:** drop this column."
   ]
  },
  {
   "cell_type": "code",
   "execution_count": 25,
   "metadata": {
    "collapsed": true
   },
   "outputs": [],
   "source": [
    "col_to_drop.append('date_recorded')"
   ]
  },
  {
   "cell_type": "markdown",
   "metadata": {},
   "source": [
    "## Funder"
   ]
  },
  {
   "cell_type": "code",
   "execution_count": 26,
   "metadata": {},
   "outputs": [
    {
     "data": {
      "text/plain": [
       "Government Of Tanzania        9084\n",
       "Danida                        3114\n",
       "Hesawa                        2202\n",
       "Rwssp                         1374\n",
       "World Bank                    1349\n",
       "Kkkt                          1287\n",
       "World Vision                  1246\n",
       "Unicef                        1057\n",
       "Tasaf                          877\n",
       "District Council               843\n",
       "Dhv                            829\n",
       "Private Individual             826\n",
       "Dwsp                           811\n",
       "0                              777\n",
       "Norad                          765\n",
       "Germany Republi                610\n",
       "Tcrs                           602\n",
       "Ministry Of Water              590\n",
       "Water                          583\n",
       "Dwe                            484\n",
       "Netherlands                    470\n",
       "Hifab                          450\n",
       "Adb                            448\n",
       "Lga                            442\n",
       "Amref                          425\n",
       "Fini Water                     393\n",
       "Oxfam                          359\n",
       "Wateraid                       333\n",
       "Rc Church                      321\n",
       "Isf                            316\n",
       "                              ... \n",
       "Cristan Outrich                  1\n",
       "Nimrodi Mkono[mb]                1\n",
       "Veo                              1\n",
       "Enyuati                          1\n",
       "Tlc/thimotheo Masunga            1\n",
       "Inkinda                          1\n",
       "Shabani Dunia                    1\n",
       "Fabia                            1\n",
       "Mgaya                            1\n",
       "Pentecostal Hagana Sweeden       1\n",
       "Opec                             1\n",
       "Bukumbi                          1\n",
       "Eco Lodge                        1\n",
       "Bfwd                             1\n",
       "Crs                              1\n",
       "Kegocha                          1\n",
       "Mwalimu Omari                    1\n",
       "Chai Wazir                       1\n",
       "Shamte Said                      1\n",
       "Gerald Tuseko Gro                1\n",
       "Mango Tree                       1\n",
       "Dom                              1\n",
       "Doner And Ded                    1\n",
       "Shule Ya Msingi                  1\n",
       "Jafary Mbaga                     1\n",
       "Misheni                          1\n",
       "Magul                            1\n",
       "Kiwanda Cha Ngozi                1\n",
       "Moshono Adp                      1\n",
       "Said Omari                       1\n",
       "Name: funder, Length: 1897, dtype: int64"
      ]
     },
     "execution_count": 26,
     "metadata": {},
     "output_type": "execute_result"
    }
   ],
   "source": [
    "source_df.funder.value_counts().sort_index().to_csv('../Data/funder.csv', header=False)\n",
    "source_df.funder.value_counts()"
   ]
  },
  {
   "cell_type": "markdown",
   "metadata": {},
   "source": [
    "This column has 1897 different values, a lot of them appear only once, and there are a lot of mispelling, or same funder has different name. There is also 777 \"0\".\n",
    "To use this column as a categorical variable, I will need to pre-process it, keeping the most frequent values and changing the less frequent as \"other\".\n",
    "Finally, change type to category"
   ]
  },
  {
   "cell_type": "code",
   "execution_count": 27,
   "metadata": {
    "collapsed": true
   },
   "outputs": [],
   "source": [
    "def clean_funder(df,n_to_keep):\n",
    "    # First clean misspellings\n",
    "    funder_map = pd.read_csv('../Data/funder map.csv', header=None, names=['before','after'],index_col=False)\n",
    "#    funder_map = pd.DataFrame([['0','other']],columns=['before','after'])\n",
    "    s = clean_val(df.funder,funder_map)\n",
    "    # Then replace less frequent with 'Other'\n",
    "    s = keep_most_freq(s,n_to_keep,'other')\n",
    "    # Finally, categorize\n",
    "    s = s.astype('category').cat.codes\n",
    "    return s"
   ]
  },
  {
   "cell_type": "code",
   "execution_count": 28,
   "metadata": {
    "collapsed": true
   },
   "outputs": [],
   "source": [
    "clean_df.funder = clean_funder(source_df,50)"
   ]
  },
  {
   "cell_type": "code",
   "execution_count": 29,
   "metadata": {
    "scrolled": true
   },
   "outputs": [
    {
     "data": {
      "text/plain": [
       "30    18924\n",
       "15     9123\n",
       "5      3117\n",
       "16     2209\n",
       "40     1406\n",
       "48     1349\n",
       "22     1287\n",
       "49     1283\n",
       "44     1202\n",
       "42     1057\n",
       "47     1014\n",
       "8       891\n",
       "9       843\n",
       "34      828\n",
       "28      812\n",
       "12      811\n",
       "45      810\n",
       "13      747\n",
       "14      711\n",
       "27      655\n",
       "43      619\n",
       "24      590\n",
       "11      543\n",
       "37      479\n",
       "36      462\n",
       "17      450\n",
       "0       448\n",
       "23      442\n",
       "2       426\n",
       "3       425\n",
       "31      373\n",
       "18      348\n",
       "46      327\n",
       "38      314\n",
       "33      311\n",
       "25      301\n",
       "39      293\n",
       "19      280\n",
       "1       263\n",
       "4       262\n",
       "20      259\n",
       "41      241\n",
       "50      239\n",
       "35      230\n",
       "7       213\n",
       "26      212\n",
       "6       201\n",
       "29      196\n",
       "32      195\n",
       "10      190\n",
       "21      189\n",
       "Name: funder, dtype: int64"
      ]
     },
     "execution_count": 29,
     "metadata": {},
     "output_type": "execute_result"
    }
   ],
   "source": [
    "clean_df.funder.value_counts()"
   ]
  },
  {
   "cell_type": "markdown",
   "metadata": {},
   "source": [
    "Calculate the chi squared test for independence. "
   ]
  },
  {
   "cell_type": "code",
   "execution_count": 30,
   "metadata": {
    "scrolled": true
   },
   "outputs": [
    {
     "name": "stdout",
     "output_type": "stream",
     "text": [
      "chi2: 14173.222324, p_value: 0.000000\n"
     ]
    },
    {
     "name": "stderr",
     "output_type": "stream",
     "text": [
      "/Users/tisonbertrand/anaconda3/lib/python3.6/site-packages/ipykernel_launcher.py:6: SettingWithCopyWarning: \n",
      "A value is trying to be set on a copy of a slice from a DataFrame.\n",
      "Try using .loc[row_indexer,col_indexer] = value instead\n",
      "\n",
      "See the caveats in the documentation: http://pandas.pydata.org/pandas-docs/stable/indexing.html#indexing-view-versus-copy\n",
      "  \n"
     ]
    }
   ],
   "source": [
    "funder_df = freq_dist_table(source_df,'funder')\n",
    "chi2, p, dof, expected = chi2_contingency(funder_df.values)\n",
    "print(\"chi2: {:f}, p_value: {:f}\".format(chi2,p))"
   ]
  },
  {
   "cell_type": "markdown",
   "metadata": {},
   "source": [
    "p_value is 0, so we can reject the null hypothesis that the categories are independent.\n",
    "The operational status is related to the funder."
   ]
  },
  {
   "cell_type": "markdown",
   "metadata": {},
   "source": [
    "## gps_height: Altitude of the well"
   ]
  },
  {
   "cell_type": "code",
   "execution_count": 31,
   "metadata": {},
   "outputs": [
    {
     "data": {
      "text/plain": [
       "-90       1\n",
       "-63       2\n",
       "-59       1\n",
       "-57       1\n",
       "-55       1\n",
       "-54       1\n",
       "-53       1\n",
       "-52       2\n",
       "-51       2\n",
       "-50       5\n",
       "-49       4\n",
       "-48       6\n",
       "-47       8\n",
       "-46       6\n",
       "-45       9\n",
       "-44       6\n",
       "-43      11\n",
       "-42      13\n",
       "-41      11\n",
       "-40      26\n",
       "-39      14\n",
       "-38      17\n",
       "-37      19\n",
       "-36      24\n",
       "-35      18\n",
       "-34      18\n",
       "-33      22\n",
       "-32      24\n",
       "-31      26\n",
       "-30      26\n",
       "         ..\n",
       " 2469     1\n",
       " 2475     1\n",
       " 2484     1\n",
       " 2491     1\n",
       " 2501     1\n",
       " 2506     1\n",
       " 2509     2\n",
       " 2521     1\n",
       " 2523     1\n",
       " 2535     1\n",
       " 2536     1\n",
       " 2539     1\n",
       " 2545     1\n",
       " 2552     1\n",
       " 2554     2\n",
       " 2557     1\n",
       " 2559     1\n",
       " 2560     2\n",
       " 2566     1\n",
       " 2567     1\n",
       " 2568     1\n",
       " 2569     1\n",
       " 2576     1\n",
       " 2585     1\n",
       " 2614     1\n",
       " 2623     1\n",
       " 2626     2\n",
       " 2627     1\n",
       " 2628     1\n",
       " 2770     1\n",
       "Name: gps_height, Length: 2428, dtype: int64"
      ]
     },
     "execution_count": 31,
     "metadata": {},
     "output_type": "execute_result"
    }
   ],
   "source": [
    "source_df.gps_height.value_counts().sort_index()"
   ]
  },
  {
   "cell_type": "markdown",
   "metadata": {},
   "source": [
    "Wells with negative altitudes are underground."
   ]
  },
  {
   "cell_type": "code",
   "execution_count": 32,
   "metadata": {},
   "outputs": [
    {
     "data": {
      "image/png": "[encoded data removed]",
      "text/plain": [
       "<Figure size 576x576 with 1 Axes>"
      ]
     },
     "metadata": {},
     "output_type": "display_data"
    }
   ],
   "source": [
    "plot_num_vs_status(source_df,'gps_height')"
   ]
  },
  {
   "cell_type": "markdown",
   "metadata": {},
   "source": [
    "The violins look very similar, like there is no relation between gps_height and operational status. Let's test their independence."
   ]
  },
  {
   "cell_type": "code",
   "execution_count": 33,
   "metadata": {},
   "outputs": [
    {
     "data": {
      "text/html": [
       "<div>\n",
       "<style scoped>\n",
       "    .dataframe tbody tr th:only-of-type {\n",
       "        vertical-align: middle;\n",
       "    }\n",
       "\n",
       "    .dataframe tbody tr th {\n",
       "        vertical-align: top;\n",
       "    }\n",
       "\n",
       "    .dataframe thead th {\n",
       "        text-align: right;\n",
       "    }\n",
       "</style>\n",
       "<table border=\"1\" class=\"dataframe\">\n",
       "  <thead>\n",
       "    <tr style=\"text-align: right;\">\n",
       "      <th></th>\n",
       "      <th>t_stat</th>\n",
       "      <th>p_value</th>\n",
       "    </tr>\n",
       "  </thead>\n",
       "  <tbody>\n",
       "    <tr>\n",
       "      <th>functional vs other</th>\n",
       "      <td>27.7151</td>\n",
       "      <td>5.42774e-168</td>\n",
       "    </tr>\n",
       "    <tr>\n",
       "      <th>functional needs repair vs other</th>\n",
       "      <td>-4.00602</td>\n",
       "      <td>6.18255e-05</td>\n",
       "    </tr>\n",
       "    <tr>\n",
       "      <th>non functional vs other</th>\n",
       "      <td>-26.2139</td>\n",
       "      <td>1.33281e-150</td>\n",
       "    </tr>\n",
       "  </tbody>\n",
       "</table>\n",
       "</div>"
      ],
      "text/plain": [
       "                                   t_stat       p_value\n",
       "functional vs other               27.7151  5.42774e-168\n",
       "functional needs repair vs other -4.00602   6.18255e-05\n",
       "non functional vs other          -26.2139  1.33281e-150"
      ]
     },
     "execution_count": 33,
     "metadata": {},
     "output_type": "execute_result"
    }
   ],
   "source": [
    "result_df = ttest_independence(source_df, 'gps_height')\n",
    "result_df"
   ]
  },
  {
   "cell_type": "markdown",
   "metadata": {},
   "source": [
    "The low p_values show the repartition of gps_height for these groups is very different.\n",
    "So gps_height is information I should keep."
   ]
  },
  {
   "cell_type": "markdown",
   "metadata": {},
   "source": [
    "**Pre-processing:** scale this column"
   ]
  },
  {
   "cell_type": "code",
   "execution_count": 34,
   "metadata": {
    "collapsed": true
   },
   "outputs": [],
   "source": [
    "col_to_scale.append('gps_height')"
   ]
  },
  {
   "cell_type": "markdown",
   "metadata": {
    "collapsed": true
   },
   "source": [
    "## installer"
   ]
  },
  {
   "cell_type": "code",
   "execution_count": 35,
   "metadata": {},
   "outputs": [
    {
     "data": {
      "text/plain": [
       "DWE                               17402\n",
       "Government                         1825\n",
       "RWE                                1206\n",
       "Commu                              1060\n",
       "DANIDA                             1050\n",
       "KKKT                                898\n",
       "Hesawa                              840\n",
       "0                                   777\n",
       "TCRS                                707\n",
       "Central government                  622\n",
       "CES                                 610\n",
       "Community                           553\n",
       "DANID                               552\n",
       "District Council                    551\n",
       "HESAWA                              539\n",
       "LGA                                 408\n",
       "World vision                        408\n",
       "WEDECO                              397\n",
       "TASAF                               396\n",
       "District council                    392\n",
       "Gover                               383\n",
       "AMREF                               329\n",
       "TWESA                               316\n",
       "WU                                  301\n",
       "Dmdd                                287\n",
       "ACRA                                278\n",
       "World Vision                        270\n",
       "SEMA                                249\n",
       "DW                                  246\n",
       "OXFAM                               234\n",
       "                                  ...  \n",
       "Rotary club Australia                 1\n",
       "MANGO TREE                            1\n",
       "ALIA                                  1\n",
       "Rotary Club of Chico and Moshi        1\n",
       "Engarasero villagers                  1\n",
       "VILLAGE                               1\n",
       "Magani                                1\n",
       "TANGA CEMENT                          1\n",
       "Maseka community                      1\n",
       "VILLAGE WATER COMMISSION              1\n",
       "villager                              1\n",
       "WAMA                                  1\n",
       "Busoga trust                          1\n",
       "Chuo                                  1\n",
       "OMARY MONA                            1\n",
       "Amboni plantation                     1\n",
       "Biore                                 1\n",
       "MSIGWA                                1\n",
       "Barry A. Murphy                       1\n",
       "Building works engineering Ltd        1\n",
       "CEFA/rc church                        1\n",
       "Raymond Ekura                         1\n",
       "Great Lakes                           1\n",
       "MKONGO CONSTRUCTION                   1\n",
       "Shamte Said                           1\n",
       "peter                                 1\n",
       "JACKSON MAHAMBO                       1\n",
       "FARM-AFRICA                           1\n",
       "Gerald                                1\n",
       "harison                               1\n",
       "Name: installer, Length: 2145, dtype: int64"
      ]
     },
     "execution_count": 35,
     "metadata": {},
     "output_type": "execute_result"
    }
   ],
   "source": [
    "source_df.installer.value_counts().sort_index().to_csv('../Data/installer.csv',header=False)\n",
    "source_df.installer.value_counts()"
   ]
  },
  {
   "cell_type": "markdown",
   "metadata": {},
   "source": [
    "This column has 2145 different values, with the same issues as the funder column.\n",
    "To use this column as a categorical variable, I will need to pre-process it, keeping the most frequent values and changing the less frequent as \"other\""
   ]
  },
  {
   "cell_type": "code",
   "execution_count": 36,
   "metadata": {
    "collapsed": true
   },
   "outputs": [],
   "source": [
    "def clean_installer(df, n_to_keep):\n",
    "    # First, misspellings\n",
    "    installer_map = pd.read_csv('../Data/installer map.csv', header=None, names=['before','after'],index_col=False)\n",
    "    #installer_map = pd.DataFrame([['0','other']],columns=['before','after'])\n",
    "    s = clean_val(source_df.installer,installer_map)\n",
    "    # Then replace less frequent with 'Other'\n",
    "    s = keep_most_freq(s,n_to_keep,'other')\n",
    "    # Finally, category\n",
    "    s = s.astype('category').cat.codes\n",
    "    return s"
   ]
  },
  {
   "cell_type": "code",
   "execution_count": 37,
   "metadata": {
    "collapsed": true
   },
   "outputs": [],
   "source": [
    "clean_df.installer = clean_installer(source_df,50)"
   ]
  },
  {
   "cell_type": "code",
   "execution_count": 38,
   "metadata": {},
   "outputs": [
    {
     "data": {
      "text/plain": [
       "14    17436\n",
       "31    16669\n",
       "18     2669\n",
       "5      1671\n",
       "7      1606\n",
       "19     1402\n",
       "35     1307\n",
       "23     1205\n",
       "3      1077\n",
       "10      978\n",
       "48      841\n",
       "16      802\n",
       "40      734\n",
       "34      673\n",
       "4       610\n",
       "39      511\n",
       "43      507\n",
       "2       443\n",
       "26      413\n",
       "46      406\n",
       "30      387\n",
       "12      376\n",
       "45      352\n",
       "42      333\n",
       "32      330\n",
       "41      328\n",
       "6       308\n",
       "49      301\n",
       "0       278\n",
       "1       276\n",
       "36      257\n",
       "13      246\n",
       "21      244\n",
       "22      236\n",
       "38      236\n",
       "20      223\n",
       "33      222\n",
       "37      218\n",
       "11      214\n",
       "44      209\n",
       "8       202\n",
       "24      197\n",
       "29      197\n",
       "15      192\n",
       "25      187\n",
       "27      184\n",
       "9       181\n",
       "28      179\n",
       "47      174\n",
       "17      173\n",
       "Name: installer, dtype: int64"
      ]
     },
     "execution_count": 38,
     "metadata": {},
     "output_type": "execute_result"
    }
   ],
   "source": [
    "clean_df.installer.value_counts()"
   ]
  },
  {
   "cell_type": "markdown",
   "metadata": {},
   "source": [
    "Calculate the chi squared test for independence. "
   ]
  },
  {
   "cell_type": "code",
   "execution_count": 39,
   "metadata": {
    "scrolled": true
   },
   "outputs": [
    {
     "name": "stdout",
     "output_type": "stream",
     "text": [
      "chi2: 14722.564834, p_value: 0.000000\n"
     ]
    },
    {
     "name": "stderr",
     "output_type": "stream",
     "text": [
      "/Users/tisonbertrand/anaconda3/lib/python3.6/site-packages/ipykernel_launcher.py:6: SettingWithCopyWarning: \n",
      "A value is trying to be set on a copy of a slice from a DataFrame.\n",
      "Try using .loc[row_indexer,col_indexer] = value instead\n",
      "\n",
      "See the caveats in the documentation: http://pandas.pydata.org/pandas-docs/stable/indexing.html#indexing-view-versus-copy\n",
      "  \n"
     ]
    }
   ],
   "source": [
    "installer_df = freq_dist_table(source_df,'installer')\n",
    "chi2, p, dof, expected = chi2_contingency(installer_df.values)\n",
    "print(\"chi2: {:f}, p_value: {:f}\".format(chi2,p))"
   ]
  },
  {
   "cell_type": "markdown",
   "metadata": {},
   "source": [
    "p_value is 0, so we can reject the null hypothesis that the categories are independent.\n",
    "The operational status is related to the installer."
   ]
  },
  {
   "cell_type": "markdown",
   "metadata": {},
   "source": [
    "## longitude, latitude"
   ]
  },
  {
   "cell_type": "code",
   "execution_count": 40,
   "metadata": {
    "scrolled": true
   },
   "outputs": [
    {
     "data": {
      "text/plain": [
       "-1.164944e+01       1\n",
       "-1.164838e+01       1\n",
       "-1.158630e+01       1\n",
       "-1.156858e+01       1\n",
       "-1.156680e+01       1\n",
       "-1.156451e+01       1\n",
       "-1.156432e+01       1\n",
       "-1.156232e+01       1\n",
       "-1.156229e+01       1\n",
       "-1.156162e+01       1\n",
       "-1.156105e+01       1\n",
       "-1.156055e+01       1\n",
       "-1.155749e+01       1\n",
       "-1.155728e+01       1\n",
       "-1.155703e+01       1\n",
       "-1.155639e+01       1\n",
       "-1.155413e+01       1\n",
       "-1.155317e+01       1\n",
       "-1.153953e+01       1\n",
       "-1.153842e+01       1\n",
       "-1.153833e+01       1\n",
       "-1.153785e+01       1\n",
       "-1.153707e+01       1\n",
       "-1.153679e+01       1\n",
       "-1.152131e+01       1\n",
       "-1.151494e+01       1\n",
       "-1.151389e+01       1\n",
       "-1.151323e+01       1\n",
       "-1.151176e+01       1\n",
       "-1.151079e+01       1\n",
       "                 ... \n",
       "-1.021558e+00       1\n",
       "-1.016317e+00       1\n",
       "-1.015149e+00       1\n",
       "-1.013978e+00       1\n",
       "-1.013626e+00       1\n",
       "-1.011835e+00       1\n",
       "-1.010717e+00       1\n",
       "-1.009458e+00       1\n",
       "-1.008978e+00       1\n",
       "-1.008346e+00       1\n",
       "-1.007073e+00       1\n",
       "-1.006552e+00       1\n",
       "-1.006140e+00       1\n",
       "-1.005107e+00       1\n",
       "-1.004616e+00       1\n",
       "-1.003679e+00       1\n",
       "-1.003345e+00       1\n",
       "-1.003317e+00       1\n",
       "-1.003277e+00       1\n",
       "-1.001988e+00       1\n",
       "-1.001521e+00       1\n",
       "-1.000585e+00       1\n",
       "-9.995223e-01       1\n",
       "-9.995065e-01       1\n",
       "-9.994692e-01       1\n",
       "-9.991170e-01       1\n",
       "-9.990121e-01       1\n",
       "-9.989160e-01       1\n",
       "-9.984644e-01       1\n",
       "-2.000000e-08    1812\n",
       "Name: latitude, Length: 57517, dtype: int64"
      ]
     },
     "execution_count": 40,
     "metadata": {},
     "output_type": "execute_result"
    }
   ],
   "source": [
    "source_df.latitude.value_counts().sort_index()"
   ]
  },
  {
   "cell_type": "code",
   "execution_count": 41,
   "metadata": {
    "scrolled": true
   },
   "outputs": [
    {
     "data": {
      "text/plain": [
       "0.000000     1812\n",
       "29.607122       1\n",
       "29.607201       1\n",
       "29.610321       1\n",
       "29.610965       1\n",
       "29.611947       1\n",
       "29.612507       1\n",
       "29.612763       1\n",
       "29.613443       1\n",
       "29.616872       1\n",
       "29.618479       1\n",
       "29.630583       1\n",
       "29.638815       1\n",
       "29.638904       1\n",
       "29.639026       1\n",
       "29.640156       1\n",
       "29.640411       1\n",
       "29.640963       1\n",
       "29.641149       1\n",
       "29.642162       1\n",
       "29.642201       1\n",
       "29.642269       1\n",
       "29.642488       1\n",
       "29.642861       1\n",
       "29.643541       1\n",
       "29.643546       1\n",
       "29.643579       1\n",
       "29.643938       1\n",
       "29.644221       1\n",
       "29.644315       1\n",
       "             ... \n",
       "40.286679       1\n",
       "40.287471       1\n",
       "40.295239       1\n",
       "40.298026       1\n",
       "40.300378       1\n",
       "40.301214       1\n",
       "40.301987       1\n",
       "40.301999       1\n",
       "40.303795       1\n",
       "40.304418       1\n",
       "40.305421       1\n",
       "40.305644       1\n",
       "40.311031       1\n",
       "40.311540       1\n",
       "40.319699       1\n",
       "40.320419       1\n",
       "40.320693       1\n",
       "40.320693       1\n",
       "40.320693       1\n",
       "40.320699       1\n",
       "40.321966       1\n",
       "40.322169       1\n",
       "40.322625       1\n",
       "40.322805       1\n",
       "40.322832       1\n",
       "40.323402       1\n",
       "40.325226       1\n",
       "40.325240       1\n",
       "40.344301       1\n",
       "40.345193       1\n",
       "Name: longitude, Length: 57516, dtype: int64"
      ]
     },
     "execution_count": 41,
     "metadata": {},
     "output_type": "execute_result"
    }
   ],
   "source": [
    "source_df.longitude.value_counts().sort_index()"
   ]
  },
  {
   "cell_type": "markdown",
   "metadata": {},
   "source": [
    "values equal to 0 or close to 0 are not valid."
   ]
  },
  {
   "cell_type": "code",
   "execution_count": 42,
   "metadata": {},
   "outputs": [
    {
     "name": "stderr",
     "output_type": "stream",
     "text": [
      "/Users/tisonbertrand/anaconda3/lib/python3.6/site-packages/ipykernel_launcher.py:4: SettingWithCopyWarning: \n",
      "A value is trying to be set on a copy of a slice from a DataFrame.\n",
      "Try using .loc[row_indexer,col_indexer] = value instead\n",
      "\n",
      "See the caveats in the documentation: http://pandas.pydata.org/pandas-docs/stable/indexing.html#indexing-view-versus-copy\n",
      "  after removing the cwd from sys.path.\n"
     ]
    },
    {
     "data": {
      "image/png": "[encoded data removed]",
      "text/plain": [
       "<Figure size 720x720 with 1 Axes>"
      ]
     },
     "metadata": {},
     "output_type": "display_data"
    }
   ],
   "source": [
    "# plot waterpoints on a geographic map\n",
    "plot_df = source_df[['latitude','longitude']]\n",
    "color_dict = {'functional':'green','functional needs repair':'orange','non functional':'red'}\n",
    "plot_df['colors'] = source_df.status_group.map(color_dict)\n",
    "\n",
    "# remove invalid values before plotting\n",
    "plot_df = plot_df[plot_df.latitude < -0.1]\n",
    "plot_df = plot_df.loc[plot_df.longitude > 29]\n",
    "\n",
    "plt.figure(figsize=[10,10])\n",
    "plt.scatter(plot_df.longitude, plot_df.latitude, color=plot_df.colors, alpha=0.2, s=5)\n",
    "#plt.scatter(mean_df.longitude, mean_df.latitude, color='blue', s=10)\n",
    "plt.xlabel('longitude')\n",
    "plt.ylabel('latitude')\n",
    "plt.title('Geographic location of wells')\n",
    "plt.show()"
   ]
  },
  {
   "cell_type": "markdown",
   "metadata": {},
   "source": [
    "There is a lot of non functional waterpoints at the south east of Tanzania."
   ]
  },
  {
   "cell_type": "markdown",
   "metadata": {},
   "source": [
    "**Data cleaning:** replace 0 or close to 0 values with the mean of the column for the same region. Tanzania is divided in 21 regions."
   ]
  },
  {
   "cell_type": "code",
   "execution_count": 43,
   "metadata": {
    "collapsed": true
   },
   "outputs": [],
   "source": [
    "def clean_latitude_longitude(df):\n",
    "    \"\"\"This function replaces 0 or near 0 values by the mean of the region\"\"\"\n",
    "    out_df = df.copy()\n",
    "    # First, get region means\n",
    "    geo_df = df[df.latitude < -0.1]\n",
    "    geo_df = geo_df[geo_df.longitude > 29]\n",
    "    geo_df = geo_df[['latitude','longitude','region']]\n",
    "    mean_df = geo_df.groupby('region')[['latitude','longitude']].mean()\n",
    "    # Then, replace near 0 values with region means\n",
    "    for i in df.index:\n",
    "        if i not in geo_df.index:\n",
    "            region = df.loc[i,'region']\n",
    "            out_df.loc[i,'latitude'] = mean_df.loc[region,'latitude']\n",
    "            out_df.loc[i,'longitude'] = mean_df.loc[region,'longitude']\n",
    "    return out_df.latitude, out_df.longitude"
   ]
  },
  {
   "cell_type": "code",
   "execution_count": 44,
   "metadata": {
    "collapsed": true
   },
   "outputs": [],
   "source": [
    "clean_df.latitude, clean_df.longitude = clean_latitude_longitude(source_df)"
   ]
  },
  {
   "cell_type": "code",
   "execution_count": 45,
   "metadata": {
    "collapsed": true
   },
   "outputs": [],
   "source": [
    "col_to_scale.append('latitude')\n",
    "col_to_scale.append('longitude')"
   ]
  },
  {
   "cell_type": "markdown",
   "metadata": {},
   "source": [
    "## wpt_name: name of the water point"
   ]
  },
  {
   "cell_type": "code",
   "execution_count": 46,
   "metadata": {},
   "outputs": [
    {
     "data": {
      "text/plain": [
       "none                    3563\n",
       "Shuleni                 1748\n",
       "Zahanati                 830\n",
       "Msikitini                535\n",
       "Kanisani                 323\n",
       "Bombani                  271\n",
       "Sokoni                   260\n",
       "Ofisini                  254\n",
       "School                   208\n",
       "Shule Ya Msingi          199\n",
       "Shule                    152\n",
       "Sekondari                146\n",
       "Muungano                 133\n",
       "Mkombozi                 111\n",
       "Madukani                 104\n",
       "Mbugani                   94\n",
       "Hospital                  94\n",
       "Upendo                    93\n",
       "Kituo Cha Afya            90\n",
       "Mkuyuni                   88\n",
       "Umoja                     84\n",
       "Center                    83\n",
       "Ccm                       81\n",
       "Kisimani                  78\n",
       "Ofisi Ya Kijiji           76\n",
       "Mtakuja                   76\n",
       "Tankini                   73\n",
       "Bwawani                   66\n",
       "Songambele                66\n",
       "Maendeleo                 64\n",
       "                        ... \n",
       "Kwa Ijuma                  1\n",
       "Kwa Galile Mwasivila       1\n",
       "Kwa Roman Massawe          1\n",
       "Julius Mbwiga              1\n",
       "Kwa Magane                 1\n",
       "Kwa Albert Njau            1\n",
       "Dumbeta Sekondari          1\n",
       "Kwa Sophia Kikondiba       1\n",
       "Kwa Makuka                 1\n",
       "Kwa Fraley                 1\n",
       "Kwa Nicholas James         1\n",
       "Red Cross Office           1\n",
       "Kwakasa                    1\n",
       "Kwa Petro Biro             1\n",
       "Kwa Laurent Stani          1\n",
       "Kwa Mzee Salum Chata       1\n",
       "Kwa Sefute                 1\n",
       "Mbueni C                   1\n",
       "Kwa Sadoki Skazo           1\n",
       "Kwa Kalea                  1\n",
       "Mwandepa                   1\n",
       "Kwa Canon Mlagala          1\n",
       "Mwaselela                  1\n",
       "Mtereka                    1\n",
       "Ukondamoyo B               1\n",
       "Kazuka                     1\n",
       "Kwa Wambura Mgaya          1\n",
       "Patrick Nzowa              1\n",
       "Mzee Athumani Mussa        1\n",
       "Kwa Alfed Kachele          1\n",
       "Name: wpt_name, Length: 37400, dtype: int64"
      ]
     },
     "execution_count": 46,
     "metadata": {},
     "output_type": "execute_result"
    }
   ],
   "source": [
    "source_df.wpt_name.value_counts()"
   ]
  },
  {
   "cell_type": "markdown",
   "metadata": {},
   "source": [
    "I already have the water point id, which is unique, so I can get rid of this column."
   ]
  },
  {
   "cell_type": "markdown",
   "metadata": {},
   "source": [
    "**Data cleaning:** drop this column."
   ]
  },
  {
   "cell_type": "code",
   "execution_count": 47,
   "metadata": {
    "collapsed": true
   },
   "outputs": [],
   "source": [
    "col_to_drop.append('wpt_name')"
   ]
  },
  {
   "cell_type": "markdown",
   "metadata": {},
   "source": [
    "## num_private"
   ]
  },
  {
   "cell_type": "code",
   "execution_count": 48,
   "metadata": {},
   "outputs": [
    {
     "data": {
      "text/plain": [
       "0       58643\n",
       "6          81\n",
       "1          73\n",
       "5          46\n",
       "8          46\n",
       "32         40\n",
       "45         36\n",
       "15         35\n",
       "39         30\n",
       "93         28\n",
       "3          27\n",
       "7          26\n",
       "2          23\n",
       "65         22\n",
       "47         21\n",
       "102        20\n",
       "4          20\n",
       "17         17\n",
       "80         15\n",
       "20         14\n",
       "25         12\n",
       "11         11\n",
       "41         10\n",
       "34         10\n",
       "16          8\n",
       "120         7\n",
       "150         6\n",
       "22          6\n",
       "12          5\n",
       "24          5\n",
       "        ...  \n",
       "14          3\n",
       "61          3\n",
       "27          2\n",
       "26          2\n",
       "160         1\n",
       "30          1\n",
       "698         1\n",
       "60          1\n",
       "1402        1\n",
       "450         1\n",
       "668         1\n",
       "131         1\n",
       "35          1\n",
       "672         1\n",
       "42          1\n",
       "136         1\n",
       "87          1\n",
       "300         1\n",
       "280         1\n",
       "141         1\n",
       "62          1\n",
       "111         1\n",
       "240         1\n",
       "1776        1\n",
       "755         1\n",
       "180         1\n",
       "213         1\n",
       "23          1\n",
       "55          1\n",
       "94          1\n",
       "Name: num_private, Length: 65, dtype: int64"
      ]
     },
     "execution_count": 48,
     "metadata": {},
     "output_type": "execute_result"
    }
   ],
   "source": [
    "source_df.num_private.value_counts()"
   ]
  },
  {
   "cell_type": "markdown",
   "metadata": {},
   "source": [
    "Most of the values are 0. I think I could get rid of this column, because there is not enough data to be useful."
   ]
  },
  {
   "cell_type": "markdown",
   "metadata": {},
   "source": [
    "**Data cleaning:** drop this column."
   ]
  },
  {
   "cell_type": "code",
   "execution_count": 49,
   "metadata": {
    "collapsed": true
   },
   "outputs": [],
   "source": [
    "col_to_drop.append('num_private')"
   ]
  },
  {
   "cell_type": "markdown",
   "metadata": {},
   "source": [
    "## basin: geographic water basin"
   ]
  },
  {
   "cell_type": "code",
   "execution_count": 50,
   "metadata": {},
   "outputs": [
    {
     "data": {
      "text/plain": [
       "Lake Victoria              10248\n",
       "Pangani                     8940\n",
       "Rufiji                      7976\n",
       "Internal                    7785\n",
       "Lake Tanganyika             6432\n",
       "Wami / Ruvu                 5987\n",
       "Lake Nyasa                  5085\n",
       "Ruvuma / Southern Coast     4493\n",
       "Lake Rukwa                  2454\n",
       "Name: basin, dtype: int64"
      ]
     },
     "execution_count": 50,
     "metadata": {},
     "output_type": "execute_result"
    }
   ],
   "source": [
    "source_df.basin.value_counts()"
   ]
  },
  {
   "cell_type": "markdown",
   "metadata": {},
   "source": [
    "Plot the number of waterpoints for each basin and their operational status."
   ]
  },
  {
   "cell_type": "code",
   "execution_count": 51,
   "metadata": {},
   "outputs": [
    {
     "name": "stderr",
     "output_type": "stream",
     "text": [
      "/Users/tisonbertrand/anaconda3/lib/python3.6/site-packages/ipykernel_launcher.py:6: SettingWithCopyWarning: \n",
      "A value is trying to be set on a copy of a slice from a DataFrame.\n",
      "Try using .loc[row_indexer,col_indexer] = value instead\n",
      "\n",
      "See the caveats in the documentation: http://pandas.pydata.org/pandas-docs/stable/indexing.html#indexing-view-versus-copy\n",
      "  \n"
     ]
    }
   ],
   "source": [
    "basin_df = freq_dist_table(source_df,'basin')"
   ]
  },
  {
   "cell_type": "code",
   "execution_count": 52,
   "metadata": {},
   "outputs": [
    {
     "data": {
      "image/png": "[encoded data removed]",
      "text/plain": [
       "<Figure size 1080x720 with 1 Axes>"
      ]
     },
     "metadata": {},
     "output_type": "display_data"
    }
   ],
   "source": [
    "plot_distribution(basin_df)"
   ]
  },
  {
   "cell_type": "markdown",
   "metadata": {},
   "source": [
    "Calculate the chi-square test for independence. "
   ]
  },
  {
   "cell_type": "code",
   "execution_count": 53,
   "metadata": {},
   "outputs": [
    {
     "name": "stdout",
     "output_type": "stream",
     "text": [
      "chi2: 1921.034226, p_value: 0.000000\n"
     ]
    }
   ],
   "source": [
    "chi2, p, dof, expected = chi2_contingency(basin_df.values)\n",
    "print(\"chi2: {:f}, p_value: {:f}\".format(chi2,p))"
   ]
  },
  {
   "cell_type": "markdown",
   "metadata": {},
   "source": [
    "p_value is less than 0.05, so we can reject the null hypothesis.\n",
    "The operational status is related to the basin."
   ]
  },
  {
   "cell_type": "markdown",
   "metadata": {},
   "source": [
    "**Data cleaning:** change type of this column"
   ]
  },
  {
   "cell_type": "code",
   "execution_count": 54,
   "metadata": {
    "collapsed": true
   },
   "outputs": [],
   "source": [
    "clean_df.basin = source_df.basin.astype('category').cat.codes"
   ]
  },
  {
   "cell_type": "markdown",
   "metadata": {},
   "source": [
    "## subvillage"
   ]
  },
  {
   "cell_type": "code",
   "execution_count": 55,
   "metadata": {},
   "outputs": [
    {
     "data": {
      "text/plain": [
       "Madukani           508\n",
       "Shuleni            506\n",
       "Majengo            502\n",
       "Kati               373\n",
       "Mtakuja            262\n",
       "Sokoni             232\n",
       "M                  187\n",
       "Muungano           172\n",
       "Mbuyuni            164\n",
       "Mlimani            152\n",
       "Songambele         147\n",
       "Miembeni           134\n",
       "Msikitini          134\n",
       "1                  132\n",
       "Kibaoni            114\n",
       "Kanisani           111\n",
       "I                  109\n",
       "Mapinduzi          109\n",
       "Mjimwema           108\n",
       "Mjini              108\n",
       "Mkwajuni           104\n",
       "Mwenge             102\n",
       "Azimio              98\n",
       "Mabatini            98\n",
       "Mbugani             95\n",
       "Mission             95\n",
       "Bwawani             91\n",
       "Bondeni             90\n",
       "Chang'Ombe          88\n",
       "Zahanati            86\n",
       "                  ... \n",
       "Kiteo                1\n",
       "Igogolo              1\n",
       "Loomunyi             1\n",
       "Msewa                1\n",
       "Mpujini              1\n",
       "Nyamikingo           1\n",
       "Mwamalumbi           1\n",
       "Mburi 'A'            1\n",
       "Kongoro              1\n",
       "Kisagwa              1\n",
       "Mwalilo              1\n",
       "Kaza Mwendo          1\n",
       "Nkwamembi            1\n",
       "Kumutukula           1\n",
       "Mbalagane B          1\n",
       "Mwafalu              1\n",
       "Nyakaziba            1\n",
       "San`Gans             1\n",
       "Chambwa              1\n",
       "Makivaru             1\n",
       "Makoka               1\n",
       "Mwanzelwa            1\n",
       "Wiyenzele            1\n",
       "Ngaida               1\n",
       "Kawaw                1\n",
       "Kabugimbi            1\n",
       "Ijuganyondo 'B'      1\n",
       "Chivugiza            1\n",
       "Mwanindila           1\n",
       "Matende              1\n",
       "Name: subvillage, Length: 19287, dtype: int64"
      ]
     },
     "execution_count": 55,
     "metadata": {},
     "output_type": "execute_result"
    }
   ],
   "source": [
    "source_df.subvillage.value_counts().sort_index().to_csv('../Data/subvillage.csv', header=False)\n",
    "source_df.subvillage.value_counts()"
   ]
  },
  {
   "cell_type": "markdown",
   "metadata": {},
   "source": [
    "This column is very messy, with a lot of values referring only to one waterpoint. I suggest to drop this column. "
   ]
  },
  {
   "cell_type": "markdown",
   "metadata": {},
   "source": [
    "**Data cleaning:** drop this column."
   ]
  },
  {
   "cell_type": "code",
   "execution_count": 56,
   "metadata": {
    "collapsed": true
   },
   "outputs": [],
   "source": [
    "col_to_drop.append('subvillage')"
   ]
  },
  {
   "cell_type": "markdown",
   "metadata": {},
   "source": [
    "## region"
   ]
  },
  {
   "cell_type": "code",
   "execution_count": 57,
   "metadata": {
    "scrolled": false
   },
   "outputs": [
    {
     "data": {
      "text/plain": [
       "Iringa           5294\n",
       "Shinyanga        4982\n",
       "Mbeya            4639\n",
       "Kilimanjaro      4379\n",
       "Morogoro         4006\n",
       "Arusha           3350\n",
       "Kagera           3316\n",
       "Mwanza           3102\n",
       "Kigoma           2816\n",
       "Ruvuma           2640\n",
       "Pwani            2635\n",
       "Tanga            2547\n",
       "Dodoma           2201\n",
       "Singida          2093\n",
       "Mara             1969\n",
       "Tabora           1959\n",
       "Rukwa            1808\n",
       "Mtwara           1730\n",
       "Manyara          1583\n",
       "Lindi            1546\n",
       "Dar es Salaam     805\n",
       "Name: region, dtype: int64"
      ]
     },
     "execution_count": 57,
     "metadata": {},
     "output_type": "execute_result"
    }
   ],
   "source": [
    "source_df.region.value_counts()"
   ]
  },
  {
   "cell_type": "markdown",
   "metadata": {},
   "source": [
    "Plot the frequency distribution for each region."
   ]
  },
  {
   "cell_type": "code",
   "execution_count": 58,
   "metadata": {
    "scrolled": false
   },
   "outputs": [
    {
     "name": "stderr",
     "output_type": "stream",
     "text": [
      "/Users/tisonbertrand/anaconda3/lib/python3.6/site-packages/ipykernel_launcher.py:6: SettingWithCopyWarning: \n",
      "A value is trying to be set on a copy of a slice from a DataFrame.\n",
      "Try using .loc[row_indexer,col_indexer] = value instead\n",
      "\n",
      "See the caveats in the documentation: http://pandas.pydata.org/pandas-docs/stable/indexing.html#indexing-view-versus-copy\n",
      "  \n"
     ]
    }
   ],
   "source": [
    "region_df = freq_dist_table(source_df,'region')"
   ]
  },
  {
   "cell_type": "code",
   "execution_count": 59,
   "metadata": {},
   "outputs": [
    {
     "data": {
      "image/png": "[encoded data removed]",
      "text/plain": [
       "<Figure size 1080x720 with 1 Axes>"
      ]
     },
     "metadata": {},
     "output_type": "display_data"
    }
   ],
   "source": [
    "plot_distribution(region_df)"
   ]
  },
  {
   "cell_type": "markdown",
   "metadata": {},
   "source": [
    "Calculate the chi-square test for independence. "
   ]
  },
  {
   "cell_type": "code",
   "execution_count": 60,
   "metadata": {},
   "outputs": [
    {
     "name": "stdout",
     "output_type": "stream",
     "text": [
      "chi2: 4794.631126, p_value: 0.000000\n"
     ]
    }
   ],
   "source": [
    "chi2, p, dof, expected = chi2_contingency(region_df.values)\n",
    "print(\"chi2: {:f}, p_value: {:f}\".format(chi2,p))"
   ]
  },
  {
   "cell_type": "markdown",
   "metadata": {},
   "source": [
    "p_value is less than 0.05, so we can reject the null hypothesis.\n",
    "The operational status is related to the region."
   ]
  },
  {
   "cell_type": "markdown",
   "metadata": {},
   "source": [
    "**Data cleaning:** change type of this column"
   ]
  },
  {
   "cell_type": "code",
   "execution_count": 61,
   "metadata": {
    "collapsed": true
   },
   "outputs": [],
   "source": [
    "clean_df.region = source_df.region.astype('category').cat.codes"
   ]
  },
  {
   "cell_type": "markdown",
   "metadata": {},
   "source": [
    "## region_code"
   ]
  },
  {
   "cell_type": "markdown",
   "metadata": {},
   "source": [
    "Check the relation between region code and region"
   ]
  },
  {
   "cell_type": "code",
   "execution_count": 62,
   "metadata": {},
   "outputs": [
    {
     "name": "stderr",
     "output_type": "stream",
     "text": [
      "/Users/tisonbertrand/anaconda3/lib/python3.6/site-packages/ipykernel_launcher.py:2: SettingWithCopyWarning: \n",
      "A value is trying to be set on a copy of a slice from a DataFrame.\n",
      "Try using .loc[row_indexer,col_indexer] = value instead\n",
      "\n",
      "See the caveats in the documentation: http://pandas.pydata.org/pandas-docs/stable/indexing.html#indexing-view-versus-copy\n",
      "  \n"
     ]
    },
    {
     "data": {
      "text/html": [
       "<div>\n",
       "<style scoped>\n",
       "    .dataframe tbody tr th:only-of-type {\n",
       "        vertical-align: middle;\n",
       "    }\n",
       "\n",
       "    .dataframe tbody tr th {\n",
       "        vertical-align: top;\n",
       "    }\n",
       "\n",
       "    .dataframe thead th {\n",
       "        text-align: right;\n",
       "    }\n",
       "</style>\n",
       "<table border=\"1\" class=\"dataframe\">\n",
       "  <thead>\n",
       "    <tr style=\"text-align: right;\">\n",
       "      <th></th>\n",
       "      <th></th>\n",
       "      <th>count_wp</th>\n",
       "    </tr>\n",
       "    <tr>\n",
       "      <th>region</th>\n",
       "      <th>region_code</th>\n",
       "      <th></th>\n",
       "    </tr>\n",
       "  </thead>\n",
       "  <tbody>\n",
       "    <tr>\n",
       "      <th rowspan=\"2\" valign=\"top\">Arusha</th>\n",
       "      <th>2</th>\n",
       "      <td>3024</td>\n",
       "    </tr>\n",
       "    <tr>\n",
       "      <th>24</th>\n",
       "      <td>326</td>\n",
       "    </tr>\n",
       "    <tr>\n",
       "      <th>Dar es Salaam</th>\n",
       "      <th>7</th>\n",
       "      <td>805</td>\n",
       "    </tr>\n",
       "    <tr>\n",
       "      <th>Dodoma</th>\n",
       "      <th>1</th>\n",
       "      <td>2201</td>\n",
       "    </tr>\n",
       "    <tr>\n",
       "      <th>Iringa</th>\n",
       "      <th>11</th>\n",
       "      <td>5294</td>\n",
       "    </tr>\n",
       "    <tr>\n",
       "      <th>Kagera</th>\n",
       "      <th>18</th>\n",
       "      <td>3316</td>\n",
       "    </tr>\n",
       "    <tr>\n",
       "      <th>Kigoma</th>\n",
       "      <th>16</th>\n",
       "      <td>2816</td>\n",
       "    </tr>\n",
       "    <tr>\n",
       "      <th>Kilimanjaro</th>\n",
       "      <th>3</th>\n",
       "      <td>4379</td>\n",
       "    </tr>\n",
       "    <tr>\n",
       "      <th rowspan=\"3\" valign=\"top\">Lindi</th>\n",
       "      <th>8</th>\n",
       "      <td>300</td>\n",
       "    </tr>\n",
       "    <tr>\n",
       "      <th>18</th>\n",
       "      <td>8</td>\n",
       "    </tr>\n",
       "    <tr>\n",
       "      <th>80</th>\n",
       "      <td>1238</td>\n",
       "    </tr>\n",
       "    <tr>\n",
       "      <th>Manyara</th>\n",
       "      <th>21</th>\n",
       "      <td>1583</td>\n",
       "    </tr>\n",
       "    <tr>\n",
       "      <th>Mara</th>\n",
       "      <th>20</th>\n",
       "      <td>1969</td>\n",
       "    </tr>\n",
       "    <tr>\n",
       "      <th>Mbeya</th>\n",
       "      <th>12</th>\n",
       "      <td>4639</td>\n",
       "    </tr>\n",
       "    <tr>\n",
       "      <th>Morogoro</th>\n",
       "      <th>5</th>\n",
       "      <td>4006</td>\n",
       "    </tr>\n",
       "    <tr>\n",
       "      <th rowspan=\"3\" valign=\"top\">Mtwara</th>\n",
       "      <th>9</th>\n",
       "      <td>390</td>\n",
       "    </tr>\n",
       "    <tr>\n",
       "      <th>90</th>\n",
       "      <td>917</td>\n",
       "    </tr>\n",
       "    <tr>\n",
       "      <th>99</th>\n",
       "      <td>423</td>\n",
       "    </tr>\n",
       "    <tr>\n",
       "      <th rowspan=\"2\" valign=\"top\">Mwanza</th>\n",
       "      <th>17</th>\n",
       "      <td>55</td>\n",
       "    </tr>\n",
       "    <tr>\n",
       "      <th>19</th>\n",
       "      <td>3047</td>\n",
       "    </tr>\n",
       "    <tr>\n",
       "      <th rowspan=\"3\" valign=\"top\">Pwani</th>\n",
       "      <th>6</th>\n",
       "      <td>1609</td>\n",
       "    </tr>\n",
       "    <tr>\n",
       "      <th>40</th>\n",
       "      <td>1</td>\n",
       "    </tr>\n",
       "    <tr>\n",
       "      <th>60</th>\n",
       "      <td>1025</td>\n",
       "    </tr>\n",
       "    <tr>\n",
       "      <th>Rukwa</th>\n",
       "      <th>15</th>\n",
       "      <td>1808</td>\n",
       "    </tr>\n",
       "    <tr>\n",
       "      <th>Ruvuma</th>\n",
       "      <th>10</th>\n",
       "      <td>2640</td>\n",
       "    </tr>\n",
       "    <tr>\n",
       "      <th rowspan=\"3\" valign=\"top\">Shinyanga</th>\n",
       "      <th>11</th>\n",
       "      <td>6</td>\n",
       "    </tr>\n",
       "    <tr>\n",
       "      <th>14</th>\n",
       "      <td>20</td>\n",
       "    </tr>\n",
       "    <tr>\n",
       "      <th>17</th>\n",
       "      <td>4956</td>\n",
       "    </tr>\n",
       "    <tr>\n",
       "      <th>Singida</th>\n",
       "      <th>13</th>\n",
       "      <td>2093</td>\n",
       "    </tr>\n",
       "    <tr>\n",
       "      <th>Tabora</th>\n",
       "      <th>14</th>\n",
       "      <td>1959</td>\n",
       "    </tr>\n",
       "    <tr>\n",
       "      <th rowspan=\"2\" valign=\"top\">Tanga</th>\n",
       "      <th>4</th>\n",
       "      <td>2513</td>\n",
       "    </tr>\n",
       "    <tr>\n",
       "      <th>5</th>\n",
       "      <td>34</td>\n",
       "    </tr>\n",
       "  </tbody>\n",
       "</table>\n",
       "</div>"
      ],
      "text/plain": [
       "                           count_wp\n",
       "region        region_code          \n",
       "Arusha        2                3024\n",
       "              24                326\n",
       "Dar es Salaam 7                 805\n",
       "Dodoma        1                2201\n",
       "Iringa        11               5294\n",
       "Kagera        18               3316\n",
       "Kigoma        16               2816\n",
       "Kilimanjaro   3                4379\n",
       "Lindi         8                 300\n",
       "              18                  8\n",
       "              80               1238\n",
       "Manyara       21               1583\n",
       "Mara          20               1969\n",
       "Mbeya         12               4639\n",
       "Morogoro      5                4006\n",
       "Mtwara        9                 390\n",
       "              90                917\n",
       "              99                423\n",
       "Mwanza        17                 55\n",
       "              19               3047\n",
       "Pwani         6                1609\n",
       "              40                  1\n",
       "              60               1025\n",
       "Rukwa         15               1808\n",
       "Ruvuma        10               2640\n",
       "Shinyanga     11                  6\n",
       "              14                 20\n",
       "              17               4956\n",
       "Singida       13               2093\n",
       "Tabora        14               1959\n",
       "Tanga         4                2513\n",
       "              5                  34"
      ]
     },
     "execution_count": 62,
     "metadata": {},
     "output_type": "execute_result"
    }
   ],
   "source": [
    "region_df = source_df[['region','region_code']]\n",
    "region_df['count_wp'] = 1\n",
    "region_df.groupby(['region', 'region_code']).count()"
   ]
  },
  {
   "cell_type": "markdown",
   "metadata": {},
   "source": [
    "**Data cleaning: **\n",
    "Some region have several region_code, and some region_code are shared between different region.\n",
    "I will keep the region column and get rid of the region_code column, because I think it's easier to enter a wrong number than a wrong region name."
   ]
  },
  {
   "cell_type": "code",
   "execution_count": 63,
   "metadata": {
    "collapsed": true
   },
   "outputs": [],
   "source": [
    "col_to_drop.append('region_code')"
   ]
  },
  {
   "cell_type": "markdown",
   "metadata": {},
   "source": [
    "## district_code"
   ]
  },
  {
   "cell_type": "code",
   "execution_count": 64,
   "metadata": {},
   "outputs": [
    {
     "data": {
      "text/plain": [
       "1     12203\n",
       "2     11173\n",
       "3      9998\n",
       "4      8999\n",
       "5      4356\n",
       "6      4074\n",
       "7      3343\n",
       "8      1043\n",
       "30      995\n",
       "33      874\n",
       "53      745\n",
       "43      505\n",
       "13      391\n",
       "23      293\n",
       "63      195\n",
       "62      109\n",
       "60       63\n",
       "0        23\n",
       "80       12\n",
       "67        6\n",
       "Name: district_code, dtype: int64"
      ]
     },
     "execution_count": 64,
     "metadata": {},
     "output_type": "execute_result"
    }
   ],
   "source": [
    "source_df.district_code.value_counts()"
   ]
  },
  {
   "cell_type": "markdown",
   "metadata": {},
   "source": [
    "Calculate the chi-square test for independence. "
   ]
  },
  {
   "cell_type": "code",
   "execution_count": 65,
   "metadata": {
    "scrolled": true
   },
   "outputs": [
    {
     "name": "stderr",
     "output_type": "stream",
     "text": [
      "/Users/tisonbertrand/anaconda3/lib/python3.6/site-packages/ipykernel_launcher.py:6: SettingWithCopyWarning: \n",
      "A value is trying to be set on a copy of a slice from a DataFrame.\n",
      "Try using .loc[row_indexer,col_indexer] = value instead\n",
      "\n",
      "See the caveats in the documentation: http://pandas.pydata.org/pandas-docs/stable/indexing.html#indexing-view-versus-copy\n",
      "  \n"
     ]
    }
   ],
   "source": [
    "district_df = freq_dist_table(source_df,'district_code')"
   ]
  },
  {
   "cell_type": "code",
   "execution_count": 66,
   "metadata": {
    "scrolled": true
   },
   "outputs": [
    {
     "name": "stdout",
     "output_type": "stream",
     "text": [
      "chi2: 1673.521277, p_value: 0.000000\n"
     ]
    }
   ],
   "source": [
    "chi2, p, dof, expected = chi2_contingency(district_df.values)\n",
    "print(\"chi2: {:f}, p_value: {:f}\".format(chi2,p))"
   ]
  },
  {
   "cell_type": "markdown",
   "metadata": {},
   "source": [
    "p_value is less than 0.05, so we can reject the null hypothesis.\n",
    "The operational status is related to the district."
   ]
  },
  {
   "cell_type": "markdown",
   "metadata": {},
   "source": [
    "**Data cleaning: ** This is another geographical value. It's a numerical value, but it's a actually a categorical value. I will categorize it."
   ]
  },
  {
   "cell_type": "code",
   "execution_count": 67,
   "metadata": {
    "collapsed": true
   },
   "outputs": [],
   "source": [
    "clean_df.district_code = source_df.district_code.astype('category').cat.codes"
   ]
  },
  {
   "cell_type": "markdown",
   "metadata": {},
   "source": [
    "## lga: Geographic location"
   ]
  },
  {
   "cell_type": "code",
   "execution_count": 68,
   "metadata": {
    "scrolled": false
   },
   "outputs": [
    {
     "data": {
      "text/plain": [
       "Njombe              2503\n",
       "Arusha Rural        1252\n",
       "Moshi Rural         1251\n",
       "Bariadi             1177\n",
       "Rungwe              1106\n",
       "Kilosa              1094\n",
       "Kasulu              1047\n",
       "Mbozi               1034\n",
       "Meru                1009\n",
       "Bagamoyo             997\n",
       "Singida Rural        995\n",
       "Kilombero            959\n",
       "Same                 877\n",
       "Kibondo              874\n",
       "Kyela                859\n",
       "Kahama               836\n",
       "Kigoma Rural         824\n",
       "Magu                 824\n",
       "Maswa                809\n",
       "Karagwe              771\n",
       "Mbinga               750\n",
       "Iringa Rural         728\n",
       "Serengeti            716\n",
       "Namtumbo             694\n",
       "Lushoto              694\n",
       "Songea Rural         693\n",
       "Mpanda               679\n",
       "Mvomero              671\n",
       "Ngara                669\n",
       "Ulanga               665\n",
       "                    ... \n",
       "Ileje                231\n",
       "Bahi                 224\n",
       "Kisarawe             223\n",
       "Temeke               215\n",
       "Rorya                210\n",
       "Tarime               209\n",
       "Ngorongoro           201\n",
       "Kiteto               193\n",
       "Shinyanga Urban      191\n",
       "Monduli              189\n",
       "Sumbawanga Urban     180\n",
       "Singida Urban        177\n",
       "Sikonge              170\n",
       "Kilindi              161\n",
       "Nanyumbu             158\n",
       "Tabora Urban         155\n",
       "Liwale               154\n",
       "Ilemela              142\n",
       "Mafia                132\n",
       "Mtwara Urban         124\n",
       "Tanga                 99\n",
       "Morogoro Urban        96\n",
       "Kinondoni             93\n",
       "Bukoba Urban          88\n",
       "Songea Urban          80\n",
       "Moshi Urban           79\n",
       "Kigoma Urban          71\n",
       "Arusha Urban          63\n",
       "Lindi Urban           21\n",
       "Nyamagana              1\n",
       "Name: lga, Length: 125, dtype: int64"
      ]
     },
     "execution_count": 68,
     "metadata": {},
     "output_type": "execute_result"
    }
   ],
   "source": [
    "source_df.lga.value_counts()"
   ]
  },
  {
   "cell_type": "markdown",
   "metadata": {},
   "source": [
    "Calculate the chi-square test for independence. "
   ]
  },
  {
   "cell_type": "code",
   "execution_count": 69,
   "metadata": {
    "scrolled": true
   },
   "outputs": [
    {
     "name": "stderr",
     "output_type": "stream",
     "text": [
      "/Users/tisonbertrand/anaconda3/lib/python3.6/site-packages/ipykernel_launcher.py:6: SettingWithCopyWarning: \n",
      "A value is trying to be set on a copy of a slice from a DataFrame.\n",
      "Try using .loc[row_indexer,col_indexer] = value instead\n",
      "\n",
      "See the caveats in the documentation: http://pandas.pydata.org/pandas-docs/stable/indexing.html#indexing-view-versus-copy\n",
      "  \n"
     ]
    }
   ],
   "source": [
    "lga_df = freq_dist_table(source_df,'lga')"
   ]
  },
  {
   "cell_type": "code",
   "execution_count": 70,
   "metadata": {
    "scrolled": true
   },
   "outputs": [
    {
     "name": "stdout",
     "output_type": "stream",
     "text": [
      "chi2: 11529.910639, p_value: 0.000000\n"
     ]
    }
   ],
   "source": [
    "chi2, p, dof, expected = chi2_contingency(lga_df.values)\n",
    "print(\"chi2: {:f}, p_value: {:f}\".format(chi2,p))"
   ]
  },
  {
   "cell_type": "markdown",
   "metadata": {},
   "source": [
    "p_value is less than 0.05, so we can reject the null hypothesis.\n",
    "The operational status is related to the lga."
   ]
  },
  {
   "cell_type": "markdown",
   "metadata": {},
   "source": [
    "**Data cleaning:** categorize this column."
   ]
  },
  {
   "cell_type": "code",
   "execution_count": 71,
   "metadata": {
    "collapsed": true
   },
   "outputs": [],
   "source": [
    "clean_df.lga = source_df.lga.astype('category').cat.codes"
   ]
  },
  {
   "cell_type": "markdown",
   "metadata": {},
   "source": [
    "## ward: geographic location"
   ]
  },
  {
   "cell_type": "code",
   "execution_count": 72,
   "metadata": {},
   "outputs": [
    {
     "data": {
      "text/plain": [
       "Igosi               307\n",
       "Imalinyi            252\n",
       "Siha Kati           232\n",
       "Mdandu              231\n",
       "Nduruma             217\n",
       "Kitunda             203\n",
       "Mishamo             203\n",
       "Msindo              201\n",
       "Chalinze            196\n",
       "Maji ya Chai        190\n",
       "Usuka               187\n",
       "Ngarenanyuki        172\n",
       "Chanika             171\n",
       "Vikindu             162\n",
       "Mtwango             153\n",
       "Matola              145\n",
       "Zinga/Ikerege       141\n",
       "Maramba             139\n",
       "Wanging'ombe        139\n",
       "Itete               137\n",
       "Magomeni            135\n",
       "Kikatiti            134\n",
       "Ifakara             134\n",
       "Olkokola            133\n",
       "Maposeni            130\n",
       "Igongolo            129\n",
       "Mvomero             129\n",
       "Mlangali            125\n",
       "Nkoma               122\n",
       "Mahongole           121\n",
       "                   ... \n",
       "Mkumbi                1\n",
       "Matarawe              1\n",
       "Uwanja wa Ndege       1\n",
       "Ukata                 1\n",
       "Kinungu               1\n",
       "Mwanga Kaskazini      1\n",
       "Igogo                 1\n",
       "Linda                 1\n",
       "Thawi                 1\n",
       "Mawenzi               1\n",
       "Izia                  1\n",
       "Kihangimahuka         1\n",
       "Korongoni             1\n",
       "Mitole                1\n",
       "Sungwisi              1\n",
       "Burungura             1\n",
       "Themi                 1\n",
       "Nsemulwa              1\n",
       "Chinugulu             1\n",
       "Simbay                1\n",
       "Mlimani               1\n",
       "Machinjioni           1\n",
       "Kapilula              1\n",
       "Nyamtinga             1\n",
       "Uchindile             1\n",
       "Ikweha                1\n",
       "Kirongo               1\n",
       "Kitete                1\n",
       "Rasbura               1\n",
       "Ifinga                1\n",
       "Name: ward, Length: 2092, dtype: int64"
      ]
     },
     "execution_count": 72,
     "metadata": {},
     "output_type": "execute_result"
    }
   ],
   "source": [
    "source_df.ward.value_counts().sort_index().to_csv('../Data/ward.csv', header=False)\n",
    "source_df.ward.value_counts()"
   ]
  },
  {
   "cell_type": "markdown",
   "metadata": {},
   "source": [
    "**Data cleaning: **This can be used as a categorical data, but first, I need to group the less frequent values."
   ]
  },
  {
   "cell_type": "code",
   "execution_count": 73,
   "metadata": {
    "collapsed": true
   },
   "outputs": [],
   "source": [
    "def clean_ward(df,n_to_keep):\n",
    "    s = df.ward\n",
    "    s = keep_most_freq(s,n_to_keep,'other')\n",
    "    s = s.astype('category').cat.codes\n",
    "    return s"
   ]
  },
  {
   "cell_type": "code",
   "execution_count": 74,
   "metadata": {
    "collapsed": true
   },
   "outputs": [],
   "source": [
    "clean_df.ward = clean_ward(source_df,50)"
   ]
  },
  {
   "cell_type": "markdown",
   "metadata": {},
   "source": [
    "Calculate the chi-square test for independence. "
   ]
  },
  {
   "cell_type": "code",
   "execution_count": 75,
   "metadata": {
    "scrolled": false
   },
   "outputs": [
    {
     "name": "stderr",
     "output_type": "stream",
     "text": [
      "/Users/tisonbertrand/anaconda3/lib/python3.6/site-packages/ipykernel_launcher.py:6: SettingWithCopyWarning: \n",
      "A value is trying to be set on a copy of a slice from a DataFrame.\n",
      "Try using .loc[row_indexer,col_indexer] = value instead\n",
      "\n",
      "See the caveats in the documentation: http://pandas.pydata.org/pandas-docs/stable/indexing.html#indexing-view-versus-copy\n",
      "  \n"
     ]
    }
   ],
   "source": [
    "ward_df = freq_dist_table(source_df,'ward')"
   ]
  },
  {
   "cell_type": "code",
   "execution_count": 76,
   "metadata": {
    "scrolled": true
   },
   "outputs": [
    {
     "name": "stdout",
     "output_type": "stream",
     "text": [
      "chi2: 26144.961185, p_value: 0.000000\n"
     ]
    }
   ],
   "source": [
    "chi2, p, dof, expected = chi2_contingency(ward_df.values)\n",
    "print(\"chi2: {:f}, p_value: {:f}\".format(chi2,p))"
   ]
  },
  {
   "cell_type": "markdown",
   "metadata": {},
   "source": [
    "p_value is less than 0.05, so we can reject the null hypothesis.\n",
    "The operational status is related to the ward."
   ]
  },
  {
   "cell_type": "markdown",
   "metadata": {},
   "source": [
    "## population: Population around the well"
   ]
  },
  {
   "cell_type": "code",
   "execution_count": 77,
   "metadata": {},
   "outputs": [
    {
     "data": {
      "text/plain": [
       "count    59400.000000\n",
       "mean       179.909983\n",
       "std        471.482176\n",
       "min          0.000000\n",
       "25%          0.000000\n",
       "50%         25.000000\n",
       "75%        215.000000\n",
       "max      30500.000000\n",
       "Name: population, dtype: float64"
      ]
     },
     "execution_count": 77,
     "metadata": {},
     "output_type": "execute_result"
    }
   ],
   "source": [
    "source_df.population.describe()"
   ]
  },
  {
   "cell_type": "code",
   "execution_count": 78,
   "metadata": {},
   "outputs": [
    {
     "data": {
      "text/plain": [
       "0    21381\n",
       "Name: population, dtype: int64"
      ]
     },
     "execution_count": 78,
     "metadata": {},
     "output_type": "execute_result"
    }
   ],
   "source": [
    "source_df.population.value_counts().sort_index()[:1]"
   ]
  },
  {
   "cell_type": "markdown",
   "metadata": {},
   "source": [
    "There is a lot of 0 in this column, it's a lot of missing data."
   ]
  },
  {
   "cell_type": "code",
   "execution_count": 79,
   "metadata": {},
   "outputs": [
    {
     "data": {
      "text/plain": [
       "8500     1\n",
       "8600     1\n",
       "8848     1\n",
       "9000     3\n",
       "9500     1\n",
       "9865     1\n",
       "10000    3\n",
       "11463    1\n",
       "15300    1\n",
       "30500    1\n",
       "Name: population, dtype: int64"
      ]
     },
     "execution_count": 79,
     "metadata": {},
     "output_type": "execute_result"
    }
   ],
   "source": [
    "source_df.population.value_counts().sort_index()[-10:]"
   ]
  },
  {
   "cell_type": "markdown",
   "metadata": {},
   "source": [
    "The maximum value seems very large compared to the others, but it may be a big waterpoint serving a big city."
   ]
  },
  {
   "cell_type": "code",
   "execution_count": 80,
   "metadata": {
    "scrolled": false
   },
   "outputs": [
    {
     "data": {
      "image/png": "[encoded data removed]",
      "text/plain": [
       "<Figure size 576x576 with 1 Axes>"
      ]
     },
     "metadata": {},
     "output_type": "display_data"
    }
   ],
   "source": [
    "# First, remove 0 values to have a better plot\n",
    "df_in = source_df[source_df.population!=0]\n",
    "plot_num_vs_status(df_in,'population')"
   ]
  },
  {
   "cell_type": "markdown",
   "metadata": {},
   "source": [
    "I will test the independence of the functional waterpoints vs the others, and so on for the other operational status."
   ]
  },
  {
   "cell_type": "code",
   "execution_count": 81,
   "metadata": {},
   "outputs": [
    {
     "data": {
      "text/html": [
       "<div>\n",
       "<style scoped>\n",
       "    .dataframe tbody tr th:only-of-type {\n",
       "        vertical-align: middle;\n",
       "    }\n",
       "\n",
       "    .dataframe tbody tr th {\n",
       "        vertical-align: top;\n",
       "    }\n",
       "\n",
       "    .dataframe thead th {\n",
       "        text-align: right;\n",
       "    }\n",
       "</style>\n",
       "<table border=\"1\" class=\"dataframe\">\n",
       "  <thead>\n",
       "    <tr style=\"text-align: right;\">\n",
       "      <th></th>\n",
       "      <th>t_stat</th>\n",
       "      <th>p_value</th>\n",
       "    </tr>\n",
       "  </thead>\n",
       "  <tbody>\n",
       "    <tr>\n",
       "      <th>functional vs other</th>\n",
       "      <td>2.7702</td>\n",
       "      <td>0.00560495</td>\n",
       "    </tr>\n",
       "    <tr>\n",
       "      <th>functional needs repair vs other</th>\n",
       "      <td>1.50508</td>\n",
       "      <td>0.132312</td>\n",
       "    </tr>\n",
       "    <tr>\n",
       "      <th>non functional vs other</th>\n",
       "      <td>-3.61082</td>\n",
       "      <td>0.00030562</td>\n",
       "    </tr>\n",
       "  </tbody>\n",
       "</table>\n",
       "</div>"
      ],
      "text/plain": [
       "                                   t_stat     p_value\n",
       "functional vs other                2.7702  0.00560495\n",
       "functional needs repair vs other  1.50508    0.132312\n",
       "non functional vs other          -3.61082  0.00030562"
      ]
     },
     "execution_count": 81,
     "metadata": {},
     "output_type": "execute_result"
    }
   ],
   "source": [
    "result_df = ttest_independence(df_in, 'population')\n",
    "result_df"
   ]
  },
  {
   "cell_type": "markdown",
   "metadata": {},
   "source": [
    "The low p_values for functional and non functional water points shows the population for these groups is very different.\n",
    "The high p_value for functional needs repair shows the population for this group is not different from the rest of the waterpoints. It means it will be more difficult to predict this category accurately."
   ]
  },
  {
   "cell_type": "markdown",
   "metadata": {},
   "source": [
    "**Data cleaning: ** Replace 0 with the median of the values because median is less sensitive to extreme values."
   ]
  },
  {
   "cell_type": "code",
   "execution_count": 82,
   "metadata": {
    "collapsed": true
   },
   "outputs": [],
   "source": [
    "def clean_population(df):\n",
    "    pop_median = df[df.population !=0].population.median()\n",
    "    s = df.population.replace(to_replace=0,value=pop_median)\n",
    "    return s"
   ]
  },
  {
   "cell_type": "code",
   "execution_count": 83,
   "metadata": {
    "collapsed": true
   },
   "outputs": [],
   "source": [
    "clean_df.population = clean_population(source_df)"
   ]
  },
  {
   "cell_type": "code",
   "execution_count": 84,
   "metadata": {
    "collapsed": true
   },
   "outputs": [],
   "source": [
    "col_to_scale.append('population')"
   ]
  },
  {
   "cell_type": "markdown",
   "metadata": {},
   "source": [
    "## public_meeting"
   ]
  },
  {
   "cell_type": "code",
   "execution_count": 85,
   "metadata": {},
   "outputs": [
    {
     "data": {
      "text/plain": [
       "True     51011\n",
       "False     5055\n",
       "Name: public_meeting, dtype: int64"
      ]
     },
     "execution_count": 85,
     "metadata": {},
     "output_type": "execute_result"
    }
   ],
   "source": [
    "source_df.public_meeting.value_counts()"
   ]
  },
  {
   "cell_type": "code",
   "execution_count": 86,
   "metadata": {},
   "outputs": [
    {
     "data": {
      "image/png": "[encoded data removed]",
      "text/plain": [
       "<Figure size 720x360 with 2 Axes>"
      ]
     },
     "metadata": {},
     "output_type": "display_data"
    }
   ],
   "source": [
    "plot_pie(source_df,'public_meeting')"
   ]
  },
  {
   "cell_type": "markdown",
   "metadata": {},
   "source": [
    "**Data cleaning: **There are NaN values. I will replace them with False."
   ]
  },
  {
   "cell_type": "code",
   "execution_count": 87,
   "metadata": {
    "collapsed": true
   },
   "outputs": [],
   "source": [
    "def clean_public_meeting(df):\n",
    "    s = df.public_meeting.fillna(False)\n",
    "    return s"
   ]
  },
  {
   "cell_type": "code",
   "execution_count": 88,
   "metadata": {
    "collapsed": true
   },
   "outputs": [],
   "source": [
    "clean_df.public_meeting = clean_public_meeting(source_df)"
   ]
  },
  {
   "cell_type": "markdown",
   "metadata": {},
   "source": [
    "## recorded_by"
   ]
  },
  {
   "cell_type": "code",
   "execution_count": 89,
   "metadata": {},
   "outputs": [
    {
     "data": {
      "text/plain": [
       "GeoData Consultants Ltd    59400\n",
       "Name: recorded_by, dtype: int64"
      ]
     },
     "execution_count": 89,
     "metadata": {},
     "output_type": "execute_result"
    }
   ],
   "source": [
    "source_df.recorded_by.value_counts()"
   ]
  },
  {
   "cell_type": "markdown",
   "metadata": {},
   "source": [
    "**Data cleaning: **This column has only one value, so I can remove it."
   ]
  },
  {
   "cell_type": "code",
   "execution_count": 90,
   "metadata": {
    "collapsed": true
   },
   "outputs": [],
   "source": [
    "col_to_drop.append('recorded_by')"
   ]
  },
  {
   "cell_type": "markdown",
   "metadata": {},
   "source": [
    "## scheme_management: who operates the waterpoint"
   ]
  },
  {
   "cell_type": "code",
   "execution_count": 91,
   "metadata": {},
   "outputs": [
    {
     "data": {
      "text/plain": [
       "VWC                 36793\n",
       "WUG                  5206\n",
       "Water authority      3153\n",
       "WUA                  2883\n",
       "Water Board          2748\n",
       "Parastatal           1680\n",
       "Private operator     1063\n",
       "Company              1061\n",
       "Other                 766\n",
       "SWC                    97\n",
       "Trust                  72\n",
       "None                    1\n",
       "Name: scheme_management, dtype: int64"
      ]
     },
     "execution_count": 91,
     "metadata": {},
     "output_type": "execute_result"
    }
   ],
   "source": [
    "source_df.scheme_management.value_counts()"
   ]
  },
  {
   "cell_type": "markdown",
   "metadata": {},
   "source": [
    "There are NaN and None values, and this column is redundant with management, so I will drop it."
   ]
  },
  {
   "cell_type": "code",
   "execution_count": 92,
   "metadata": {
    "collapsed": true
   },
   "outputs": [],
   "source": [
    "col_to_drop.append('scheme_management')"
   ]
  },
  {
   "cell_type": "markdown",
   "metadata": {},
   "source": [
    "## scheme_name: who operates the waterpoint"
   ]
  },
  {
   "cell_type": "code",
   "execution_count": 93,
   "metadata": {},
   "outputs": [
    {
     "data": {
      "text/plain": [
       "K                                          682\n",
       "None                                       644\n",
       "Borehole                                   546\n",
       "Chalinze wate                              405\n",
       "M                                          400\n",
       "DANIDA                                     379\n",
       "Government                                 320\n",
       "Ngana water supplied scheme                270\n",
       "wanging'ombe water supply s                261\n",
       "wanging'ombe supply scheme                 234\n",
       "I                                          229\n",
       "Bagamoyo wate                              229\n",
       "Uroki-Bomang'ombe water sup                209\n",
       "N                                          204\n",
       "Kirua kahe gravity water supply trust      193\n",
       "Machumba estate pipe line                  185\n",
       "Makwale water supplied sche                166\n",
       "Kijiji                                     161\n",
       "S                                          154\n",
       "Handeni Trunk Main(H                       152\n",
       "Losaa-Kia water supply                     152\n",
       "mtwango water supply scheme                152\n",
       "Mkongoro Two                               147\n",
       "Roman                                      139\n",
       "Mkongoro One                               128\n",
       "Maambreni gravity water supply             125\n",
       "Lyamungo umbwe water supply                120\n",
       "Kirua kahe pumping water trust             113\n",
       "Ki                                         107\n",
       "Nabaiye pipe line                          107\n",
       "                                          ... \n",
       "Diocese of Geita                             1\n",
       "NYEHUNGE WATER SUPPLY                        1\n",
       "Samsria                                      1\n",
       "Mavimba                                      1\n",
       "Visiga water supplly                         1\n",
       "water supply Katungulu                       1\n",
       "Makonde Water supply                         1\n",
       "Namba 7 dam                                  1\n",
       "TM koboko water supply                       1\n",
       "Nkura kilala gravity water supply            1\n",
       "Sanya Juu service line                       1\n",
       "Namambi water supply                         1\n",
       "QUICK WINDS                                  1\n",
       "Kitangwi Water Supply                        1\n",
       "Nduguti  pipes water supply                  1\n",
       "Pande plot Water supply                      1\n",
       "BL Kisau                                     1\n",
       "Shungubweni Water Supply                     1\n",
       "Rural water supply &sanitation  program      1\n",
       "Kwaikuru water supply                        1\n",
       "Kwasenenge Group                             1\n",
       "Mzizima Water                                1\n",
       "Kakerele  water s                            1\n",
       "PIDP                                         1\n",
       "Pareni Water Supply                          1\n",
       "Kulasi water supply                          1\n",
       "BL Laktore                                   1\n",
       "Tanzania Egypt  Technical  Co-Operation      1\n",
       "Nyashimo                                     1\n",
       "World banks Water board                      1\n",
       "Name: scheme_name, Length: 2696, dtype: int64"
      ]
     },
     "execution_count": 93,
     "metadata": {},
     "output_type": "execute_result"
    }
   ],
   "source": [
    "source_df.scheme_name.value_counts().sort_index().to_csv('../Data/scheme_name.csv', header=False)\n",
    "source_df.scheme_name.value_counts()"
   ]
  },
  {
   "cell_type": "markdown",
   "metadata": {},
   "source": [
    "**Data cleaning: **This column has half of the values missing, and is very messy. I will drop it."
   ]
  },
  {
   "cell_type": "code",
   "execution_count": 94,
   "metadata": {
    "collapsed": true
   },
   "outputs": [],
   "source": [
    "col_to_drop.append('scheme_name')"
   ]
  },
  {
   "cell_type": "markdown",
   "metadata": {},
   "source": [
    "## permit: if the waterpoint is permitted"
   ]
  },
  {
   "cell_type": "code",
   "execution_count": 95,
   "metadata": {},
   "outputs": [
    {
     "data": {
      "text/plain": [
       "True     38852\n",
       "False    17492\n",
       "Name: permit, dtype: int64"
      ]
     },
     "execution_count": 95,
     "metadata": {},
     "output_type": "execute_result"
    }
   ],
   "source": [
    "source_df.permit.value_counts()"
   ]
  },
  {
   "cell_type": "code",
   "execution_count": 96,
   "metadata": {},
   "outputs": [
    {
     "data": {
      "image/png": "[encoded data removed]",
      "text/plain": [
       "<Figure size 720x360 with 2 Axes>"
      ]
     },
     "metadata": {},
     "output_type": "display_data"
    }
   ],
   "source": [
    "plot_pie(source_df,'permit')"
   ]
  },
  {
   "cell_type": "markdown",
   "metadata": {},
   "source": [
    "**Data cleaning: **I will fill the NaN values with False"
   ]
  },
  {
   "cell_type": "code",
   "execution_count": 97,
   "metadata": {
    "collapsed": true
   },
   "outputs": [],
   "source": [
    "def clean_permit(df):\n",
    "    s = df.permit.fillna(False)\n",
    "    return s"
   ]
  },
  {
   "cell_type": "code",
   "execution_count": 98,
   "metadata": {
    "collapsed": true
   },
   "outputs": [],
   "source": [
    "clean_df.permit = clean_permit(source_df)"
   ]
  },
  {
   "cell_type": "markdown",
   "metadata": {},
   "source": [
    "The proportions are very close , so I will calculate the chi-square test for independence. "
   ]
  },
  {
   "cell_type": "code",
   "execution_count": 99,
   "metadata": {
    "scrolled": false
   },
   "outputs": [
    {
     "name": "stderr",
     "output_type": "stream",
     "text": [
      "/Users/tisonbertrand/anaconda3/lib/python3.6/site-packages/ipykernel_launcher.py:6: SettingWithCopyWarning: \n",
      "A value is trying to be set on a copy of a slice from a DataFrame.\n",
      "Try using .loc[row_indexer,col_indexer] = value instead\n",
      "\n",
      "See the caveats in the documentation: http://pandas.pydata.org/pandas-docs/stable/indexing.html#indexing-view-versus-copy\n",
      "  \n"
     ]
    }
   ],
   "source": [
    "permit_df = freq_dist_table(source_df,'permit')"
   ]
  },
  {
   "cell_type": "code",
   "execution_count": 100,
   "metadata": {
    "scrolled": true
   },
   "outputs": [
    {
     "name": "stdout",
     "output_type": "stream",
     "text": [
      "chi2: 67.790141, p_value: 0.000000\n"
     ]
    }
   ],
   "source": [
    "chi2, p, dof, expected = chi2_contingency(permit_df.values)\n",
    "print(\"chi2: {:f}, p_value: {:f}\".format(chi2,p))"
   ]
  },
  {
   "cell_type": "markdown",
   "metadata": {},
   "source": [
    "p_value is less than 0.05, so we can reject the null hypothesis.\n",
    "Permit and operational status are related."
   ]
  },
  {
   "cell_type": "markdown",
   "metadata": {},
   "source": [
    "## construction_year"
   ]
  },
  {
   "cell_type": "code",
   "execution_count": 101,
   "metadata": {
    "scrolled": true
   },
   "outputs": [
    {
     "data": {
      "text/plain": [
       "count    59400.000000\n",
       "mean      1300.652475\n",
       "std        951.620547\n",
       "min          0.000000\n",
       "25%          0.000000\n",
       "50%       1986.000000\n",
       "75%       2004.000000\n",
       "max       2013.000000\n",
       "Name: construction_year, dtype: float64"
      ]
     },
     "execution_count": 101,
     "metadata": {},
     "output_type": "execute_result"
    }
   ],
   "source": [
    "source_df.construction_year.describe()"
   ]
  },
  {
   "cell_type": "code",
   "execution_count": 102,
   "metadata": {},
   "outputs": [
    {
     "data": {
      "text/plain": [
       "0    20709\n",
       "Name: construction_year, dtype: int64"
      ]
     },
     "execution_count": 102,
     "metadata": {},
     "output_type": "execute_result"
    }
   ],
   "source": [
    "source_df.construction_year.value_counts()[:1]"
   ]
  },
  {
   "cell_type": "markdown",
   "metadata": {},
   "source": [
    "**Data cleaning: **There is a lot of missing data in this column. I will replace the 0 with the mean"
   ]
  },
  {
   "cell_type": "code",
   "execution_count": 103,
   "metadata": {
    "collapsed": true
   },
   "outputs": [],
   "source": [
    "def clean_construction_year(df):\n",
    "    year_mean = df[df.construction_year !=0].construction_year.mean()\n",
    "    print('Year mean = ',year_mean)\n",
    "    s = df.construction_year.replace(to_replace=0,value=year_mean)\n",
    "    return s"
   ]
  },
  {
   "cell_type": "code",
   "execution_count": 104,
   "metadata": {},
   "outputs": [
    {
     "name": "stdout",
     "output_type": "stream",
     "text": [
      "Year mean =  1996.8146855857951\n"
     ]
    }
   ],
   "source": [
    "clean_df.construction_year = clean_construction_year(source_df)"
   ]
  },
  {
   "cell_type": "code",
   "execution_count": 105,
   "metadata": {
    "collapsed": true
   },
   "outputs": [],
   "source": [
    "col_to_scale.append('construction_year')"
   ]
  },
  {
   "cell_type": "markdown",
   "metadata": {},
   "source": [
    "Plot the frequency distribution for each construction_year"
   ]
  },
  {
   "cell_type": "code",
   "execution_count": 106,
   "metadata": {
    "scrolled": false
   },
   "outputs": [
    {
     "name": "stderr",
     "output_type": "stream",
     "text": [
      "/Users/tisonbertrand/anaconda3/lib/python3.6/site-packages/ipykernel_launcher.py:6: SettingWithCopyWarning: \n",
      "A value is trying to be set on a copy of a slice from a DataFrame.\n",
      "Try using .loc[row_indexer,col_indexer] = value instead\n",
      "\n",
      "See the caveats in the documentation: http://pandas.pydata.org/pandas-docs/stable/indexing.html#indexing-view-versus-copy\n",
      "  \n"
     ]
    }
   ],
   "source": [
    "# Remove 0 values to have a better plot\n",
    "plot_df = source_df[source_df.construction_year != 0]\n",
    "construction_year_df = freq_dist_table(plot_df,'construction_year')"
   ]
  },
  {
   "cell_type": "code",
   "execution_count": 107,
   "metadata": {},
   "outputs": [
    {
     "data": {
      "image/png": "[encoded data removed]",
      "text/plain": [
       "<Figure size 1080x720 with 1 Axes>"
      ]
     },
     "metadata": {},
     "output_type": "display_data"
    }
   ],
   "source": [
    "plot_distribution(construction_year_df)"
   ]
  },
  {
   "cell_type": "markdown",
   "metadata": {},
   "source": [
    "It seems older waterpoints are more likely to be non functional."
   ]
  },
  {
   "cell_type": "markdown",
   "metadata": {},
   "source": [
    "I will test the independence of the functional waterpoints vs the others, and so on for the other operational status."
   ]
  },
  {
   "cell_type": "code",
   "execution_count": 108,
   "metadata": {},
   "outputs": [
    {
     "data": {
      "text/html": [
       "<div>\n",
       "<style scoped>\n",
       "    .dataframe tbody tr th:only-of-type {\n",
       "        vertical-align: middle;\n",
       "    }\n",
       "\n",
       "    .dataframe tbody tr th {\n",
       "        vertical-align: top;\n",
       "    }\n",
       "\n",
       "    .dataframe thead th {\n",
       "        text-align: right;\n",
       "    }\n",
       "</style>\n",
       "<table border=\"1\" class=\"dataframe\">\n",
       "  <thead>\n",
       "    <tr style=\"text-align: right;\">\n",
       "      <th></th>\n",
       "      <th>t_stat</th>\n",
       "      <th>p_value</th>\n",
       "    </tr>\n",
       "  </thead>\n",
       "  <tbody>\n",
       "    <tr>\n",
       "      <th>functional vs other</th>\n",
       "      <td>58.0668</td>\n",
       "      <td>0</td>\n",
       "    </tr>\n",
       "    <tr>\n",
       "      <th>functional needs repair vs other</th>\n",
       "      <td>-6.49502</td>\n",
       "      <td>8.40291e-11</td>\n",
       "    </tr>\n",
       "    <tr>\n",
       "      <th>non functional vs other</th>\n",
       "      <td>-55.9463</td>\n",
       "      <td>0</td>\n",
       "    </tr>\n",
       "  </tbody>\n",
       "</table>\n",
       "</div>"
      ],
      "text/plain": [
       "                                   t_stat      p_value\n",
       "functional vs other               58.0668            0\n",
       "functional needs repair vs other -6.49502  8.40291e-11\n",
       "non functional vs other          -55.9463            0"
      ]
     },
     "execution_count": 108,
     "metadata": {},
     "output_type": "execute_result"
    }
   ],
   "source": [
    "# First, remove 0 values\n",
    "df_in = source_df[source_df.construction_year!=0]\n",
    "result_df = ttest_independence(df_in, 'construction_year')\n",
    "result_df"
   ]
  },
  {
   "cell_type": "markdown",
   "metadata": {},
   "source": [
    "The low p_values show the construction year for these groups is very different.\n",
    "This feature will be useful to predict the operational status."
   ]
  },
  {
   "cell_type": "markdown",
   "metadata": {},
   "source": [
    "## extraction_type, extraction_type_group, extraction_type_class"
   ]
  },
  {
   "cell_type": "code",
   "execution_count": 109,
   "metadata": {},
   "outputs": [
    {
     "data": {
      "text/plain": [
       "gravity                      26780\n",
       "nira/tanira                   8154\n",
       "other                         6430\n",
       "submersible                   4764\n",
       "swn 80                        3670\n",
       "mono                          2865\n",
       "india mark ii                 2400\n",
       "afridev                       1770\n",
       "ksb                           1415\n",
       "other - rope pump              451\n",
       "other - swn 81                 229\n",
       "windmill                       117\n",
       "india mark iii                  98\n",
       "cemo                            90\n",
       "other - play pump               85\n",
       "walimi                          48\n",
       "climax                          32\n",
       "other - mkulima/shinyanga        2\n",
       "Name: extraction_type, dtype: int64"
      ]
     },
     "execution_count": 109,
     "metadata": {},
     "output_type": "execute_result"
    }
   ],
   "source": [
    "source_df.extraction_type.value_counts()"
   ]
  },
  {
   "cell_type": "code",
   "execution_count": 110,
   "metadata": {},
   "outputs": [
    {
     "data": {
      "text/plain": [
       "gravity            26780\n",
       "nira/tanira         8154\n",
       "other               6430\n",
       "submersible         6179\n",
       "swn 80              3670\n",
       "mono                2865\n",
       "india mark ii       2400\n",
       "afridev             1770\n",
       "rope pump            451\n",
       "other handpump       364\n",
       "other motorpump      122\n",
       "wind-powered         117\n",
       "india mark iii        98\n",
       "Name: extraction_type_group, dtype: int64"
      ]
     },
     "execution_count": 110,
     "metadata": {},
     "output_type": "execute_result"
    }
   ],
   "source": [
    "source_df.extraction_type_group.value_counts()"
   ]
  },
  {
   "cell_type": "code",
   "execution_count": 111,
   "metadata": {},
   "outputs": [
    {
     "data": {
      "text/plain": [
       "gravity         26780\n",
       "handpump        16456\n",
       "other            6430\n",
       "submersible      6179\n",
       "motorpump        2987\n",
       "rope pump         451\n",
       "wind-powered      117\n",
       "Name: extraction_type_class, dtype: int64"
      ]
     },
     "execution_count": 111,
     "metadata": {},
     "output_type": "execute_result"
    }
   ],
   "source": [
    "source_df.extraction_type_class.value_counts()"
   ]
  },
  {
   "cell_type": "markdown",
   "metadata": {},
   "source": [
    "**Data cleaning: **These are categorical values. They are subgroups of one another, so they are redundant. I will keep the extraction_type_class, categorize it, and drop the other columns."
   ]
  },
  {
   "cell_type": "code",
   "execution_count": 112,
   "metadata": {
    "collapsed": true
   },
   "outputs": [],
   "source": [
    "col_to_drop.append('extraction_type_group')\n",
    "col_to_drop.append('extraction_type')\n",
    "clean_df.extraction_type_class = source_df.extraction_type_class.astype('category').cat.codes"
   ]
  },
  {
   "cell_type": "code",
   "execution_count": 113,
   "metadata": {
    "scrolled": true
   },
   "outputs": [
    {
     "name": "stderr",
     "output_type": "stream",
     "text": [
      "/Users/tisonbertrand/anaconda3/lib/python3.6/site-packages/ipykernel_launcher.py:6: SettingWithCopyWarning: \n",
      "A value is trying to be set on a copy of a slice from a DataFrame.\n",
      "Try using .loc[row_indexer,col_indexer] = value instead\n",
      "\n",
      "See the caveats in the documentation: http://pandas.pydata.org/pandas-docs/stable/indexing.html#indexing-view-versus-copy\n",
      "  \n"
     ]
    }
   ],
   "source": [
    "extraction_type_class_df = freq_dist_table(source_df,'extraction_type_class')"
   ]
  },
  {
   "cell_type": "code",
   "execution_count": 114,
   "metadata": {
    "scrolled": false
   },
   "outputs": [
    {
     "data": {
      "image/png": "[encoded data removed]",
      "text/plain": [
       "<Figure size 1080x720 with 1 Axes>"
      ]
     },
     "metadata": {},
     "output_type": "display_data"
    }
   ],
   "source": [
    "plot_distribution(extraction_type_class_df)"
   ]
  },
  {
   "cell_type": "markdown",
   "metadata": {},
   "source": [
    "Calculate the chi-square test for independence. "
   ]
  },
  {
   "cell_type": "code",
   "execution_count": 115,
   "metadata": {},
   "outputs": [
    {
     "name": "stdout",
     "output_type": "stream",
     "text": [
      "chi2: 6931.201641, p_value: 0.000000\n"
     ]
    }
   ],
   "source": [
    "chi2, p, dof, expected = chi2_contingency(extraction_type_class_df.values)\n",
    "print(\"chi2: {:f}, p_value: {:f}\".format(chi2,p))"
   ]
  },
  {
   "cell_type": "markdown",
   "metadata": {},
   "source": [
    "p_value is less than 0.05, so we can reject the null hypothesis.\n",
    "The operational status and the extraction type class are related."
   ]
  },
  {
   "cell_type": "markdown",
   "metadata": {},
   "source": [
    "## management, management_group"
   ]
  },
  {
   "cell_type": "code",
   "execution_count": 116,
   "metadata": {},
   "outputs": [
    {
     "data": {
      "text/plain": [
       "vwc                 40507\n",
       "wug                  6515\n",
       "water board          2933\n",
       "wua                  2535\n",
       "private operator     1971\n",
       "parastatal           1768\n",
       "water authority       904\n",
       "other                 844\n",
       "company               685\n",
       "unknown               561\n",
       "other - school         99\n",
       "trust                  78\n",
       "Name: management, dtype: int64"
      ]
     },
     "execution_count": 116,
     "metadata": {},
     "output_type": "execute_result"
    }
   ],
   "source": [
    "source_df.management.value_counts()"
   ]
  },
  {
   "cell_type": "code",
   "execution_count": 117,
   "metadata": {},
   "outputs": [
    {
     "data": {
      "text/plain": [
       "user-group    52490\n",
       "commercial     3638\n",
       "parastatal     1768\n",
       "other           943\n",
       "unknown         561\n",
       "Name: management_group, dtype: int64"
      ]
     },
     "execution_count": 117,
     "metadata": {},
     "output_type": "execute_result"
    }
   ],
   "source": [
    "source_df.management_group.value_counts()"
   ]
  },
  {
   "cell_type": "markdown",
   "metadata": {},
   "source": [
    "**Data cleaning: **These are categorical values. One is the sub group of the other, so they are redundant. I will keep the management, group 'unknown' and 'other', categorize, and drop the management_group.\n",
    "Group categories unknown and other."
   ]
  },
  {
   "cell_type": "code",
   "execution_count": 118,
   "metadata": {
    "collapsed": true
   },
   "outputs": [],
   "source": [
    "def clean_management(df):\n",
    "    s = df.management.replace(to_replace='unknown',value='other')\n",
    "    s = s.astype('category').cat.codes\n",
    "    return s"
   ]
  },
  {
   "cell_type": "code",
   "execution_count": 119,
   "metadata": {
    "collapsed": true
   },
   "outputs": [],
   "source": [
    "col_to_drop.append('management_group')\n",
    "clean_df.management = clean_management(source_df)"
   ]
  },
  {
   "cell_type": "code",
   "execution_count": 120,
   "metadata": {
    "scrolled": true
   },
   "outputs": [
    {
     "name": "stderr",
     "output_type": "stream",
     "text": [
      "/Users/tisonbertrand/anaconda3/lib/python3.6/site-packages/ipykernel_launcher.py:6: SettingWithCopyWarning: \n",
      "A value is trying to be set on a copy of a slice from a DataFrame.\n",
      "Try using .loc[row_indexer,col_indexer] = value instead\n",
      "\n",
      "See the caveats in the documentation: http://pandas.pydata.org/pandas-docs/stable/indexing.html#indexing-view-versus-copy\n",
      "  \n"
     ]
    }
   ],
   "source": [
    "management_df = freq_dist_table(source_df,'management')"
   ]
  },
  {
   "cell_type": "code",
   "execution_count": 121,
   "metadata": {
    "scrolled": false
   },
   "outputs": [
    {
     "data": {
      "image/png": "[encoded data removed]",
      "text/plain": [
       "<Figure size 1080x720 with 1 Axes>"
      ]
     },
     "metadata": {},
     "output_type": "display_data"
    }
   ],
   "source": [
    "plot_distribution(management_df)"
   ]
  },
  {
   "cell_type": "markdown",
   "metadata": {},
   "source": [
    "Calculate the chi-square test for independence. "
   ]
  },
  {
   "cell_type": "code",
   "execution_count": 122,
   "metadata": {},
   "outputs": [
    {
     "name": "stdout",
     "output_type": "stream",
     "text": [
      "chi2: 2081.126398, p_value: 0.000000\n"
     ]
    }
   ],
   "source": [
    "chi2, p, dof, expected = chi2_contingency(management_df.values)\n",
    "print(\"chi2: {:f}, p_value: {:f}\".format(chi2,p))"
   ]
  },
  {
   "cell_type": "markdown",
   "metadata": {},
   "source": [
    "p_value is less than 0.05, so we can reject the null hypothesis.\n",
    "The operational status and the management are related."
   ]
  },
  {
   "cell_type": "markdown",
   "metadata": {},
   "source": [
    "## payment, payment_type"
   ]
  },
  {
   "cell_type": "code",
   "execution_count": 123,
   "metadata": {},
   "outputs": [
    {
     "data": {
      "text/plain": [
       "never pay                25348\n",
       "pay per bucket            8985\n",
       "pay monthly               8300\n",
       "unknown                   8157\n",
       "pay when scheme fails     3914\n",
       "pay annually              3642\n",
       "other                     1054\n",
       "Name: payment, dtype: int64"
      ]
     },
     "execution_count": 123,
     "metadata": {},
     "output_type": "execute_result"
    }
   ],
   "source": [
    "source_df.payment.value_counts()"
   ]
  },
  {
   "cell_type": "code",
   "execution_count": 124,
   "metadata": {},
   "outputs": [
    {
     "data": {
      "text/plain": [
       "never pay     25348\n",
       "per bucket     8985\n",
       "monthly        8300\n",
       "unknown        8157\n",
       "on failure     3914\n",
       "annually       3642\n",
       "other          1054\n",
       "Name: payment_type, dtype: int64"
      ]
     },
     "execution_count": 124,
     "metadata": {},
     "output_type": "execute_result"
    }
   ],
   "source": [
    "source_df.payment_type.value_counts()"
   ]
  },
  {
   "cell_type": "markdown",
   "metadata": {},
   "source": [
    "**Data cleaning: **These columns are identical, I can drop one of them. Group unknown and other values."
   ]
  },
  {
   "cell_type": "code",
   "execution_count": 125,
   "metadata": {
    "collapsed": true
   },
   "outputs": [],
   "source": [
    "def clean_payment(df):\n",
    "    s = df.payment.replace(to_replace='unknown', value='other')\n",
    "    s = s.astype('category').cat.codes\n",
    "    return s"
   ]
  },
  {
   "cell_type": "code",
   "execution_count": 126,
   "metadata": {
    "collapsed": true
   },
   "outputs": [],
   "source": [
    "col_to_drop.append('payment_type')\n",
    "clean_df.payment = clean_payment(source_df)"
   ]
  },
  {
   "cell_type": "code",
   "execution_count": 127,
   "metadata": {
    "scrolled": true
   },
   "outputs": [
    {
     "name": "stderr",
     "output_type": "stream",
     "text": [
      "/Users/tisonbertrand/anaconda3/lib/python3.6/site-packages/ipykernel_launcher.py:6: SettingWithCopyWarning: \n",
      "A value is trying to be set on a copy of a slice from a DataFrame.\n",
      "Try using .loc[row_indexer,col_indexer] = value instead\n",
      "\n",
      "See the caveats in the documentation: http://pandas.pydata.org/pandas-docs/stable/indexing.html#indexing-view-versus-copy\n",
      "  \n"
     ]
    }
   ],
   "source": [
    "payment_df = freq_dist_table(source_df,'payment')"
   ]
  },
  {
   "cell_type": "code",
   "execution_count": 128,
   "metadata": {
    "scrolled": false
   },
   "outputs": [
    {
     "data": {
      "image/png": "[encoded data removed]",
      "text/plain": [
       "<Figure size 1080x720 with 1 Axes>"
      ]
     },
     "metadata": {},
     "output_type": "display_data"
    }
   ],
   "source": [
    "plot_distribution(payment_df)"
   ]
  },
  {
   "cell_type": "markdown",
   "metadata": {},
   "source": [
    "It seems that when there is payment for the water (either periodically, per bucket or on failure) the waterpoint is more likely to be functional."
   ]
  },
  {
   "cell_type": "markdown",
   "metadata": {},
   "source": [
    "Calculate the chi-square test for independence. "
   ]
  },
  {
   "cell_type": "code",
   "execution_count": 129,
   "metadata": {},
   "outputs": [
    {
     "name": "stdout",
     "output_type": "stream",
     "text": [
      "chi2: 3965.619404, p_value: 0.000000\n"
     ]
    }
   ],
   "source": [
    "chi2, p, dof, expected = chi2_contingency(payment_df.values)\n",
    "print(\"chi2: {:f}, p_value: {:f}\".format(chi2,p))"
   ]
  },
  {
   "cell_type": "markdown",
   "metadata": {},
   "source": [
    "p_value is less than 0.05, so we can reject the null hypothesis.\n",
    "The operational status is related to the payment."
   ]
  },
  {
   "cell_type": "markdown",
   "metadata": {},
   "source": [
    "## water_quality, quality_group"
   ]
  },
  {
   "cell_type": "code",
   "execution_count": 130,
   "metadata": {},
   "outputs": [
    {
     "data": {
      "text/plain": [
       "soft                  50818\n",
       "salty                  4856\n",
       "unknown                1876\n",
       "milky                   804\n",
       "coloured                490\n",
       "salty abandoned         339\n",
       "fluoride                200\n",
       "fluoride abandoned       17\n",
       "Name: water_quality, dtype: int64"
      ]
     },
     "execution_count": 130,
     "metadata": {},
     "output_type": "execute_result"
    }
   ],
   "source": [
    "source_df.water_quality.value_counts()"
   ]
  },
  {
   "cell_type": "code",
   "execution_count": 131,
   "metadata": {},
   "outputs": [
    {
     "data": {
      "text/plain": [
       "good        50818\n",
       "salty        5195\n",
       "unknown      1876\n",
       "milky         804\n",
       "colored       490\n",
       "fluoride      217\n",
       "Name: quality_group, dtype: int64"
      ]
     },
     "execution_count": 131,
     "metadata": {},
     "output_type": "execute_result"
    }
   ],
   "source": [
    "source_df.quality_group.value_counts()"
   ]
  },
  {
   "cell_type": "markdown",
   "metadata": {},
   "source": [
    "**Data cleaning: **These are categorical values. One is the sub group of the other, so they are redundant.I will keep the quality_group, categorize it, and drop the water_quality."
   ]
  },
  {
   "cell_type": "code",
   "execution_count": 132,
   "metadata": {
    "collapsed": true
   },
   "outputs": [],
   "source": [
    "col_to_drop.append('water_quality')\n",
    "quality_group_type = pd.CategoricalDtype(categories=['unknown','fluoride','salty','colored',\n",
    "                                                     'milky','good'], ordered=True)\n",
    "clean_df.quality_group = source_df.quality_group.astype(quality_group_type).cat.codes"
   ]
  },
  {
   "cell_type": "code",
   "execution_count": 133,
   "metadata": {
    "scrolled": true
   },
   "outputs": [
    {
     "name": "stderr",
     "output_type": "stream",
     "text": [
      "/Users/tisonbertrand/anaconda3/lib/python3.6/site-packages/ipykernel_launcher.py:6: SettingWithCopyWarning: \n",
      "A value is trying to be set on a copy of a slice from a DataFrame.\n",
      "Try using .loc[row_indexer,col_indexer] = value instead\n",
      "\n",
      "See the caveats in the documentation: http://pandas.pydata.org/pandas-docs/stable/indexing.html#indexing-view-versus-copy\n",
      "  \n"
     ]
    }
   ],
   "source": [
    "quality_group_df = freq_dist_table(source_df,'quality_group')"
   ]
  },
  {
   "cell_type": "code",
   "execution_count": 134,
   "metadata": {
    "scrolled": false
   },
   "outputs": [
    {
     "data": {
      "image/png": "[encoded data removed]",
      "text/plain": [
       "<Figure size 1080x720 with 1 Axes>"
      ]
     },
     "metadata": {},
     "output_type": "display_data"
    }
   ],
   "source": [
    "plot_distribution(quality_group_df)"
   ]
  },
  {
   "cell_type": "markdown",
   "metadata": {},
   "source": [
    "Calculate the chi-square test for independence. "
   ]
  },
  {
   "cell_type": "code",
   "execution_count": 135,
   "metadata": {},
   "outputs": [
    {
     "name": "stdout",
     "output_type": "stream",
     "text": [
      "chi2: 2100.136588, p_value: 0.000000\n"
     ]
    }
   ],
   "source": [
    "chi2, p, dof, expected = chi2_contingency(quality_group_df.values)\n",
    "print(\"chi2: {:f}, p_value: {:f}\".format(chi2,p))"
   ]
  },
  {
   "cell_type": "markdown",
   "metadata": {},
   "source": [
    "p_value is less than 0.05, so we can reject the null hypothesis.\n",
    "The operational status is related to the water quality group."
   ]
  },
  {
   "cell_type": "markdown",
   "metadata": {},
   "source": [
    "## quantity, quantity_group"
   ]
  },
  {
   "cell_type": "code",
   "execution_count": 136,
   "metadata": {},
   "outputs": [
    {
     "data": {
      "text/plain": [
       "enough          33186\n",
       "insufficient    15129\n",
       "dry              6246\n",
       "seasonal         4050\n",
       "unknown           789\n",
       "Name: quantity, dtype: int64"
      ]
     },
     "execution_count": 136,
     "metadata": {},
     "output_type": "execute_result"
    }
   ],
   "source": [
    "source_df.quantity.value_counts()"
   ]
  },
  {
   "cell_type": "code",
   "execution_count": 137,
   "metadata": {},
   "outputs": [
    {
     "data": {
      "text/plain": [
       "enough          33186\n",
       "insufficient    15129\n",
       "dry              6246\n",
       "seasonal         4050\n",
       "unknown           789\n",
       "Name: quantity_group, dtype: int64"
      ]
     },
     "execution_count": 137,
     "metadata": {},
     "output_type": "execute_result"
    }
   ],
   "source": [
    "source_df.quantity_group.value_counts()"
   ]
  },
  {
   "cell_type": "markdown",
   "metadata": {},
   "source": [
    "**Data cleaning: **These columns are identical, I can drop one of them."
   ]
  },
  {
   "cell_type": "code",
   "execution_count": 138,
   "metadata": {
    "collapsed": true
   },
   "outputs": [],
   "source": [
    "col_to_drop.append('quantity_group')\n",
    "quantity_type = pd.CategoricalDtype(categories=['unknown','dry','insufficient','seasonal',\n",
    "                                                'enough'], ordered=True)\n",
    "clean_df.quantity = source_df.quantity.astype(quantity_type).cat.codes"
   ]
  },
  {
   "cell_type": "code",
   "execution_count": 139,
   "metadata": {
    "scrolled": true
   },
   "outputs": [
    {
     "name": "stderr",
     "output_type": "stream",
     "text": [
      "/Users/tisonbertrand/anaconda3/lib/python3.6/site-packages/ipykernel_launcher.py:6: SettingWithCopyWarning: \n",
      "A value is trying to be set on a copy of a slice from a DataFrame.\n",
      "Try using .loc[row_indexer,col_indexer] = value instead\n",
      "\n",
      "See the caveats in the documentation: http://pandas.pydata.org/pandas-docs/stable/indexing.html#indexing-view-versus-copy\n",
      "  \n"
     ]
    }
   ],
   "source": [
    "quantity_df = freq_dist_table(source_df,'quantity')"
   ]
  },
  {
   "cell_type": "code",
   "execution_count": 140,
   "metadata": {
    "scrolled": false
   },
   "outputs": [
    {
     "data": {
      "image/png": "[encoded data removed]",
      "text/plain": [
       "<Figure size 1080x720 with 1 Axes>"
      ]
     },
     "metadata": {},
     "output_type": "display_data"
    }
   ],
   "source": [
    "plot_distribution(quantity_df)"
   ]
  },
  {
   "cell_type": "markdown",
   "metadata": {},
   "source": [
    "Unsurprisingly, the waterpoint is much more likely to be non functional when the quantity is dry."
   ]
  },
  {
   "cell_type": "markdown",
   "metadata": {},
   "source": [
    "Calculate the chi-square test for independence. "
   ]
  },
  {
   "cell_type": "code",
   "execution_count": 141,
   "metadata": {},
   "outputs": [
    {
     "name": "stdout",
     "output_type": "stream",
     "text": [
      "chi2: 11360.767896, p_value: 0.000000\n"
     ]
    }
   ],
   "source": [
    "chi2, p, dof, expected = chi2_contingency(quantity_df.values)\n",
    "print(\"chi2: {:f}, p_value: {:f}\".format(chi2,p))"
   ]
  },
  {
   "cell_type": "markdown",
   "metadata": {},
   "source": [
    "p_value is less than 0.05, so we can reject the null hypothesis.\n",
    "The operational status is related to the water quantity group."
   ]
  },
  {
   "cell_type": "markdown",
   "metadata": {},
   "source": [
    "## source, source_type, source_class"
   ]
  },
  {
   "cell_type": "code",
   "execution_count": 142,
   "metadata": {},
   "outputs": [
    {
     "data": {
      "text/plain": [
       "spring                  17021\n",
       "shallow well            16824\n",
       "machine dbh             11075\n",
       "river                    9612\n",
       "rainwater harvesting     2295\n",
       "hand dtw                  874\n",
       "lake                      765\n",
       "dam                       656\n",
       "other                     212\n",
       "unknown                    66\n",
       "Name: source, dtype: int64"
      ]
     },
     "execution_count": 142,
     "metadata": {},
     "output_type": "execute_result"
    }
   ],
   "source": [
    "source_df.source.value_counts()"
   ]
  },
  {
   "cell_type": "code",
   "execution_count": 143,
   "metadata": {},
   "outputs": [
    {
     "data": {
      "text/plain": [
       "spring                  17021\n",
       "shallow well            16824\n",
       "borehole                11949\n",
       "river/lake              10377\n",
       "rainwater harvesting     2295\n",
       "dam                       656\n",
       "other                     278\n",
       "Name: source_type, dtype: int64"
      ]
     },
     "execution_count": 143,
     "metadata": {},
     "output_type": "execute_result"
    }
   ],
   "source": [
    "source_df.source_type.value_counts()"
   ]
  },
  {
   "cell_type": "code",
   "execution_count": 144,
   "metadata": {},
   "outputs": [
    {
     "data": {
      "text/plain": [
       "groundwater    45794\n",
       "surface        13328\n",
       "unknown          278\n",
       "Name: source_class, dtype: int64"
      ]
     },
     "execution_count": 144,
     "metadata": {},
     "output_type": "execute_result"
    }
   ],
   "source": [
    "source_df.source_class.value_counts()"
   ]
  },
  {
   "cell_type": "markdown",
   "metadata": {},
   "source": [
    "**Data cleaning: **These are categorical values. They are subgroups of one another, so they are redundant. I will keep source_type, categorize it and drop the other columns."
   ]
  },
  {
   "cell_type": "code",
   "execution_count": 145,
   "metadata": {
    "collapsed": true
   },
   "outputs": [],
   "source": [
    "col_to_drop.append('source')\n",
    "col_to_drop.append('source_class')\n",
    "clean_df.source_type = source_df.source_type.astype('category').cat.codes"
   ]
  },
  {
   "cell_type": "code",
   "execution_count": 146,
   "metadata": {
    "scrolled": true
   },
   "outputs": [
    {
     "name": "stderr",
     "output_type": "stream",
     "text": [
      "/Users/tisonbertrand/anaconda3/lib/python3.6/site-packages/ipykernel_launcher.py:6: SettingWithCopyWarning: \n",
      "A value is trying to be set on a copy of a slice from a DataFrame.\n",
      "Try using .loc[row_indexer,col_indexer] = value instead\n",
      "\n",
      "See the caveats in the documentation: http://pandas.pydata.org/pandas-docs/stable/indexing.html#indexing-view-versus-copy\n",
      "  \n"
     ]
    }
   ],
   "source": [
    "source_type_df = freq_dist_table(source_df,'source_type')"
   ]
  },
  {
   "cell_type": "code",
   "execution_count": 147,
   "metadata": {
    "scrolled": false
   },
   "outputs": [
    {
     "data": {
      "image/png": "[encoded data removed]",
      "text/plain": [
       "<Figure size 1080x720 with 1 Axes>"
      ]
     },
     "metadata": {},
     "output_type": "display_data"
    }
   ],
   "source": [
    "plot_distribution(source_type_df)"
   ]
  },
  {
   "cell_type": "markdown",
   "metadata": {},
   "source": [
    "Shallow wells and boreholes are more likely to be non functional."
   ]
  },
  {
   "cell_type": "markdown",
   "metadata": {},
   "source": [
    "Calculate the chi-square test for independence. "
   ]
  },
  {
   "cell_type": "code",
   "execution_count": 148,
   "metadata": {},
   "outputs": [
    {
     "name": "stdout",
     "output_type": "stream",
     "text": [
      "chi2: 1906.797414, p_value: 0.000000\n"
     ]
    }
   ],
   "source": [
    "chi2, p, dof, expected = chi2_contingency(source_type_df.values)\n",
    "print(\"chi2: {:f}, p_value: {:f}\".format(chi2,p))"
   ]
  },
  {
   "cell_type": "markdown",
   "metadata": {},
   "source": [
    "p_value is less than 0.05, so we can reject the null hypothesis.\n",
    "The chi-square shows relation with the operational status."
   ]
  },
  {
   "cell_type": "markdown",
   "metadata": {},
   "source": [
    "## waterpoint_type, waterpoint_type_group"
   ]
  },
  {
   "cell_type": "code",
   "execution_count": 149,
   "metadata": {},
   "outputs": [
    {
     "data": {
      "text/plain": [
       "communal standpipe             28522\n",
       "hand pump                      17488\n",
       "other                           6380\n",
       "communal standpipe multiple     6103\n",
       "improved spring                  784\n",
       "cattle trough                    116\n",
       "dam                                7\n",
       "Name: waterpoint_type, dtype: int64"
      ]
     },
     "execution_count": 149,
     "metadata": {},
     "output_type": "execute_result"
    }
   ],
   "source": [
    "source_df.waterpoint_type.value_counts()"
   ]
  },
  {
   "cell_type": "code",
   "execution_count": 150,
   "metadata": {},
   "outputs": [
    {
     "data": {
      "text/plain": [
       "communal standpipe    34625\n",
       "hand pump             17488\n",
       "other                  6380\n",
       "improved spring         784\n",
       "cattle trough           116\n",
       "dam                       7\n",
       "Name: waterpoint_type_group, dtype: int64"
      ]
     },
     "execution_count": 150,
     "metadata": {},
     "output_type": "execute_result"
    }
   ],
   "source": [
    "source_df.waterpoint_type_group.value_counts()"
   ]
  },
  {
   "cell_type": "markdown",
   "metadata": {},
   "source": [
    "**Data cleaning: **These columns are redundant, with communal standpipe being divided into 2 categories in the waterpoint_type column. I can drop one of them.\n",
    "I keep waterpoint_type_group, categorize it, and drop waterpoint_type."
   ]
  },
  {
   "cell_type": "code",
   "execution_count": 151,
   "metadata": {
    "collapsed": true
   },
   "outputs": [],
   "source": [
    "col_to_drop.append('waterpoint_type')\n",
    "clean_df.waterpoint_type_group = source_df.waterpoint_type_group.astype('category').cat.codes"
   ]
  },
  {
   "cell_type": "code",
   "execution_count": 152,
   "metadata": {
    "scrolled": true
   },
   "outputs": [
    {
     "name": "stderr",
     "output_type": "stream",
     "text": [
      "/Users/tisonbertrand/anaconda3/lib/python3.6/site-packages/ipykernel_launcher.py:6: SettingWithCopyWarning: \n",
      "A value is trying to be set on a copy of a slice from a DataFrame.\n",
      "Try using .loc[row_indexer,col_indexer] = value instead\n",
      "\n",
      "See the caveats in the documentation: http://pandas.pydata.org/pandas-docs/stable/indexing.html#indexing-view-versus-copy\n",
      "  \n"
     ]
    }
   ],
   "source": [
    "waterpoint_type_group_df = freq_dist_table(source_df,'waterpoint_type_group')"
   ]
  },
  {
   "cell_type": "code",
   "execution_count": 153,
   "metadata": {
    "scrolled": false
   },
   "outputs": [
    {
     "data": {
      "image/png": "[encoded data removed]",
      "text/plain": [
       "<Figure size 1080x720 with 1 Axes>"
      ]
     },
     "metadata": {},
     "output_type": "display_data"
    }
   ],
   "source": [
    "plot_distribution(waterpoint_type_group_df)"
   ]
  },
  {
   "cell_type": "markdown",
   "metadata": {},
   "source": [
    "Calculate the chi-square test for independence. "
   ]
  },
  {
   "cell_type": "code",
   "execution_count": 154,
   "metadata": {},
   "outputs": [
    {
     "name": "stdout",
     "output_type": "stream",
     "text": [
      "chi2: 6114.774218, p_value: 0.000000\n"
     ]
    }
   ],
   "source": [
    "chi2, p, dof, expected = chi2_contingency(waterpoint_type_group_df.values)\n",
    "print(\"chi2: {:f}, p_value: {:f}\".format(chi2,p))"
   ]
  },
  {
   "cell_type": "markdown",
   "metadata": {},
   "source": [
    "p_value is less than 0.05, so we can reject the null hypothesis.\n",
    "The operational status is related to the waterpoint type group."
   ]
  },
  {
   "cell_type": "markdown",
   "metadata": {},
   "source": [
    "## status_group"
   ]
  },
  {
   "cell_type": "code",
   "execution_count": 155,
   "metadata": {
    "scrolled": true
   },
   "outputs": [
    {
     "data": {
      "image/png": "[encoded data removed]",
      "text/plain": [
       "<Figure size 432x288 with 1 Axes>"
      ]
     },
     "metadata": {},
     "output_type": "display_data"
    }
   ],
   "source": [
    "plot_s = source_df.status_group.value_counts().sort_index()\n",
    "plt.pie(plot_s.values,labels=plot_s.index.values,colors=['green','orange','red'], autopct='%1.1f%%')\n",
    "plt.show()"
   ]
  },
  {
   "cell_type": "code",
   "execution_count": 156,
   "metadata": {},
   "outputs": [
    {
     "data": {
      "text/plain": [
       "functional                 32259\n",
       "functional needs repair     4317\n",
       "non functional             22824\n",
       "Name: status_group, dtype: int64"
      ]
     },
     "execution_count": 156,
     "metadata": {},
     "output_type": "execute_result"
    }
   ],
   "source": [
    "plot_s"
   ]
  },
  {
   "cell_type": "markdown",
   "metadata": {},
   "source": [
    "The labels are not balanced, there is very few functional needs repair.\n",
    "This means accuracy is not a good metric, and we should use another metric like log loss to evaluate the model."
   ]
  },
  {
   "cell_type": "code",
   "execution_count": 157,
   "metadata": {
    "collapsed": true
   },
   "outputs": [],
   "source": [
    "status_group_type = pd.CategoricalDtype(categories=['non functional','functional needs repair',\n",
    "                                                    'functional'], ordered=True)\n",
    "clean_df.status_group = source_df.status_group.astype(status_group_type).cat.codes"
   ]
  },
  {
   "cell_type": "markdown",
   "metadata": {},
   "source": [
    "## Finish cleaning, scale and check dataframe"
   ]
  },
  {
   "cell_type": "code",
   "execution_count": 158,
   "metadata": {
    "collapsed": true
   },
   "outputs": [],
   "source": [
    "# Drop columns\n",
    "clean_df.drop(columns=col_to_drop,inplace=True)"
   ]
  },
  {
   "cell_type": "code",
   "execution_count": 159,
   "metadata": {
    "collapsed": true
   },
   "outputs": [],
   "source": [
    "# Scale columns\n",
    "s = StandardScaler()\n",
    "scaled_array = s.fit_transform(clean_df[col_to_scale].astype(float))\n",
    "scaled_df = pd.DataFrame(scaled_array, index=clean_df.index, columns=col_to_scale)\n",
    "\n",
    "clean_df.drop(columns=col_to_scale, inplace=True)\n",
    "clean_df = pd.concat([clean_df, scaled_df], axis='columns')"
   ]
  },
  {
   "cell_type": "code",
   "execution_count": 160,
   "metadata": {},
   "outputs": [
    {
     "data": {
      "text/html": [
       "<div>\n",
       "<style scoped>\n",
       "    .dataframe tbody tr th:only-of-type {\n",
       "        vertical-align: middle;\n",
       "    }\n",
       "\n",
       "    .dataframe tbody tr th {\n",
       "        vertical-align: top;\n",
       "    }\n",
       "\n",
       "    .dataframe thead th {\n",
       "        text-align: right;\n",
       "    }\n",
       "</style>\n",
       "<table border=\"1\" class=\"dataframe\">\n",
       "  <thead>\n",
       "    <tr style=\"text-align: right;\">\n",
       "      <th></th>\n",
       "      <th>funder</th>\n",
       "      <th>installer</th>\n",
       "      <th>basin</th>\n",
       "      <th>region</th>\n",
       "      <th>district_code</th>\n",
       "      <th>lga</th>\n",
       "      <th>ward</th>\n",
       "      <th>public_meeting</th>\n",
       "      <th>permit</th>\n",
       "      <th>extraction_type_class</th>\n",
       "      <th>...</th>\n",
       "      <th>quantity</th>\n",
       "      <th>source_type</th>\n",
       "      <th>waterpoint_type_group</th>\n",
       "      <th>status_group</th>\n",
       "      <th>amount_tsh</th>\n",
       "      <th>gps_height</th>\n",
       "      <th>latitude</th>\n",
       "      <th>longitude</th>\n",
       "      <th>population</th>\n",
       "      <th>construction_year</th>\n",
       "    </tr>\n",
       "    <tr>\n",
       "      <th>id</th>\n",
       "      <th></th>\n",
       "      <th></th>\n",
       "      <th></th>\n",
       "      <th></th>\n",
       "      <th></th>\n",
       "      <th></th>\n",
       "      <th></th>\n",
       "      <th></th>\n",
       "      <th></th>\n",
       "      <th></th>\n",
       "      <th></th>\n",
       "      <th></th>\n",
       "      <th></th>\n",
       "      <th></th>\n",
       "      <th></th>\n",
       "      <th></th>\n",
       "      <th></th>\n",
       "      <th></th>\n",
       "      <th></th>\n",
       "      <th></th>\n",
       "      <th></th>\n",
       "    </tr>\n",
       "  </thead>\n",
       "  <tbody>\n",
       "    <tr>\n",
       "      <th>69572</th>\n",
       "      <td>37</td>\n",
       "      <td>34</td>\n",
       "      <td>1</td>\n",
       "      <td>3</td>\n",
       "      <td>5</td>\n",
       "      <td>51</td>\n",
       "      <td>50</td>\n",
       "      <td>True</td>\n",
       "      <td>False</td>\n",
       "      <td>0</td>\n",
       "      <td>...</td>\n",
       "      <td>4</td>\n",
       "      <td>6</td>\n",
       "      <td>1</td>\n",
       "      <td>2</td>\n",
       "      <td>1.895665</td>\n",
       "      <td>1.041252</td>\n",
       "      <td>-1.443930</td>\n",
       "      <td>-0.058426</td>\n",
       "      <td>-0.273835</td>\n",
       "      <td>0.217105</td>\n",
       "    </tr>\n",
       "    <tr>\n",
       "      <th>8776</th>\n",
       "      <td>30</td>\n",
       "      <td>31</td>\n",
       "      <td>4</td>\n",
       "      <td>9</td>\n",
       "      <td>2</td>\n",
       "      <td>103</td>\n",
       "      <td>50</td>\n",
       "      <td>False</td>\n",
       "      <td>True</td>\n",
       "      <td>0</td>\n",
       "      <td>...</td>\n",
       "      <td>2</td>\n",
       "      <td>3</td>\n",
       "      <td>1</td>\n",
       "      <td>2</td>\n",
       "      <td>-0.105970</td>\n",
       "      <td>1.054237</td>\n",
       "      <td>1.300721</td>\n",
       "      <td>-0.150839</td>\n",
       "      <td>0.101064</td>\n",
       "      <td>1.309926</td>\n",
       "    </tr>\n",
       "    <tr>\n",
       "      <th>34310</th>\n",
       "      <td>30</td>\n",
       "      <td>48</td>\n",
       "      <td>5</td>\n",
       "      <td>8</td>\n",
       "      <td>4</td>\n",
       "      <td>108</td>\n",
       "      <td>50</td>\n",
       "      <td>True</td>\n",
       "      <td>True</td>\n",
       "      <td>0</td>\n",
       "      <td>...</td>\n",
       "      <td>4</td>\n",
       "      <td>1</td>\n",
       "      <td>1</td>\n",
       "      <td>2</td>\n",
       "      <td>-0.097630</td>\n",
       "      <td>0.025541</td>\n",
       "      <td>0.704761</td>\n",
       "      <td>0.915636</td>\n",
       "      <td>0.035292</td>\n",
       "      <td>1.210578</td>\n",
       "    </tr>\n",
       "    <tr>\n",
       "      <th>67743</th>\n",
       "      <td>44</td>\n",
       "      <td>42</td>\n",
       "      <td>7</td>\n",
       "      <td>12</td>\n",
       "      <td>17</td>\n",
       "      <td>87</td>\n",
       "      <td>50</td>\n",
       "      <td>True</td>\n",
       "      <td>True</td>\n",
       "      <td>5</td>\n",
       "      <td>...</td>\n",
       "      <td>1</td>\n",
       "      <td>0</td>\n",
       "      <td>1</td>\n",
       "      <td>0</td>\n",
       "      <td>-0.105970</td>\n",
       "      <td>-0.584751</td>\n",
       "      <td>-1.906416</td>\n",
       "      <td>1.311620</td>\n",
       "      <td>-0.385647</td>\n",
       "      <td>-1.074410</td>\n",
       "    </tr>\n",
       "    <tr>\n",
       "      <th>19728</th>\n",
       "      <td>30</td>\n",
       "      <td>31</td>\n",
       "      <td>4</td>\n",
       "      <td>4</td>\n",
       "      <td>1</td>\n",
       "      <td>26</td>\n",
       "      <td>50</td>\n",
       "      <td>True</td>\n",
       "      <td>True</td>\n",
       "      <td>0</td>\n",
       "      <td>...</td>\n",
       "      <td>3</td>\n",
       "      <td>3</td>\n",
       "      <td>1</td>\n",
       "      <td>2</td>\n",
       "      <td>-0.105970</td>\n",
       "      <td>-0.964200</td>\n",
       "      <td>1.415403</td>\n",
       "      <td>-1.528549</td>\n",
       "      <td>-0.183947</td>\n",
       "      <td>0.000000</td>\n",
       "    </tr>\n",
       "  </tbody>\n",
       "</table>\n",
       "<p>5 rows × 23 columns</p>\n",
       "</div>"
      ],
      "text/plain": [
       "       funder  installer  basin  region  district_code  lga  ward  \\\n",
       "id                                                                  \n",
       "69572      37         34      1       3              5   51    50   \n",
       "8776       30         31      4       9              2  103    50   \n",
       "34310      30         48      5       8              4  108    50   \n",
       "67743      44         42      7      12             17   87    50   \n",
       "19728      30         31      4       4              1   26    50   \n",
       "\n",
       "       public_meeting  permit  extraction_type_class  ...  quantity  \\\n",
       "id                                                    ...             \n",
       "69572            True   False                      0  ...         4   \n",
       "8776            False    True                      0  ...         2   \n",
       "34310            True    True                      0  ...         4   \n",
       "67743            True    True                      5  ...         1   \n",
       "19728            True    True                      0  ...         3   \n",
       "\n",
       "       source_type  waterpoint_type_group  status_group  amount_tsh  \\\n",
       "id                                                                    \n",
       "69572            6                      1             2    1.895665   \n",
       "8776             3                      1             2   -0.105970   \n",
       "34310            1                      1             2   -0.097630   \n",
       "67743            0                      1             0   -0.105970   \n",
       "19728            3                      1             2   -0.105970   \n",
       "\n",
       "       gps_height  latitude  longitude  population  construction_year  \n",
       "id                                                                     \n",
       "69572    1.041252 -1.443930  -0.058426   -0.273835           0.217105  \n",
       "8776     1.054237  1.300721  -0.150839    0.101064           1.309926  \n",
       "34310    0.025541  0.704761   0.915636    0.035292           1.210578  \n",
       "67743   -0.584751 -1.906416   1.311620   -0.385647          -1.074410  \n",
       "19728   -0.964200  1.415403  -1.528549   -0.183947           0.000000  \n",
       "\n",
       "[5 rows x 23 columns]"
      ]
     },
     "execution_count": 160,
     "metadata": {},
     "output_type": "execute_result"
    }
   ],
   "source": [
    "clean_df.head()"
   ]
  },
  {
   "cell_type": "code",
   "execution_count": 161,
   "metadata": {},
   "outputs": [
    {
     "data": {
      "text/html": [
       "<div>\n",
       "<style scoped>\n",
       "    .dataframe tbody tr th:only-of-type {\n",
       "        vertical-align: middle;\n",
       "    }\n",
       "\n",
       "    .dataframe tbody tr th {\n",
       "        vertical-align: top;\n",
       "    }\n",
       "\n",
       "    .dataframe thead th {\n",
       "        text-align: right;\n",
       "    }\n",
       "</style>\n",
       "<table border=\"1\" class=\"dataframe\">\n",
       "  <thead>\n",
       "    <tr style=\"text-align: right;\">\n",
       "      <th></th>\n",
       "      <th>funder</th>\n",
       "      <th>installer</th>\n",
       "      <th>basin</th>\n",
       "      <th>region</th>\n",
       "      <th>district_code</th>\n",
       "      <th>lga</th>\n",
       "      <th>ward</th>\n",
       "      <th>extraction_type_class</th>\n",
       "      <th>management</th>\n",
       "      <th>payment</th>\n",
       "      <th>...</th>\n",
       "      <th>quantity</th>\n",
       "      <th>source_type</th>\n",
       "      <th>waterpoint_type_group</th>\n",
       "      <th>status_group</th>\n",
       "      <th>amount_tsh</th>\n",
       "      <th>gps_height</th>\n",
       "      <th>latitude</th>\n",
       "      <th>longitude</th>\n",
       "      <th>population</th>\n",
       "      <th>construction_year</th>\n",
       "    </tr>\n",
       "  </thead>\n",
       "  <tbody>\n",
       "    <tr>\n",
       "      <th>count</th>\n",
       "      <td>59400.000000</td>\n",
       "      <td>59400.000000</td>\n",
       "      <td>59400.000000</td>\n",
       "      <td>59400.000000</td>\n",
       "      <td>59400.000000</td>\n",
       "      <td>59400.000000</td>\n",
       "      <td>59400.000000</td>\n",
       "      <td>59400.000000</td>\n",
       "      <td>59400.000000</td>\n",
       "      <td>59400.000000</td>\n",
       "      <td>...</td>\n",
       "      <td>59400.000000</td>\n",
       "      <td>59400.000000</td>\n",
       "      <td>59400.000000</td>\n",
       "      <td>59400.000000</td>\n",
       "      <td>5.940000e+04</td>\n",
       "      <td>5.940000e+04</td>\n",
       "      <td>5.940000e+04</td>\n",
       "      <td>5.940000e+04</td>\n",
       "      <td>5.940000e+04</td>\n",
       "      <td>5.940000e+04</td>\n",
       "    </tr>\n",
       "    <tr>\n",
       "      <th>mean</th>\n",
       "      <td>25.328283</td>\n",
       "      <td>22.117980</td>\n",
       "      <td>4.077172</td>\n",
       "      <td>9.835606</td>\n",
       "      <td>3.867424</td>\n",
       "      <td>60.039882</td>\n",
       "      <td>46.834310</td>\n",
       "      <td>1.264663</td>\n",
       "      <td>6.329630</td>\n",
       "      <td>1.631397</td>\n",
       "      <td>...</td>\n",
       "      <td>3.053838</td>\n",
       "      <td>3.970556</td>\n",
       "      <td>2.056212</td>\n",
       "      <td>1.158838</td>\n",
       "      <td>5.364466e-16</td>\n",
       "      <td>1.731275e-16</td>\n",
       "      <td>-1.474129e-17</td>\n",
       "      <td>-1.824739e-15</td>\n",
       "      <td>-8.206950e-16</td>\n",
       "      <td>1.200951e-15</td>\n",
       "    </tr>\n",
       "    <tr>\n",
       "      <th>std</th>\n",
       "      <td>12.457092</td>\n",
       "      <td>11.366086</td>\n",
       "      <td>2.473082</td>\n",
       "      <td>5.936892</td>\n",
       "      <td>2.992263</td>\n",
       "      <td>35.244499</td>\n",
       "      <td>9.869179</td>\n",
       "      <td>1.626676</td>\n",
       "      <td>1.917857</td>\n",
       "      <td>1.750428</td>\n",
       "      <td>...</td>\n",
       "      <td>1.162179</td>\n",
       "      <td>2.191798</td>\n",
       "      <td>1.378937</td>\n",
       "      <td>0.949794</td>\n",
       "      <td>1.000008e+00</td>\n",
       "      <td>1.000008e+00</td>\n",
       "      <td>1.000008e+00</td>\n",
       "      <td>1.000008e+00</td>\n",
       "      <td>1.000008e+00</td>\n",
       "      <td>1.000008e+00</td>\n",
       "    </tr>\n",
       "    <tr>\n",
       "      <th>min</th>\n",
       "      <td>0.000000</td>\n",
       "      <td>0.000000</td>\n",
       "      <td>0.000000</td>\n",
       "      <td>0.000000</td>\n",
       "      <td>0.000000</td>\n",
       "      <td>0.000000</td>\n",
       "      <td>0.000000</td>\n",
       "      <td>0.000000</td>\n",
       "      <td>0.000000</td>\n",
       "      <td>0.000000</td>\n",
       "      <td>...</td>\n",
       "      <td>0.000000</td>\n",
       "      <td>0.000000</td>\n",
       "      <td>0.000000</td>\n",
       "      <td>0.000000</td>\n",
       "      <td>-1.059700e-01</td>\n",
       "      <td>-1.094050e+00</td>\n",
       "      <td>-2.082350e+00</td>\n",
       "      <td>-2.116918e+00</td>\n",
       "      <td>-5.106136e-01</td>\n",
       "      <td>-3.657441e+00</td>\n",
       "    </tr>\n",
       "    <tr>\n",
       "      <th>25%</th>\n",
       "      <td>15.000000</td>\n",
       "      <td>14.000000</td>\n",
       "      <td>2.000000</td>\n",
       "      <td>4.000000</td>\n",
       "      <td>2.000000</td>\n",
       "      <td>30.000000</td>\n",
       "      <td>50.000000</td>\n",
       "      <td>0.000000</td>\n",
       "      <td>6.000000</td>\n",
       "      <td>0.000000</td>\n",
       "      <td>...</td>\n",
       "      <td>2.000000</td>\n",
       "      <td>3.000000</td>\n",
       "      <td>1.000000</td>\n",
       "      <td>0.000000</td>\n",
       "      <td>-1.059700e-01</td>\n",
       "      <td>-9.642001e-01</td>\n",
       "      <td>-9.754900e-01</td>\n",
       "      <td>-7.164003e-01</td>\n",
       "      <td>-2.935667e-01</td>\n",
       "      <td>-8.093684e-02</td>\n",
       "    </tr>\n",
       "    <tr>\n",
       "      <th>50%</th>\n",
       "      <td>30.000000</td>\n",
       "      <td>18.000000</td>\n",
       "      <td>4.000000</td>\n",
       "      <td>10.000000</td>\n",
       "      <td>3.000000</td>\n",
       "      <td>60.000000</td>\n",
       "      <td>50.000000</td>\n",
       "      <td>1.000000</td>\n",
       "      <td>6.000000</td>\n",
       "      <td>1.000000</td>\n",
       "      <td>...</td>\n",
       "      <td>4.000000</td>\n",
       "      <td>5.000000</td>\n",
       "      <td>1.000000</td>\n",
       "      <td>2.000000</td>\n",
       "      <td>-1.059700e-01</td>\n",
       "      <td>-4.318175e-01</td>\n",
       "      <td>2.774190e-01</td>\n",
       "      <td>-6.975843e-02</td>\n",
       "      <td>-1.839471e-01</td>\n",
       "      <td>0.000000e+00</td>\n",
       "    </tr>\n",
       "    <tr>\n",
       "      <th>75%</th>\n",
       "      <td>30.000000</td>\n",
       "      <td>31.000000</td>\n",
       "      <td>6.000000</td>\n",
       "      <td>15.000000</td>\n",
       "      <td>5.000000</td>\n",
       "      <td>91.000000</td>\n",
       "      <td>50.000000</td>\n",
       "      <td>2.000000</td>\n",
       "      <td>6.000000</td>\n",
       "      <td>3.000000</td>\n",
       "      <td>...</td>\n",
       "      <td>4.000000</td>\n",
       "      <td>6.000000</td>\n",
       "      <td>3.000000</td>\n",
       "      <td>2.000000</td>\n",
       "      <td>-9.929791e-02</td>\n",
       "      <td>9.391760e-01</td>\n",
       "      <td>8.698735e-01</td>\n",
       "      <td>8.066379e-01</td>\n",
       "      <td>-4.144151e-02</td>\n",
       "      <td>7.138418e-01</td>\n",
       "    </tr>\n",
       "    <tr>\n",
       "      <th>max</th>\n",
       "      <td>50.000000</td>\n",
       "      <td>49.000000</td>\n",
       "      <td>8.000000</td>\n",
       "      <td>20.000000</td>\n",
       "      <td>19.000000</td>\n",
       "      <td>124.000000</td>\n",
       "      <td>50.000000</td>\n",
       "      <td>6.000000</td>\n",
       "      <td>10.000000</td>\n",
       "      <td>5.000000</td>\n",
       "      <td>...</td>\n",
       "      <td>4.000000</td>\n",
       "      <td>6.000000</td>\n",
       "      <td>5.000000</td>\n",
       "      <td>2.000000</td>\n",
       "      <td>1.166561e+02</td>\n",
       "      <td>3.032277e+00</td>\n",
       "      <td>1.709810e+00</td>\n",
       "      <td>2.029463e+00</td>\n",
       "      <td>6.635518e+01</td>\n",
       "      <td>1.607968e+00</td>\n",
       "    </tr>\n",
       "  </tbody>\n",
       "</table>\n",
       "<p>8 rows × 21 columns</p>\n",
       "</div>"
      ],
      "text/plain": [
       "             funder     installer         basin        region  district_code  \\\n",
       "count  59400.000000  59400.000000  59400.000000  59400.000000   59400.000000   \n",
       "mean      25.328283     22.117980      4.077172      9.835606       3.867424   \n",
       "std       12.457092     11.366086      2.473082      5.936892       2.992263   \n",
       "min        0.000000      0.000000      0.000000      0.000000       0.000000   \n",
       "25%       15.000000     14.000000      2.000000      4.000000       2.000000   \n",
       "50%       30.000000     18.000000      4.000000     10.000000       3.000000   \n",
       "75%       30.000000     31.000000      6.000000     15.000000       5.000000   \n",
       "max       50.000000     49.000000      8.000000     20.000000      19.000000   \n",
       "\n",
       "                lga          ward  extraction_type_class    management  \\\n",
       "count  59400.000000  59400.000000           59400.000000  59400.000000   \n",
       "mean      60.039882     46.834310               1.264663      6.329630   \n",
       "std       35.244499      9.869179               1.626676      1.917857   \n",
       "min        0.000000      0.000000               0.000000      0.000000   \n",
       "25%       30.000000     50.000000               0.000000      6.000000   \n",
       "50%       60.000000     50.000000               1.000000      6.000000   \n",
       "75%       91.000000     50.000000               2.000000      6.000000   \n",
       "max      124.000000     50.000000               6.000000     10.000000   \n",
       "\n",
       "            payment  ...      quantity   source_type  waterpoint_type_group  \\\n",
       "count  59400.000000  ...  59400.000000  59400.000000           59400.000000   \n",
       "mean       1.631397  ...      3.053838      3.970556               2.056212   \n",
       "std        1.750428  ...      1.162179      2.191798               1.378937   \n",
       "min        0.000000  ...      0.000000      0.000000               0.000000   \n",
       "25%        0.000000  ...      2.000000      3.000000               1.000000   \n",
       "50%        1.000000  ...      4.000000      5.000000               1.000000   \n",
       "75%        3.000000  ...      4.000000      6.000000               3.000000   \n",
       "max        5.000000  ...      4.000000      6.000000               5.000000   \n",
       "\n",
       "       status_group    amount_tsh    gps_height      latitude     longitude  \\\n",
       "count  59400.000000  5.940000e+04  5.940000e+04  5.940000e+04  5.940000e+04   \n",
       "mean       1.158838  5.364466e-16  1.731275e-16 -1.474129e-17 -1.824739e-15   \n",
       "std        0.949794  1.000008e+00  1.000008e+00  1.000008e+00  1.000008e+00   \n",
       "min        0.000000 -1.059700e-01 -1.094050e+00 -2.082350e+00 -2.116918e+00   \n",
       "25%        0.000000 -1.059700e-01 -9.642001e-01 -9.754900e-01 -7.164003e-01   \n",
       "50%        2.000000 -1.059700e-01 -4.318175e-01  2.774190e-01 -6.975843e-02   \n",
       "75%        2.000000 -9.929791e-02  9.391760e-01  8.698735e-01  8.066379e-01   \n",
       "max        2.000000  1.166561e+02  3.032277e+00  1.709810e+00  2.029463e+00   \n",
       "\n",
       "         population  construction_year  \n",
       "count  5.940000e+04       5.940000e+04  \n",
       "mean  -8.206950e-16       1.200951e-15  \n",
       "std    1.000008e+00       1.000008e+00  \n",
       "min   -5.106136e-01      -3.657441e+00  \n",
       "25%   -2.935667e-01      -8.093684e-02  \n",
       "50%   -1.839471e-01       0.000000e+00  \n",
       "75%   -4.144151e-02       7.138418e-01  \n",
       "max    6.635518e+01       1.607968e+00  \n",
       "\n",
       "[8 rows x 21 columns]"
      ]
     },
     "execution_count": 161,
     "metadata": {},
     "output_type": "execute_result"
    }
   ],
   "source": [
    "clean_df.describe()"
   ]
  },
  {
   "cell_type": "code",
   "execution_count": 162,
   "metadata": {},
   "outputs": [
    {
     "name": "stdout",
     "output_type": "stream",
     "text": [
      "<class 'pandas.core.frame.DataFrame'>\n",
      "Int64Index: 59400 entries, 69572 to 26348\n",
      "Data columns (total 23 columns):\n",
      "funder                   59400 non-null int8\n",
      "installer                59400 non-null int8\n",
      "basin                    59400 non-null int8\n",
      "region                   59400 non-null int8\n",
      "district_code            59400 non-null int8\n",
      "lga                      59400 non-null int8\n",
      "ward                     59400 non-null int8\n",
      "public_meeting           59400 non-null bool\n",
      "permit                   59400 non-null bool\n",
      "extraction_type_class    59400 non-null int8\n",
      "management               59400 non-null int8\n",
      "payment                  59400 non-null int8\n",
      "quality_group            59400 non-null int8\n",
      "quantity                 59400 non-null int8\n",
      "source_type              59400 non-null int8\n",
      "waterpoint_type_group    59400 non-null int8\n",
      "status_group             59400 non-null int8\n",
      "amount_tsh               59400 non-null float64\n",
      "gps_height               59400 non-null float64\n",
      "latitude                 59400 non-null float64\n",
      "longitude                59400 non-null float64\n",
      "population               59400 non-null float64\n",
      "construction_year        59400 non-null float64\n",
      "dtypes: bool(2), float64(6), int8(15)\n",
      "memory usage: 4.1 MB\n"
     ]
    }
   ],
   "source": [
    "clean_df.info()"
   ]
  },
  {
   "cell_type": "markdown",
   "metadata": {},
   "source": [
    "## Save dataframe to csv file"
   ]
  },
  {
   "cell_type": "code",
   "execution_count": 163,
   "metadata": {},
   "outputs": [],
   "source": [
    "clean_df.to_csv('../Data/Clean_DF.csv')"
   ]
  }
 ],
 "metadata": {
  "kernelspec": {
   "display_name": "Python 3",
   "language": "python",
   "name": "python3"
  },
  "language_info": {
   "codemirror_mode": {
    "name": "ipython",
    "version": 3
   },
   "file_extension": ".py",
   "mimetype": "text/x-python",
   "name": "python",
   "nbconvert_exporter": "python",
   "pygments_lexer": "ipython3",
   "version": "3.6.8"
  }
 },
 "nbformat": 4,
 "nbformat_minor": 2
}
